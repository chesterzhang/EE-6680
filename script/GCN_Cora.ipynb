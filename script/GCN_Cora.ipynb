{
 "cells": [
  {
   "cell_type": "markdown",
   "metadata": {
    "toc": true
   },
   "source": [
    "<h1>Table of Contents<span class=\"tocSkip\"></span></h1>\n",
    "<div class=\"toc\"><ul class=\"toc-item\"><li><span><a href=\"#基于Cora数据集的GCN节点分类\" data-toc-modified-id=\"基于Cora数据集的GCN节点分类-1\"><span class=\"toc-item-num\">1&nbsp;&nbsp;</span>基于Cora数据集的GCN节点分类</a></span><ul class=\"toc-item\"><li><span><a href=\"#SetUp\" data-toc-modified-id=\"SetUp-1.1\"><span class=\"toc-item-num\">1.1&nbsp;&nbsp;</span>SetUp</a></span></li><li><span><a href=\"#数据准备\" data-toc-modified-id=\"数据准备-1.2\"><span class=\"toc-item-num\">1.2&nbsp;&nbsp;</span>数据准备</a></span></li><li><span><a href=\"#图卷积层定义\" data-toc-modified-id=\"图卷积层定义-1.3\"><span class=\"toc-item-num\">1.3&nbsp;&nbsp;</span>图卷积层定义</a></span></li><li><span><a href=\"#模型定义\" data-toc-modified-id=\"模型定义-1.4\"><span class=\"toc-item-num\">1.4&nbsp;&nbsp;</span>模型定义</a></span></li><li><span><a href=\"#模型训练\" data-toc-modified-id=\"模型训练-1.5\"><span class=\"toc-item-num\">1.5&nbsp;&nbsp;</span>模型训练</a></span></li></ul></li></ul></div>"
   ]
  },
  {
   "cell_type": "markdown",
   "metadata": {},
   "source": [
    "# 基于Cora数据集的GCN节点分类"
   ]
  },
  {
   "cell_type": "markdown",
   "metadata": {
    "pycharm": {
     "name": "#%% md\n"
    }
   },
   "source": [
    "<table align=\"left\">\n",
    "  <td>\n",
    "    <a target=\"_blank\" href=\"https://colab.research.google.com/github/FighterLYL/GraphNeuralNetwork/blob/master/chapter5/GCN_Cora.ipynb\"><img src=\"https://www.tensorflow.org/images/colab_logo_32px.png\" />Run in Google Colab</a>\n",
    "  </td>\n",
    "</table>"
   ]
  },
  {
   "cell_type": "markdown",
   "metadata": {
    "pycharm": {
     "name": "#%% md\n"
    }
   },
   "source": [
    "在Colab中运行时可以通过`代码执行程序->更改运行时类型`选择使用`GPU`"
   ]
  },
  {
   "cell_type": "markdown",
   "metadata": {},
   "source": [
    "## SetUp"
   ]
  },
  {
   "cell_type": "code",
   "execution_count": 1,
   "metadata": {},
   "outputs": [],
   "source": [
    "import itertools\n",
    "import os\n",
    "import os.path as osp\n",
    "import pickle\n",
    "import urllib\n",
    "from collections import namedtuple\n",
    "\n",
    "import numpy as np\n",
    "import scipy.sparse as sp\n",
    "import torch\n",
    "import torch.nn as nn\n",
    "import torch.nn.functional as F\n",
    "import torch.nn.init as init\n",
    "import torch.optim as optim\n",
    "import matplotlib.pyplot as plt\n",
    "%matplotlib inline"
   ]
  },
  {
   "cell_type": "markdown",
   "metadata": {},
   "source": [
    "## 数据准备"
   ]
  },
  {
   "cell_type": "code",
   "execution_count": 2,
   "metadata": {},
   "outputs": [],
   "source": [
    "Data = namedtuple('Data', ['x', 'y', 'adjacency',\n",
    "                           'train_mask', 'val_mask', 'test_mask'])\n",
    "\n",
    "\n",
    "def tensor_from_numpy(x, device):\n",
    "    return torch.from_numpy(x).to(device)\n",
    "\n",
    "\n",
    "class CoraData(object):\n",
    "    filenames = [\"ind.cora.{}\".format(name) for name in\n",
    "                 ['x', 'tx', 'allx', 'y', 'ty', 'ally', 'graph', 'test.index']]\n",
    "\n",
    "    def __init__(self, data_root=\"../data/cora\", rebuild=False):\n",
    "        \"\"\"Cora数据，包括数据下载，处理，加载等功能\n",
    "        当数据的缓存文件存在时，将使用缓存文件，否则将下载、进行处理，并缓存到磁盘\n",
    "\n",
    "        处理之后的数据可以通过属性 .data 获得，它将返回一个数据对象，包括如下几部分：\n",
    "            * x: 节点的特征，维度为 2708 * 1433，类型为 np.ndarray\n",
    "            * y: 节点的标签，总共包括7个类别，类型为 np.ndarray\n",
    "            * adjacency: 邻接矩阵，维度为 2708 * 2708，类型为 scipy.sparse.coo.coo_matrix\n",
    "            * train_mask: 训练集掩码向量，维度为 2708，当节点属于训练集时，相应位置为True，否则False\n",
    "            * val_mask: 验证集掩码向量，维度为 2708，当节点属于验证集时，相应位置为True，否则False\n",
    "            * test_mask: 测试集掩码向量，维度为 2708，当节点属于测试集时，相应位置为True，否则False\n",
    "\n",
    "        Args:\n",
    "        -------\n",
    "            data_root: string, optional\n",
    "                存放数据的目录，原始数据路径: ../data/cora\n",
    "                缓存数据路径: {data_root}/ch5_cached.pkl\n",
    "            rebuild: boolean, optional\n",
    "                是否需要重新构建数据集，当设为True时，如果存在缓存数据也会重建数据\n",
    "\n",
    "        \"\"\"\n",
    "        self.data_root = data_root\n",
    "        save_file = osp.join(self.data_root, \"ch5_cached.pkl\")\n",
    "        if osp.exists(save_file) and not rebuild:\n",
    "            print(\"Using Cached file: {}\".format(save_file))\n",
    "            self._data = pickle.load(open(save_file, \"rb\"))\n",
    "        else:\n",
    "            self._data = self.process_data()\n",
    "            with open(save_file, \"wb\") as f:\n",
    "                pickle.dump(self.data, f)\n",
    "            print(\"Cached file: {}\".format(save_file))\n",
    "    \n",
    "    @property\n",
    "    def data(self):\n",
    "        \"\"\"返回Data数据对象，包括x, y, adjacency, train_mask, val_mask, test_mask\"\"\"\n",
    "        return self._data\n",
    "\n",
    "    def process_data(self):\n",
    "        \"\"\"\n",
    "        处理数据，得到节点特征和标签，邻接矩阵，训练集、验证集以及测试集\n",
    "        引用自：https://github.com/rusty1s/pytorch_geometric\n",
    "        \"\"\"\n",
    "        print(\"Process data ...\")\n",
    "        _, tx, allx, y, ty, ally, graph, test_index = [self.read_data(\n",
    "            osp.join(self.data_root, name)) for name in self.filenames]\n",
    "        train_index = np.arange(y.shape[0])\n",
    "        val_index = np.arange(y.shape[0], y.shape[0] + 500)\n",
    "        sorted_test_index = sorted(test_index)\n",
    "\n",
    "        x = np.concatenate((allx, tx), axis=0)\n",
    "        y = np.concatenate((ally, ty), axis=0).argmax(axis=1)\n",
    "\n",
    "        x[test_index] = x[sorted_test_index]\n",
    "        y[test_index] = y[sorted_test_index]\n",
    "        num_nodes = x.shape[0]\n",
    "\n",
    "        train_mask = np.zeros(num_nodes, dtype=np.bool)\n",
    "        val_mask = np.zeros(num_nodes, dtype=np.bool)\n",
    "        test_mask = np.zeros(num_nodes, dtype=np.bool)\n",
    "        train_mask[train_index] = True\n",
    "        val_mask[val_index] = True\n",
    "        test_mask[test_index] = True\n",
    "        adjacency = self.build_adjacency(graph)\n",
    "        print(\"Node's feature shape: \", x.shape)\n",
    "        print(\"Node's label shape: \", y.shape)\n",
    "        print(\"Adjacency's shape: \", adjacency.shape)\n",
    "        print(\"Number of training nodes: \", train_mask.sum())\n",
    "        print(\"Number of validation nodes: \", val_mask.sum())\n",
    "        print(\"Number of test nodes: \", test_mask.sum())\n",
    "\n",
    "        return Data(x=x, y=y, adjacency=adjacency,\n",
    "                    train_mask=train_mask, val_mask=val_mask, test_mask=test_mask)\n",
    "\n",
    "    @staticmethod\n",
    "    def build_adjacency(adj_dict):\n",
    "        \"\"\"根据邻接表创建邻接矩阵\"\"\"\n",
    "        edge_index = []\n",
    "        num_nodes = len(adj_dict)\n",
    "        for src, dst in adj_dict.items():\n",
    "            edge_index.extend([src, v] for v in dst)\n",
    "            edge_index.extend([v, src] for v in dst)\n",
    "        # 去除重复的边\n",
    "        edge_index = list(k for k, _ in itertools.groupby(sorted(edge_index)))\n",
    "        edge_index = np.asarray(edge_index)\n",
    "        adjacency = sp.coo_matrix((np.ones(len(edge_index)), \n",
    "                                   (edge_index[:, 0], edge_index[:, 1])),\n",
    "                    shape=(num_nodes, num_nodes), dtype=\"float32\")\n",
    "        return adjacency\n",
    "\n",
    "    @staticmethod\n",
    "    def read_data(path):\n",
    "        \"\"\"使用不同的方式读取原始数据以进一步处理\"\"\"\n",
    "        name = osp.basename(path)\n",
    "        if name == \"ind.cora.test.index\":\n",
    "            out = np.genfromtxt(path, dtype=\"int64\")\n",
    "            return out\n",
    "        else:\n",
    "            out = pickle.load(open(path, \"rb\"), encoding=\"latin1\")\n",
    "            out = out.toarray() if hasattr(out, \"toarray\") else out\n",
    "            return out\n",
    "\n",
    "    @staticmethod\n",
    "    def normalization(adjacency):\n",
    "        \"\"\"计算 L=D^-0.5 * (A+I) * D^-0.5\"\"\"\n",
    "        adjacency += sp.eye(adjacency.shape[0])    # 增加自连接\n",
    "        degree = np.array(adjacency.sum(1))\n",
    "        d_hat = sp.diags(np.power(degree, -0.5).flatten())\n",
    "        return d_hat.dot(adjacency).dot(d_hat).tocoo()\n"
   ]
  },
  {
   "cell_type": "code",
   "execution_count": null,
   "metadata": {},
   "outputs": [],
   "source": [
    " "
   ]
  },
  {
   "cell_type": "markdown",
   "metadata": {},
   "source": [
    "## 图卷积层定义"
   ]
  },
  {
   "cell_type": "code",
   "execution_count": 3,
   "metadata": {},
   "outputs": [],
   "source": [
    "class GraphConvolution(nn.Module):\n",
    "    def __init__(self, input_dim, output_dim, use_bias=True):\n",
    "        \"\"\"图卷积：L*X*\\theta\n",
    "\n",
    "        Args:\n",
    "        ----------\n",
    "            input_dim: int\n",
    "                节点输入特征的维度\n",
    "            output_dim: int\n",
    "                输出特征维度\n",
    "            use_bias : bool, optional\n",
    "                是否使用偏置\n",
    "        \"\"\"\n",
    "        super(GraphConvolution, self).__init__()\n",
    "        self.input_dim = input_dim\n",
    "        self.output_dim = output_dim\n",
    "        self.use_bias = use_bias\n",
    "        self.weight = nn.Parameter(torch.Tensor(input_dim, output_dim))\n",
    "        if self.use_bias:\n",
    "            self.bias = nn.Parameter(torch.Tensor(output_dim))\n",
    "        else:\n",
    "            self.register_parameter('bias', None)\n",
    "        self.reset_parameters()\n",
    "\n",
    "    def reset_parameters(self):\n",
    "        init.kaiming_uniform_(self.weight)\n",
    "        if self.use_bias:\n",
    "            init.zeros_(self.bias)\n",
    "\n",
    "    def forward(self, adjacency, input_feature):\n",
    "        \"\"\"邻接矩阵是稀疏矩阵，因此在计算时使用稀疏矩阵乘法\n",
    "    \n",
    "        Args: \n",
    "        -------\n",
    "            adjacency: torch.sparse.FloatTensor\n",
    "                邻接矩阵\n",
    "            input_feature: torch.Tensor\n",
    "                输入特征\n",
    "        \"\"\"\n",
    "        support = torch.mm(input_feature, self.weight)\n",
    "        output = torch.sparse.mm(adjacency, support)\n",
    "        if self.use_bias:\n",
    "            output += self.bias\n",
    "        return output\n",
    "\n",
    "    def __repr__(self):\n",
    "        return self.__class__.__name__ + ' (' \\\n",
    "            + str(self.input_dim) + ' -> ' \\\n",
    "            + str(self.output_dim) + ')'\n"
   ]
  },
  {
   "cell_type": "markdown",
   "metadata": {},
   "source": [
    "## 模型定义\n",
    "\n",
    "读者可以自己对GCN模型结构进行修改和实验"
   ]
  },
  {
   "cell_type": "code",
   "execution_count": 4,
   "metadata": {},
   "outputs": [],
   "source": [
    "class GcnNet(nn.Module):\n",
    "    \"\"\"\n",
    "    定义一个包含两层GraphConvolution的模型\n",
    "    \"\"\"\n",
    "    def __init__(self, input_dim=1433):\n",
    "        super(GcnNet, self).__init__()\n",
    "        self.gcn1 = GraphConvolution(input_dim, 16)\n",
    "        self.gcn2 = GraphConvolution(16, 7)\n",
    "    \n",
    "    def forward(self, adjacency, feature):\n",
    "        h = F.relu(self.gcn1(adjacency, feature))\n",
    "        logits = self.gcn2(adjacency, h)\n",
    "        return logits\n"
   ]
  },
  {
   "cell_type": "markdown",
   "metadata": {},
   "source": [
    "## 模型训练"
   ]
  },
  {
   "cell_type": "code",
   "execution_count": 5,
   "metadata": {},
   "outputs": [],
   "source": [
    "# 超参数定义\n",
    "LEARNING_RATE = 0.1\n",
    "WEIGHT_DACAY = 5e-4\n",
    "EPOCHS = 200\n",
    "DEVICE = \"cuda\" if torch.cuda.is_available() else \"cpu\""
   ]
  },
  {
   "cell_type": "code",
   "execution_count": 6,
   "metadata": {},
   "outputs": [
    {
     "name": "stdout",
     "output_type": "stream",
     "text": [
      "Process data ...\n",
      "Node's feature shape:  (2708, 1433)\n",
      "Node's label shape:  (2708,)\n",
      "Adjacency's shape:  (2708, 2708)\n",
      "Number of training nodes:  140\n",
      "Number of validation nodes:  500\n",
      "Number of test nodes:  1000\n",
      "Cached file: ../data/cora\\ch5_cached.pkl\n"
     ]
    },
    {
     "name": "stderr",
     "output_type": "stream",
     "text": [
      "C:\\Users\\CHESTE~1\\AppData\\Local\\Temp/ipykernel_8068/2904607107.py:69: DeprecationWarning: `np.bool` is a deprecated alias for the builtin `bool`. To silence this warning, use `bool` by itself. Doing this will not modify any behavior and is safe. If you specifically wanted the numpy scalar type, use `np.bool_` here.\n",
      "Deprecated in NumPy 1.20; for more details and guidance: https://numpy.org/devdocs/release/1.20.0-notes.html#deprecations\n",
      "  train_mask = np.zeros(num_nodes, dtype=np.bool)\n",
      "C:\\Users\\CHESTE~1\\AppData\\Local\\Temp/ipykernel_8068/2904607107.py:70: DeprecationWarning: `np.bool` is a deprecated alias for the builtin `bool`. To silence this warning, use `bool` by itself. Doing this will not modify any behavior and is safe. If you specifically wanted the numpy scalar type, use `np.bool_` here.\n",
      "Deprecated in NumPy 1.20; for more details and guidance: https://numpy.org/devdocs/release/1.20.0-notes.html#deprecations\n",
      "  val_mask = np.zeros(num_nodes, dtype=np.bool)\n",
      "C:\\Users\\CHESTE~1\\AppData\\Local\\Temp/ipykernel_8068/2904607107.py:71: DeprecationWarning: `np.bool` is a deprecated alias for the builtin `bool`. To silence this warning, use `bool` by itself. Doing this will not modify any behavior and is safe. If you specifically wanted the numpy scalar type, use `np.bool_` here.\n",
      "Deprecated in NumPy 1.20; for more details and guidance: https://numpy.org/devdocs/release/1.20.0-notes.html#deprecations\n",
      "  test_mask = np.zeros(num_nodes, dtype=np.bool)\n"
     ]
    }
   ],
   "source": [
    "dataset = CoraData().data\n",
    "node_feature = dataset.x / dataset.x.sum(1, keepdims=True)  # 归一化数据，使得每一行和为1\n",
    "tensor_x = tensor_from_numpy(node_feature, DEVICE)\n",
    "tensor_y = tensor_from_numpy(dataset.y, DEVICE)\n",
    "tensor_train_mask = tensor_from_numpy(dataset.train_mask, DEVICE)\n",
    "tensor_val_mask = tensor_from_numpy(dataset.val_mask, DEVICE)\n",
    "tensor_test_mask = tensor_from_numpy(dataset.test_mask, DEVICE)\n",
    "normalize_adjacency = CoraData.normalization(dataset.adjacency)   # 规范化邻接矩阵\n",
    "\n",
    "num_nodes, input_dim = node_feature.shape\n",
    "indices = torch.from_numpy(np.asarray([normalize_adjacency.row, \n",
    "                                       normalize_adjacency.col]).astype('int64')).long()\n",
    "values = torch.from_numpy(normalize_adjacency.data.astype(np.float32))\n",
    "tensor_adjacency = torch.sparse.FloatTensor(indices, values, \n",
    "                                            (num_nodes, num_nodes)).to(DEVICE)"
   ]
  },
  {
   "cell_type": "code",
   "execution_count": 37,
   "metadata": {},
   "outputs": [
    {
     "data": {
      "text/plain": [
       "array([3, 6, 0, 4, 2, 0, 1, 5, 4, 4, 3, 6, 6, 4, 3, 3, 2, 5, 3, 4, 5, 3,\n",
       "       0, 2, 1, 4, 6, 3, 2, 2, 0, 0, 0, 4, 2, 0, 4, 5, 2, 6, 5, 2, 2, 2,\n",
       "       0, 4, 5, 6, 4, 0], dtype=int64)"
      ]
     },
     "execution_count": 37,
     "metadata": {},
     "output_type": "execute_result"
    }
   ],
   "source": [
    " "
   ]
  },
  {
   "cell_type": "code",
   "execution_count": 22,
   "metadata": {},
   "outputs": [
    {
     "data": {
      "text/plain": [
       "tensor([ True,  True,  True,  ..., False, False, False])"
      ]
     },
     "execution_count": 22,
     "metadata": {},
     "output_type": "execute_result"
    }
   ],
   "source": [
    "tensor_train_mask"
   ]
  },
  {
   "cell_type": "code",
   "execution_count": 8,
   "metadata": {
    "pycharm": {
     "name": "#%%\n"
    }
   },
   "outputs": [],
   "source": [
    "# 模型定义：Model, Loss, Optimizer\n",
    "model = GcnNet(input_dim).to(DEVICE)\n",
    "criterion = nn.CrossEntropyLoss().to(DEVICE)\n",
    "optimizer = optim.Adam(model.parameters(), \n",
    "                       lr=LEARNING_RATE, \n",
    "                       weight_decay=WEIGHT_DACAY)"
   ]
  },
  {
   "cell_type": "code",
   "execution_count": 23,
   "metadata": {},
   "outputs": [],
   "source": [
    "# 训练主体函数\n",
    "def train():\n",
    "    loss_history = []\n",
    "    val_acc_history = []\n",
    "    model.train()\n",
    "    train_y = tensor_y[tensor_train_mask]\n",
    "    for epoch in range(EPOCHS):\n",
    "        logits = model(tensor_adjacency, tensor_x)  # 前向传播\n",
    "        train_mask_logits = logits[tensor_train_mask]   # 只选择训练节点进行监督\n",
    "        loss = criterion(train_mask_logits, train_y)    # 计算损失值\n",
    "        optimizer.zero_grad()\n",
    "        loss.backward()     # 反向传播计算参数的梯度\n",
    "        optimizer.step()    # 使用优化方法进行梯度更新\n",
    "        train_acc, _, _ = test(tensor_train_mask)     # 计算当前模型训练集上的准确率\n",
    "        val_acc, _, _ = test(tensor_val_mask)     # 计算当前模型在验证集上的准确率\n",
    "        # 记录训练过程中损失值和准确率的变化，用于画图\n",
    "        loss_history.append(loss.item())\n",
    "        val_acc_history.append(val_acc.item())\n",
    "        print(\"Epoch {:03d}: Loss {:.4f}, TrainAcc {:.4}, ValAcc {:.4f}\".format(\n",
    "            epoch, loss.item(), train_acc.item(), val_acc.item()))\n",
    "    \n",
    "    return loss_history, val_acc_history\n"
   ]
  },
  {
   "cell_type": "code",
   "execution_count": 10,
   "metadata": {},
   "outputs": [],
   "source": [
    "EPOCHS\n",
    "\n",
    "import seaborn as sns"
   ]
  },
  {
   "cell_type": "code",
   "execution_count": 29,
   "metadata": {},
   "outputs": [
    {
     "data": {
      "text/plain": [
       "tensor([ True,  True,  True,  ..., False, False, False])"
      ]
     },
     "execution_count": 29,
     "metadata": {},
     "output_type": "execute_result"
    }
   ],
   "source": [
    "tensor_train_mask"
   ]
  },
  {
   "cell_type": "code",
   "execution_count": 32,
   "metadata": {},
   "outputs": [
    {
     "data": {
      "text/plain": [
       "torch.int64"
      ]
     },
     "execution_count": 32,
     "metadata": {},
     "output_type": "execute_result"
    }
   ],
   "source": [
    "tensor_y.dtype"
   ]
  },
  {
   "cell_type": "code",
   "execution_count": 28,
   "metadata": {},
   "outputs": [
    {
     "data": {
      "text/plain": [
       "torch.int64"
      ]
     },
     "execution_count": 28,
     "metadata": {},
     "output_type": "execute_result"
    }
   ],
   "source": [
    "train_y = tensor_y[tensor_train_mask]\n",
    "train_y.dtype\n"
   ]
  },
  {
   "cell_type": "code",
   "execution_count": 11,
   "metadata": {},
   "outputs": [],
   "source": [
    "# 测试函数\n",
    "def test(mask):\n",
    "    model.eval()\n",
    "    with torch.no_grad():\n",
    "        logits = model(tensor_adjacency, tensor_x)\n",
    "        test_mask_logits = logits[mask]\n",
    "        predict_y = test_mask_logits.max(1)[1]\n",
    "        accuarcy = torch.eq(predict_y, tensor_y[mask]).float().mean()\n",
    "    return accuarcy, test_mask_logits.cpu().numpy(), tensor_y[mask].cpu().numpy()\n"
   ]
  },
  {
   "cell_type": "code",
   "execution_count": 12,
   "metadata": {},
   "outputs": [],
   "source": [
    "def plot_loss_with_acc(loss_history, val_acc_history):\n",
    "    fig = plt.figure()\n",
    "    ax1 = fig.add_subplot(111)\n",
    "    ax1.plot(range(len(loss_history)), loss_history,\n",
    "             c=np.array([255, 71, 90]) / 255.)\n",
    "    plt.ylabel('Loss')\n",
    "    \n",
    "    ax2 = fig.add_subplot(111, sharex=ax1, frameon=False)\n",
    "    ax2.plot(range(len(val_acc_history)), val_acc_history,\n",
    "             c=np.array([79, 179, 255]) / 255.)\n",
    "    ax2.yaxis.tick_right()\n",
    "    ax2.yaxis.set_label_position(\"right\")\n",
    "    plt.ylabel('ValAcc')\n",
    "    \n",
    "    plt.xlabel('Epoch')\n",
    "    plt.title('Training Loss & Validation Accuracy')\n",
    "    plt.show()\n"
   ]
  },
  {
   "cell_type": "code",
   "execution_count": 13,
   "metadata": {},
   "outputs": [
    {
     "name": "stdout",
     "output_type": "stream",
     "text": [
      "Epoch 000: Loss 1.9460, TrainAcc 0.2357, ValAcc 0.2620\n",
      "Epoch 001: Loss 1.8775, TrainAcc 0.4929, ValAcc 0.4160\n",
      "Epoch 002: Loss 1.7834, TrainAcc 0.6571, ValAcc 0.3560\n",
      "Epoch 003: Loss 1.6524, TrainAcc 0.5714, ValAcc 0.2880\n",
      "Epoch 004: Loss 1.5311, TrainAcc 0.7714, ValAcc 0.4800\n",
      "Epoch 005: Loss 1.3812, TrainAcc 0.8786, ValAcc 0.5720\n",
      "Epoch 006: Loss 1.2314, TrainAcc 0.9571, ValAcc 0.6760\n",
      "Epoch 007: Loss 1.0904, TrainAcc 0.9429, ValAcc 0.7420\n",
      "Epoch 008: Loss 0.9490, TrainAcc 0.9286, ValAcc 0.7320\n",
      "Epoch 009: Loss 0.8264, TrainAcc 0.9286, ValAcc 0.7320\n",
      "Epoch 010: Loss 0.7199, TrainAcc 0.9571, ValAcc 0.7520\n",
      "Epoch 011: Loss 0.6253, TrainAcc 0.9786, ValAcc 0.7480\n",
      "Epoch 012: Loss 0.5514, TrainAcc 0.9857, ValAcc 0.7540\n",
      "Epoch 013: Loss 0.4872, TrainAcc 0.9786, ValAcc 0.7660\n",
      "Epoch 014: Loss 0.4307, TrainAcc 0.9643, ValAcc 0.7620\n",
      "Epoch 015: Loss 0.3862, TrainAcc 0.9857, ValAcc 0.7720\n",
      "Epoch 016: Loss 0.3482, TrainAcc 0.9929, ValAcc 0.7760\n",
      "Epoch 017: Loss 0.3165, TrainAcc 0.9929, ValAcc 0.7760\n",
      "Epoch 018: Loss 0.2926, TrainAcc 0.9929, ValAcc 0.7740\n",
      "Epoch 019: Loss 0.2712, TrainAcc 0.9929, ValAcc 0.7760\n",
      "Epoch 020: Loss 0.2548, TrainAcc 0.9929, ValAcc 0.7880\n",
      "Epoch 021: Loss 0.2413, TrainAcc 0.9929, ValAcc 0.7840\n",
      "Epoch 022: Loss 0.2306, TrainAcc 0.9929, ValAcc 0.7920\n",
      "Epoch 023: Loss 0.2208, TrainAcc 0.9929, ValAcc 0.7840\n",
      "Epoch 024: Loss 0.2133, TrainAcc 1.0, ValAcc 0.7800\n",
      "Epoch 025: Loss 0.2052, TrainAcc 0.9929, ValAcc 0.7800\n",
      "Epoch 026: Loss 0.1987, TrainAcc 1.0, ValAcc 0.7800\n",
      "Epoch 027: Loss 0.1916, TrainAcc 1.0, ValAcc 0.7800\n",
      "Epoch 028: Loss 0.1849, TrainAcc 1.0, ValAcc 0.7760\n",
      "Epoch 029: Loss 0.1784, TrainAcc 1.0, ValAcc 0.7760\n",
      "Epoch 030: Loss 0.1717, TrainAcc 1.0, ValAcc 0.7820\n",
      "Epoch 031: Loss 0.1662, TrainAcc 1.0, ValAcc 0.7800\n",
      "Epoch 032: Loss 0.1606, TrainAcc 1.0, ValAcc 0.7740\n",
      "Epoch 033: Loss 0.1558, TrainAcc 1.0, ValAcc 0.7880\n",
      "Epoch 034: Loss 0.1515, TrainAcc 1.0, ValAcc 0.7860\n",
      "Epoch 035: Loss 0.1478, TrainAcc 1.0, ValAcc 0.7820\n",
      "Epoch 036: Loss 0.1448, TrainAcc 1.0, ValAcc 0.7840\n",
      "Epoch 037: Loss 0.1420, TrainAcc 1.0, ValAcc 0.7820\n",
      "Epoch 038: Loss 0.1398, TrainAcc 1.0, ValAcc 0.7860\n",
      "Epoch 039: Loss 0.1374, TrainAcc 1.0, ValAcc 0.7860\n",
      "Epoch 040: Loss 0.1357, TrainAcc 1.0, ValAcc 0.7880\n",
      "Epoch 041: Loss 0.1338, TrainAcc 1.0, ValAcc 0.7920\n",
      "Epoch 042: Loss 0.1323, TrainAcc 1.0, ValAcc 0.7880\n",
      "Epoch 043: Loss 0.1310, TrainAcc 1.0, ValAcc 0.7960\n",
      "Epoch 044: Loss 0.1303, TrainAcc 1.0, ValAcc 0.7960\n",
      "Epoch 045: Loss 0.1305, TrainAcc 0.9929, ValAcc 0.7920\n",
      "Epoch 046: Loss 0.1298, TrainAcc 1.0, ValAcc 0.7840\n",
      "Epoch 047: Loss 0.1254, TrainAcc 1.0, ValAcc 0.7920\n",
      "Epoch 048: Loss 0.1224, TrainAcc 1.0, ValAcc 0.7960\n",
      "Epoch 049: Loss 0.1235, TrainAcc 1.0, ValAcc 0.7840\n",
      "Epoch 050: Loss 0.1222, TrainAcc 1.0, ValAcc 0.7920\n",
      "Epoch 051: Loss 0.1200, TrainAcc 1.0, ValAcc 0.7940\n",
      "Epoch 052: Loss 0.1205, TrainAcc 1.0, ValAcc 0.7900\n",
      "Epoch 053: Loss 0.1211, TrainAcc 1.0, ValAcc 0.7940\n",
      "Epoch 054: Loss 0.1196, TrainAcc 1.0, ValAcc 0.7860\n",
      "Epoch 055: Loss 0.1189, TrainAcc 1.0, ValAcc 0.8000\n",
      "Epoch 056: Loss 0.1195, TrainAcc 1.0, ValAcc 0.7980\n",
      "Epoch 057: Loss 0.1190, TrainAcc 1.0, ValAcc 0.7920\n",
      "Epoch 058: Loss 0.1173, TrainAcc 1.0, ValAcc 0.7980\n",
      "Epoch 059: Loss 0.1171, TrainAcc 1.0, ValAcc 0.7960\n",
      "Epoch 060: Loss 0.1173, TrainAcc 1.0, ValAcc 0.7960\n",
      "Epoch 061: Loss 0.1165, TrainAcc 1.0, ValAcc 0.7900\n",
      "Epoch 062: Loss 0.1155, TrainAcc 1.0, ValAcc 0.7940\n",
      "Epoch 063: Loss 0.1155, TrainAcc 1.0, ValAcc 0.7960\n",
      "Epoch 064: Loss 0.1157, TrainAcc 1.0, ValAcc 0.7900\n",
      "Epoch 065: Loss 0.1152, TrainAcc 1.0, ValAcc 0.8000\n",
      "Epoch 066: Loss 0.1147, TrainAcc 1.0, ValAcc 0.7920\n",
      "Epoch 067: Loss 0.1148, TrainAcc 1.0, ValAcc 0.7920\n",
      "Epoch 068: Loss 0.1152, TrainAcc 1.0, ValAcc 0.7940\n",
      "Epoch 069: Loss 0.1149, TrainAcc 1.0, ValAcc 0.7940\n",
      "Epoch 070: Loss 0.1146, TrainAcc 1.0, ValAcc 0.7880\n",
      "Epoch 071: Loss 0.1145, TrainAcc 1.0, ValAcc 0.8000\n",
      "Epoch 072: Loss 0.1147, TrainAcc 1.0, ValAcc 0.7940\n",
      "Epoch 073: Loss 0.1147, TrainAcc 1.0, ValAcc 0.7980\n",
      "Epoch 074: Loss 0.1145, TrainAcc 1.0, ValAcc 0.7880\n",
      "Epoch 075: Loss 0.1142, TrainAcc 1.0, ValAcc 0.7980\n",
      "Epoch 076: Loss 0.1141, TrainAcc 1.0, ValAcc 0.7880\n",
      "Epoch 077: Loss 0.1143, TrainAcc 1.0, ValAcc 0.7920\n",
      "Epoch 078: Loss 0.1146, TrainAcc 1.0, ValAcc 0.7880\n",
      "Epoch 079: Loss 0.1146, TrainAcc 1.0, ValAcc 0.7940\n",
      "Epoch 080: Loss 0.1147, TrainAcc 1.0, ValAcc 0.7880\n",
      "Epoch 081: Loss 0.1149, TrainAcc 1.0, ValAcc 0.7960\n",
      "Epoch 082: Loss 0.1153, TrainAcc 1.0, ValAcc 0.7880\n",
      "Epoch 083: Loss 0.1160, TrainAcc 1.0, ValAcc 0.7960\n",
      "Epoch 084: Loss 0.1161, TrainAcc 1.0, ValAcc 0.7920\n",
      "Epoch 085: Loss 0.1153, TrainAcc 1.0, ValAcc 0.8020\n",
      "Epoch 086: Loss 0.1138, TrainAcc 1.0, ValAcc 0.7920\n",
      "Epoch 087: Loss 0.1133, TrainAcc 1.0, ValAcc 0.7900\n",
      "Epoch 088: Loss 0.1140, TrainAcc 1.0, ValAcc 0.7980\n",
      "Epoch 089: Loss 0.1149, TrainAcc 1.0, ValAcc 0.7880\n",
      "Epoch 090: Loss 0.1153, TrainAcc 1.0, ValAcc 0.7980\n",
      "Epoch 091: Loss 0.1153, TrainAcc 1.0, ValAcc 0.7900\n",
      "Epoch 092: Loss 0.1153, TrainAcc 1.0, ValAcc 0.7920\n",
      "Epoch 093: Loss 0.1151, TrainAcc 1.0, ValAcc 0.7940\n",
      "Epoch 094: Loss 0.1148, TrainAcc 1.0, ValAcc 0.7860\n",
      "Epoch 095: Loss 0.1147, TrainAcc 1.0, ValAcc 0.7960\n",
      "Epoch 096: Loss 0.1150, TrainAcc 1.0, ValAcc 0.7900\n",
      "Epoch 097: Loss 0.1155, TrainAcc 1.0, ValAcc 0.7960\n",
      "Epoch 098: Loss 0.1154, TrainAcc 1.0, ValAcc 0.7940\n",
      "Epoch 099: Loss 0.1149, TrainAcc 1.0, ValAcc 0.7920\n",
      "Epoch 100: Loss 0.1145, TrainAcc 1.0, ValAcc 0.7940\n",
      "Epoch 101: Loss 0.1148, TrainAcc 1.0, ValAcc 0.7940\n",
      "Epoch 102: Loss 0.1153, TrainAcc 1.0, ValAcc 0.7980\n",
      "Epoch 103: Loss 0.1155, TrainAcc 1.0, ValAcc 0.7960\n",
      "Epoch 104: Loss 0.1154, TrainAcc 1.0, ValAcc 0.7980\n",
      "Epoch 105: Loss 0.1151, TrainAcc 1.0, ValAcc 0.7880\n",
      "Epoch 106: Loss 0.1151, TrainAcc 1.0, ValAcc 0.7960\n",
      "Epoch 107: Loss 0.1152, TrainAcc 1.0, ValAcc 0.7940\n",
      "Epoch 108: Loss 0.1153, TrainAcc 1.0, ValAcc 0.7960\n",
      "Epoch 109: Loss 0.1152, TrainAcc 1.0, ValAcc 0.7940\n",
      "Epoch 110: Loss 0.1150, TrainAcc 1.0, ValAcc 0.7920\n",
      "Epoch 111: Loss 0.1150, TrainAcc 1.0, ValAcc 0.8000\n",
      "Epoch 112: Loss 0.1152, TrainAcc 1.0, ValAcc 0.7900\n",
      "Epoch 113: Loss 0.1154, TrainAcc 1.0, ValAcc 0.8040\n",
      "Epoch 114: Loss 0.1155, TrainAcc 1.0, ValAcc 0.7880\n",
      "Epoch 115: Loss 0.1156, TrainAcc 1.0, ValAcc 0.8040\n",
      "Epoch 116: Loss 0.1156, TrainAcc 1.0, ValAcc 0.7860\n",
      "Epoch 117: Loss 0.1156, TrainAcc 1.0, ValAcc 0.7980\n",
      "Epoch 118: Loss 0.1156, TrainAcc 1.0, ValAcc 0.7900\n",
      "Epoch 119: Loss 0.1158, TrainAcc 1.0, ValAcc 0.7980\n",
      "Epoch 120: Loss 0.1160, TrainAcc 1.0, ValAcc 0.7940\n",
      "Epoch 121: Loss 0.1160, TrainAcc 1.0, ValAcc 0.7960\n",
      "Epoch 122: Loss 0.1156, TrainAcc 1.0, ValAcc 0.7900\n",
      "Epoch 123: Loss 0.1151, TrainAcc 1.0, ValAcc 0.8000\n",
      "Epoch 124: Loss 0.1147, TrainAcc 1.0, ValAcc 0.7900\n",
      "Epoch 125: Loss 0.1148, TrainAcc 1.0, ValAcc 0.7960\n",
      "Epoch 126: Loss 0.1151, TrainAcc 1.0, ValAcc 0.7980\n",
      "Epoch 127: Loss 0.1155, TrainAcc 1.0, ValAcc 0.7940\n",
      "Epoch 128: Loss 0.1158, TrainAcc 1.0, ValAcc 0.8000\n",
      "Epoch 129: Loss 0.1158, TrainAcc 1.0, ValAcc 0.7920\n",
      "Epoch 130: Loss 0.1157, TrainAcc 1.0, ValAcc 0.7980\n",
      "Epoch 131: Loss 0.1156, TrainAcc 1.0, ValAcc 0.7860\n",
      "Epoch 132: Loss 0.1156, TrainAcc 1.0, ValAcc 0.8020\n",
      "Epoch 133: Loss 0.1158, TrainAcc 1.0, ValAcc 0.7900\n",
      "Epoch 134: Loss 0.1163, TrainAcc 1.0, ValAcc 0.7960\n",
      "Epoch 135: Loss 0.1167, TrainAcc 1.0, ValAcc 0.7860\n",
      "Epoch 136: Loss 0.1168, TrainAcc 1.0, ValAcc 0.7960\n",
      "Epoch 137: Loss 0.1157, TrainAcc 1.0, ValAcc 0.7900\n",
      "Epoch 138: Loss 0.1143, TrainAcc 1.0, ValAcc 0.7960\n",
      "Epoch 139: Loss 0.1138, TrainAcc 1.0, ValAcc 0.7940\n",
      "Epoch 140: Loss 0.1146, TrainAcc 1.0, ValAcc 0.7880\n",
      "Epoch 141: Loss 0.1157, TrainAcc 1.0, ValAcc 0.7940\n",
      "Epoch 142: Loss 0.1161, TrainAcc 1.0, ValAcc 0.7880\n",
      "Epoch 143: Loss 0.1159, TrainAcc 1.0, ValAcc 0.8000\n",
      "Epoch 144: Loss 0.1156, TrainAcc 1.0, ValAcc 0.7940\n",
      "Epoch 145: Loss 0.1159, TrainAcc 1.0, ValAcc 0.8000\n",
      "Epoch 146: Loss 0.1163, TrainAcc 1.0, ValAcc 0.7900\n",
      "Epoch 147: Loss 0.1165, TrainAcc 1.0, ValAcc 0.7980\n",
      "Epoch 148: Loss 0.1157, TrainAcc 1.0, ValAcc 0.7920\n",
      "Epoch 149: Loss 0.1149, TrainAcc 1.0, ValAcc 0.8000\n",
      "Epoch 150: Loss 0.1146, TrainAcc 1.0, ValAcc 0.7900\n",
      "Epoch 151: Loss 0.1148, TrainAcc 1.0, ValAcc 0.7920\n",
      "Epoch 152: Loss 0.1152, TrainAcc 1.0, ValAcc 0.7960\n",
      "Epoch 153: Loss 0.1153, TrainAcc 1.0, ValAcc 0.7960\n",
      "Epoch 154: Loss 0.1154, TrainAcc 1.0, ValAcc 0.8000\n",
      "Epoch 155: Loss 0.1156, TrainAcc 1.0, ValAcc 0.7900\n",
      "Epoch 156: Loss 0.1161, TrainAcc 1.0, ValAcc 0.8040\n",
      "Epoch 157: Loss 0.1164, TrainAcc 1.0, ValAcc 0.7900\n",
      "Epoch 158: Loss 0.1163, TrainAcc 1.0, ValAcc 0.8020\n",
      "Epoch 159: Loss 0.1158, TrainAcc 1.0, ValAcc 0.7880\n",
      "Epoch 160: Loss 0.1151, TrainAcc 1.0, ValAcc 0.7980\n",
      "Epoch 161: Loss 0.1146, TrainAcc 1.0, ValAcc 0.7920\n",
      "Epoch 162: Loss 0.1146, TrainAcc 1.0, ValAcc 0.7940\n",
      "Epoch 163: Loss 0.1147, TrainAcc 1.0, ValAcc 0.8020\n",
      "Epoch 164: Loss 0.1150, TrainAcc 1.0, ValAcc 0.7900\n",
      "Epoch 165: Loss 0.1153, TrainAcc 1.0, ValAcc 0.8000\n",
      "Epoch 166: Loss 0.1157, TrainAcc 1.0, ValAcc 0.7940\n",
      "Epoch 167: Loss 0.1162, TrainAcc 1.0, ValAcc 0.8000\n",
      "Epoch 168: Loss 0.1163, TrainAcc 1.0, ValAcc 0.7940\n",
      "Epoch 169: Loss 0.1163, TrainAcc 1.0, ValAcc 0.7980\n"
     ]
    },
    {
     "name": "stdout",
     "output_type": "stream",
     "text": [
      "Epoch 170: Loss 0.1157, TrainAcc 1.0, ValAcc 0.7900\n",
      "Epoch 171: Loss 0.1150, TrainAcc 1.0, ValAcc 0.8000\n",
      "Epoch 172: Loss 0.1144, TrainAcc 1.0, ValAcc 0.7900\n",
      "Epoch 173: Loss 0.1144, TrainAcc 1.0, ValAcc 0.7960\n",
      "Epoch 174: Loss 0.1147, TrainAcc 1.0, ValAcc 0.7980\n",
      "Epoch 175: Loss 0.1152, TrainAcc 1.0, ValAcc 0.7920\n",
      "Epoch 176: Loss 0.1156, TrainAcc 1.0, ValAcc 0.8000\n",
      "Epoch 177: Loss 0.1158, TrainAcc 1.0, ValAcc 0.7880\n",
      "Epoch 178: Loss 0.1160, TrainAcc 1.0, ValAcc 0.8040\n",
      "Epoch 179: Loss 0.1160, TrainAcc 1.0, ValAcc 0.7900\n",
      "Epoch 180: Loss 0.1160, TrainAcc 1.0, ValAcc 0.8040\n",
      "Epoch 181: Loss 0.1156, TrainAcc 1.0, ValAcc 0.7900\n",
      "Epoch 182: Loss 0.1150, TrainAcc 1.0, ValAcc 0.8020\n",
      "Epoch 183: Loss 0.1144, TrainAcc 1.0, ValAcc 0.7900\n",
      "Epoch 184: Loss 0.1142, TrainAcc 1.0, ValAcc 0.7920\n",
      "Epoch 185: Loss 0.1145, TrainAcc 1.0, ValAcc 0.8000\n",
      "Epoch 186: Loss 0.1151, TrainAcc 1.0, ValAcc 0.7900\n",
      "Epoch 187: Loss 0.1157, TrainAcc 1.0, ValAcc 0.8060\n",
      "Epoch 188: Loss 0.1160, TrainAcc 1.0, ValAcc 0.7900\n",
      "Epoch 189: Loss 0.1161, TrainAcc 1.0, ValAcc 0.8020\n",
      "Epoch 190: Loss 0.1159, TrainAcc 1.0, ValAcc 0.7880\n",
      "Epoch 191: Loss 0.1157, TrainAcc 1.0, ValAcc 0.8000\n",
      "Epoch 192: Loss 0.1153, TrainAcc 1.0, ValAcc 0.7900\n",
      "Epoch 193: Loss 0.1151, TrainAcc 1.0, ValAcc 0.8000\n",
      "Epoch 194: Loss 0.1148, TrainAcc 1.0, ValAcc 0.7960\n",
      "Epoch 195: Loss 0.1146, TrainAcc 1.0, ValAcc 0.7960\n",
      "Epoch 196: Loss 0.1146, TrainAcc 1.0, ValAcc 0.7980\n",
      "Epoch 197: Loss 0.1148, TrainAcc 1.0, ValAcc 0.7900\n",
      "Epoch 198: Loss 0.1152, TrainAcc 1.0, ValAcc 0.8020\n",
      "Epoch 199: Loss 0.1156, TrainAcc 1.0, ValAcc 0.7920\n",
      "Test accuarcy:  0.8090000152587891\n"
     ]
    }
   ],
   "source": [
    "loss, val_acc = train()\n",
    "test_acc, test_logits, test_label = test(tensor_test_mask)\n",
    "print(\"Test accuarcy: \", test_acc.item())"
   ]
  },
  {
   "cell_type": "code",
   "execution_count": 14,
   "metadata": {
    "scrolled": true
   },
   "outputs": [
    {
     "data": {
      "image/png": "[encoded data removed]",
      "text/plain": [
       "<Figure size 432x288 with 2 Axes>"
      ]
     },
     "metadata": {
      "needs_background": "light"
     },
     "output_type": "display_data"
    }
   ],
   "source": [
    "plot_loss_with_acc(loss, val_acc)"
   ]
  },
  {
   "cell_type": "code",
   "execution_count": 15,
   "metadata": {},
   "outputs": [
    {
     "data": {
      "text/plain": [
       "<matplotlib.legend.Legend at 0x21367af5490>"
      ]
     },
     "execution_count": 15,
     "metadata": {},
     "output_type": "execute_result"
    },
    {
     "data": {
      "image/png": "[encoded data removed]",
      "text/plain": [
       "<Figure size 432x288 with 1 Axes>"
      ]
     },
     "metadata": {
      "needs_background": "light"
     },
     "output_type": "display_data"
    }
   ],
   "source": [
    "# 绘制测试数据的TSNE降维图\n",
    "from sklearn.manifold import TSNE\n",
    "tsne = TSNE()\n",
    "out = tsne.fit_transform(test_logits)\n",
    "fig = plt.figure()\n",
    "for i in range(7):\n",
    "    indices = test_label == i\n",
    "    x, y = out[indices].T\n",
    "    plt.scatter(x, y, label=str(i))\n",
    "plt.legend()"
   ]
  },
  {
   "cell_type": "code",
   "execution_count": null,
   "metadata": {},
   "outputs": [],
   "source": []
  }
 ],
 "metadata": {
  "kernelspec": {
   "display_name": "Python 3 (ipykernel)",
   "language": "python",
   "name": "python3"
  },
  "language_info": {
   "codemirror_mode": {
    "name": "ipython",
    "version": 3
   },
   "file_extension": ".py",
   "mimetype": "text/x-python",
   "name": "python",
   "nbconvert_exporter": "python",
   "pygments_lexer": "ipython3",
   "version": "3.9.7"
  },
  "pycharm": {
   "stem_cell": {
    "cell_type": "raw",
    "metadata": {
     "collapsed": false
    },
    "source": []
   }
  },
  "toc": {
   "base_numbering": 1,
   "nav_menu": {},
   "number_sections": true,
   "sideBar": true,
   "skip_h1_title": false,
   "title_cell": "Table of Contents",
   "title_sidebar": "Contents",
   "toc_cell": true,
   "toc_position": {},
   "toc_section_display": true,
   "toc_window_display": false
  }
 },
 "nbformat": 4,
 "nbformat_minor": 2
}
