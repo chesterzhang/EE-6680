{
 "cells": [
  {
   "cell_type": "code",
   "execution_count": 1,
   "id": "ca633d11",
   "metadata": {},
   "outputs": [],
   "source": [
    "import itertools\n",
    "import os\n",
    "import os.path as osp\n",
    "import pickle\n",
    "import urllib\n",
    "from collections import namedtuple\n",
    "\n",
    "import numpy as np\n",
    "import scipy.sparse as sp\n",
    "import torch\n",
    "import torch.nn as nn\n",
    "import torch.nn.functional as F\n",
    "import torch.nn.init as init\n",
    "import torch.optim as optim\n",
    "import matplotlib.pyplot as plt\n",
    "from torch.nn import Linear \n",
    "\n",
    "from sklearn.cluster import KMeans\n",
    "from sklearn import metrics\n",
    "from sklearn.metrics.cluster import adjusted_rand_score\n",
    "from sklearn.metrics.cluster import normalized_mutual_info_score\n",
    "\n",
    "import pandas as pd\n",
    "%matplotlib inline"
   ]
  },
  {
   "cell_type": "code",
   "execution_count": 2,
   "id": "a24aac51",
   "metadata": {},
   "outputs": [],
   "source": [
    "def tensor_from_numpy(x, device):\n",
    "    return torch.from_numpy(x).to(device)"
   ]
  },
  {
   "cell_type": "code",
   "execution_count": 3,
   "id": "9f19773f",
   "metadata": {},
   "outputs": [],
   "source": [
    "class GraphConvolution(nn.Module):\n",
    "    def __init__(self, input_dim, output_dim, use_bias=True):\n",
    "        \"\"\"图卷积：L*X*\\theta\n",
    "\n",
    "        Args:\n",
    "        ----------\n",
    "            input_dim: int\n",
    "                节点输入特征的维度\n",
    "            output_dim: int\n",
    "                输出特征维度\n",
    "            use_bias : bool, optional\n",
    "                是否使用偏置\n",
    "        \"\"\"\n",
    "        super(GraphConvolution, self).__init__()\n",
    "        self.input_dim = input_dim\n",
    "        self.output_dim = output_dim\n",
    "        self.use_bias = use_bias\n",
    "        self.weight = nn.Parameter(torch.Tensor(input_dim, output_dim))\n",
    "        if self.use_bias:\n",
    "            self.bias = nn.Parameter(torch.Tensor(output_dim))\n",
    "        else:\n",
    "            self.register_parameter('bias', None)\n",
    "        self.reset_parameters()\n",
    "\n",
    "    def reset_parameters(self):\n",
    "        init.kaiming_uniform_(self.weight)\n",
    "        if self.use_bias:\n",
    "            init.zeros_(self.bias)\n",
    "\n",
    "    def forward(self, adjacency, input_feature):\n",
    "        \"\"\"邻接矩阵是稀疏矩阵，因此在计算时使用稀疏矩阵乘法\n",
    "    \n",
    "        Args: \n",
    "        -------\n",
    "            adjacency: torch.sparse.FloatTensor\n",
    "                邻接矩阵\n",
    "            input_feature: torch.Tensor\n",
    "                输入特征\n",
    "        \"\"\"\n",
    "        support = torch.mm(input_feature, self.weight)\n",
    "        output = torch.sparse.mm(adjacency, support)\n",
    "        if self.use_bias:\n",
    "            output += self.bias\n",
    "        return output\n",
    "\n",
    "    def __repr__(self):\n",
    "        return self.__class__.__name__ + ' (' \\\n",
    "            + str(self.input_dim) + ' -> ' \\\n",
    "            + str(self.output_dim) + ')'"
   ]
  },
  {
   "cell_type": "code",
   "execution_count": 4,
   "id": "3801b436",
   "metadata": {},
   "outputs": [],
   "source": [
    "class GcnNet(nn.Module):\n",
    "    \"\"\"\n",
    "    定义一个 GraphConvolution的模型\n",
    "    \"\"\"\n",
    "    def __init__(self, input_dim=1433):\n",
    "        super(GcnNet, self).__init__()\n",
    "        self.gcn1 = GraphConvolution(input_dim, 60)\n",
    "        self.gcn2 = GraphConvolution(60,36)\n",
    "        self.gcn3 = GraphConvolution(36,12 )\n",
    "#         self.gcn4 = GraphConvolution(24, 12)\n",
    "#         self.gcn5 = GraphConvolution(36, 12)\n",
    "#         self.gcn6 = GraphConvolution(150, 400)\n",
    "#         self.gcn7 = GraphConvolution(400, 940)\n",
    "#         self.gcn8 = GraphConvolution(940, input_dim)\n",
    "        \n",
    "        self.h1=None\n",
    "        self.h2=None\n",
    "        self.h3=None\n",
    "        self.h4=None\n",
    "        self.h5=None\n",
    "        self.h6=None\n",
    "        self.h7=None\n",
    "        self.h8=None\n",
    "    \n",
    "    def forward(self, adjacency, feature):\n",
    "        self.h1 = F.relu(self.gcn1(adjacency, feature))\n",
    "        self.h1 = F.normalize(self.h1)\n",
    "        \n",
    "        self.h2  = F.sigmoid(self.gcn2(adjacency, self.h1))\n",
    "        self.h2 = F.normalize(self.h2)\n",
    "        \n",
    "        self.h3 = self.gcn3(adjacency, self.h2) \n",
    "        \n",
    "#         self.h3 = F.relu(self.gcn3(adjacency, self.h2))\n",
    "#         self.h3 = F.normalize(self.h3)\n",
    "        \n",
    "#         self.h4  = F.sigmoid(self.gcn4(adjacency, self.h3))\n",
    "#         self.h4 = F.normalize(self.h4)\n",
    "        \n",
    "#         self.h5  =  self.gcn5(adjacency, self.h4) \n",
    "        \n",
    "#         self.h5  = F.relu(self.gcn5(adjacency, self.h4))\n",
    "#         self.h5 = F.normalize(self.h5)\n",
    "        \n",
    "#         self.h6  = F.sigmoid(self.gcn6(adjacency, self.h5))\n",
    "#         self.h6 = F.normalize(self.h6)\n",
    "        \n",
    "#         self.h7  = F.relu(self.gcn7(adjacency, self.h6))\n",
    "#         self.h7 = F.normalize(self.h7)\n",
    "        \n",
    "#         self.h8  = self.gcn8(adjacency, self.h7)\n",
    " \n",
    "        return  self.h3\n",
    "\n"
   ]
  },
  {
   "cell_type": "code",
   "execution_count": 5,
   "id": "1a08d817",
   "metadata": {},
   "outputs": [],
   "source": [
    "# 超参数定义\n",
    "LEARNING_RATE = 0.01\n",
    "WEIGHT_DACAY = 3e-4\n",
    "EPOCHS = 20\n",
    "DEVICE = \"cuda\" if torch.cuda.is_available() else \"cpu\"\n"
   ]
  },
  {
   "cell_type": "code",
   "execution_count": 6,
   "id": "bdcad7f7",
   "metadata": {},
   "outputs": [],
   "source": [
    "# node_feature = np.load('../data/X_np/X.npy')/ np.load('../data/X_np/X.npy').sum(1, keepdims=True)  \n",
    "\n",
    "node_feature = np.load('../data/X_np/X.npy')\n",
    "node_feature2= np.zeros(shape=[850,1879],dtype=np.float32)\n",
    "node_feature2[:,0:256]=node_feature[:, 0:256]\n",
    "\n",
    "for i in range(0,850):\n",
    "    for j in range(0,1623):\n",
    "        try:\n",
    "            node_feature2[i][j+256]=max(node_feature[i,256+5*j: 256+j*5+5]) \n",
    "        except:\n",
    "            print(j)\n",
    "            break\n",
    "            \n",
    "node_feature2/=node_feature2.sum(1, keepdims=True)   \n",
    "\n",
    "node_feature2 = node_feature2.astype(np.float32)\n",
    " \n",
    "\n",
    "tensor_x = tensor_from_numpy(node_feature2, DEVICE)\n",
    "labelList=pd.read_csv('../data/label.csv',header=None)[1]\n",
    "for i in range(0,len(labelList)):\n",
    "    labelList[i]+=1\n",
    "    \n",
    "\n",
    "tensor_y = tensor_from_numpy( np.array(labelList,dtype=np.int64),DEVICE)"
   ]
  },
  {
   "cell_type": "code",
   "execution_count": 73,
   "id": "68c051e3",
   "metadata": {},
   "outputs": [],
   "source": [
    "\n",
    " \n",
    "train_mask=[False for i in range(0,850)]\n",
    "for i in range(0,170):\n",
    "    train_mask[i]=True\n",
    " \n",
    "val_mask=[False for i in range(0,850)]\n",
    "for i in range(680,765):\n",
    "    val_mask[i]=True\n",
    "    \n",
    "test_mask=[False for i in range(0,850)]\n",
    "for i in range(170,850):\n",
    "    test_mask[i]=True\n",
    "    \n",
    "    \n",
    "\n",
    "\n",
    "tensor_train_mask = tensor_from_numpy(np.array(train_mask), DEVICE )\n",
    "tensor_val_mask = tensor_from_numpy(np.array(val_mask), DEVICE)\n",
    "tensor_test_mask = tensor_from_numpy(np.array(test_mask), DEVICE)\n",
    "\n",
    "# adjacency=np.load('../data/A_np/A.npy')\n",
    "adjacency=np.load('../data/self_supervised/self_adjacency.npy')\n",
    "\n",
    "# adjacency=np.eye(850)\n",
    "\n",
    "        \n",
    "adjacency=adjacency.astype(np.double)\n",
    "adjacency = sp.csr_matrix(adjacency)\n",
    "adjacency = sp.coo_matrix(adjacency)\n",
    "adjacency += sp.eye(adjacency.shape[0])    # 增加自连接\n",
    "degree = np.array(adjacency.sum(1))\n",
    "d_hat = sp.diags(np.power(degree, -0.5).flatten())\n",
    "normalize_adjacency = d_hat.dot(adjacency).dot(d_hat).tocoo()  # 规范化邻接矩阵\n",
    "\n",
    "num_nodes, input_dim = tensor_x.shape\n",
    " \n",
    "\n",
    "indices = torch.from_numpy(np.asarray([normalize_adjacency.row, \n",
    "                                       normalize_adjacency.col]).astype('int64')).long()\n",
    "values = torch.from_numpy(normalize_adjacency.data.astype(np.float32))\n",
    "tensor_adjacency = torch.sparse.FloatTensor(indices, values, \n",
    "                                            (num_nodes, num_nodes)).to(DEVICE)"
   ]
  },
  {
   "cell_type": "code",
   "execution_count": 74,
   "id": "c65bd402",
   "metadata": {},
   "outputs": [],
   "source": [
    "# train_mask"
   ]
  },
  {
   "cell_type": "code",
   "execution_count": 75,
   "id": "0c127857",
   "metadata": {},
   "outputs": [],
   "source": [
    "# 模型定义：Model, Loss, Optimizer\n",
    "model = GcnNet(input_dim).to(DEVICE)\n",
    "criterion = nn.CrossEntropyLoss().to(DEVICE)\n",
    "optimizer = optim.Adam(model.parameters(), \n",
    "                       lr=LEARNING_RATE, \n",
    "                       weight_decay=WEIGHT_DACAY)"
   ]
  },
  {
   "cell_type": "code",
   "execution_count": 76,
   "id": "68ca5486",
   "metadata": {},
   "outputs": [],
   "source": [
    "# 训练主体函数\n",
    "def train():\n",
    "    loss_history = []\n",
    "    val_acc_history = []\n",
    "    model.train()\n",
    "    train_y = tensor_y[tensor_train_mask]\n",
    "    for epoch in range(EPOCHS):\n",
    "        # tensor_adjacency 也就是 A 矩阵, tensor_x 也就是 X 矩阵\n",
    "        logits = model(tensor_adjacency, tensor_x)  # 前向传播\n",
    "        train_mask_logits = logits[tensor_train_mask]   # 只选择训练节点进行监督\n",
    "        loss = criterion(train_mask_logits, train_y)    # 计算损失值\n",
    "        optimizer.zero_grad()\n",
    "        loss.backward()     # 反向传播计算参数的梯度\n",
    "        optimizer.step()    # 使用优化方法进行梯度更新\n",
    "        train_acc, _, _, _ = test(tensor_train_mask)     # 计算当前模型训练集上的准确率\n",
    "        val_acc, _, _ ,_= test(tensor_val_mask)     # 计算当前模型在验证集上的准确率\n",
    "        # 记录训练过程中损失值和准确率的变化，用于画图\n",
    "        loss_history.append(loss.item())\n",
    "        val_acc_history.append(val_acc.item())\n",
    "        print(\"Epoch {:03d}: Loss {:.4f}, TrainAcc {:.4}, ValAcc {:.4f}\".format(\n",
    "            epoch, loss.item(), train_acc.item(), val_acc.item()))\n",
    "    \n",
    "    return loss_history, val_acc_history\n"
   ]
  },
  {
   "cell_type": "code",
   "execution_count": 77,
   "id": "b2ff402e",
   "metadata": {},
   "outputs": [],
   "source": [
    "# 测试函数\n",
    "def test(mask):\n",
    "    model.eval()\n",
    "    with torch.no_grad():\n",
    "        logits = model(tensor_adjacency, tensor_x)\n",
    "        test_mask_logits = logits[mask]\n",
    "        predict_y = test_mask_logits.max(1)[1]# 测试集占 10% 也就是 85个\n",
    "        accuarcy = torch.eq(predict_y, tensor_y[mask]).float().mean()\n",
    "    return accuarcy, test_mask_logits.cpu().numpy(), tensor_y[mask].cpu().numpy(),predict_y\n"
   ]
  },
  {
   "cell_type": "code",
   "execution_count": 78,
   "id": "48507c35",
   "metadata": {},
   "outputs": [],
   "source": [
    "def plot_loss_with_acc(loss_history, val_acc_history):\n",
    "    fig = plt.figure()\n",
    "    ax1 = fig.add_subplot(111)\n",
    "    ax1.plot(range(len(loss_history)), loss_history,\n",
    "             c=np.array([255, 71, 90]) / 255.)\n",
    "    plt.ylabel('Loss')\n",
    "    \n",
    "    ax2 = fig.add_subplot(111, sharex=ax1, frameon=False)\n",
    "    ax2.plot(range(len(val_acc_history)), val_acc_history,\n",
    "             c=np.array([79, 179, 255]) / 255.)\n",
    "    ax2.yaxis.tick_right()\n",
    "    ax2.yaxis.set_label_position(\"right\")\n",
    "    plt.ylabel('ValAcc')\n",
    "    \n",
    "    plt.xlabel('Epoch')\n",
    "    plt.title('Training Loss & Validation Accuracy')\n",
    "    plt.show()\n"
   ]
  },
  {
   "cell_type": "code",
   "execution_count": 85,
   "id": "70c0daf9",
   "metadata": {},
   "outputs": [
    {
     "name": "stdout",
     "output_type": "stream",
     "text": [
      "Epoch 000: Loss 0.7207, TrainAcc 0.7706, ValAcc 0.7059\n",
      "Epoch 001: Loss 0.6988, TrainAcc 0.8176, ValAcc 0.7647\n",
      "Epoch 002: Loss 0.6931, TrainAcc 0.7353, ValAcc 0.6235\n",
      "Epoch 003: Loss 0.7295, TrainAcc 0.7706, ValAcc 0.7176\n",
      "Epoch 004: Loss 0.7222, TrainAcc 0.7412, ValAcc 0.6588\n",
      "Epoch 005: Loss 0.8161, TrainAcc 0.7765, ValAcc 0.7059\n",
      "Epoch 006: Loss 0.7495, TrainAcc 0.7588, ValAcc 0.7059\n",
      "Epoch 007: Loss 0.7610, TrainAcc 0.7647, ValAcc 0.7059\n",
      "Epoch 008: Loss 0.7597, TrainAcc 0.7706, ValAcc 0.7059\n",
      "Epoch 009: Loss 0.7635, TrainAcc 0.7706, ValAcc 0.7059\n",
      "Epoch 010: Loss 0.7610, TrainAcc 0.7647, ValAcc 0.6941\n",
      "Epoch 011: Loss 0.7482, TrainAcc 0.7647, ValAcc 0.7059\n",
      "Epoch 012: Loss 0.7365, TrainAcc 0.7706, ValAcc 0.7059\n",
      "Epoch 013: Loss 0.7271, TrainAcc 0.7941, ValAcc 0.7059\n",
      "Epoch 014: Loss 0.7155, TrainAcc 0.7941, ValAcc 0.7176\n",
      "Epoch 015: Loss 0.6979, TrainAcc 0.8118, ValAcc 0.7412\n",
      "Epoch 016: Loss 0.6819, TrainAcc 0.8294, ValAcc 0.7412\n",
      "Epoch 017: Loss 0.6725, TrainAcc 0.8353, ValAcc 0.7412\n",
      "Epoch 018: Loss 0.6692, TrainAcc 0.8235, ValAcc 0.7412\n",
      "Epoch 019: Loss 0.6623, TrainAcc 0.8118, ValAcc 0.7294\n",
      "Test accuarcy:  0.7411764860153198\n"
     ]
    }
   ],
   "source": [
    "loss, val_acc = train()\n",
    "test_acc, test_logits, test_label,pre_label = test(tensor_test_mask)\n",
    "print(\"Test accuarcy: \", test_acc.item())"
   ]
  },
  {
   "cell_type": "code",
   "execution_count": 14,
   "id": "9b44358d",
   "metadata": {},
   "outputs": [],
   "source": [
    "def plot_loss_with_acc(loss_history, val_acc_history):\n",
    "    fig = plt.figure()\n",
    "    ax1 = fig.add_subplot(111)\n",
    "    ax1.plot(range(len(loss_history)), loss_history,\n",
    "             c=np.array([255, 71, 90]) / 255.)\n",
    "    plt.ylabel('Loss')\n",
    "    \n",
    "\n",
    "    \n",
    "    plt.xlabel('Epoch')\n",
    "    plt.title('Training Loss ')\n",
    "    plt.show() \n",
    "\n",
    " "
   ]
  },
  {
   "cell_type": "code",
   "execution_count": 15,
   "id": "6a2c09bc",
   "metadata": {},
   "outputs": [
    {
     "data": {
      "image/png": "[encoded data removed]",
      "text/plain": [
       "<Figure size 432x288 with 1 Axes>"
      ]
     },
     "metadata": {
      "needs_background": "light"
     },
     "output_type": "display_data"
    }
   ],
   "source": [
    "plot_loss_with_acc(loss, [])"
   ]
  },
  {
   "cell_type": "code",
   "execution_count": 16,
   "id": "05cf366f",
   "metadata": {},
   "outputs": [
    {
     "name": "stdout",
     "output_type": "stream",
     "text": [
      "purity :  0.1588235294117647\n",
      "ARI :  0.0\n",
      "NMI :  0.0\n"
     ]
    }
   ],
   "source": [
    " \n",
    "# y_pred = KMeans(n_clusters=12,init='k-means++').fit_predict(feature_layer.detach().numpy())\n",
    "def purity_score(y_true, y_pred):\n",
    "    # compute contingency matrix (also called confusion matrix)\n",
    "    contingency_matrix = metrics.cluster.contingency_matrix(y_true, y_pred)\n",
    "    # return purity\n",
    "    return np.sum(np.amax(contingency_matrix, axis=0)) / np.sum(contingency_matrix)\n",
    "\n",
    "print('purity : ',purity_score(labelList[test_mask],pre_label))\n",
    "print('ARI : ',adjusted_rand_score(labelList[test_mask],pre_label))\n",
    "print('NMI : ',normalized_mutual_info_score(labelList[test_mask],pre_label))\n"
   ]
  },
  {
   "cell_type": "code",
   "execution_count": 17,
   "id": "1946aa10",
   "metadata": {},
   "outputs": [
    {
     "data": {
      "text/plain": [
       "<matplotlib.legend.Legend at 0x1c196523610>"
      ]
     },
     "execution_count": 17,
     "metadata": {},
     "output_type": "execute_result"
    },
    {
     "data": {
      "image/png": "[encoded data removed]",
      "text/plain": [
       "<Figure size 432x288 with 1 Axes>"
      ]
     },
     "metadata": {
      "needs_background": "light"
     },
     "output_type": "display_data"
    }
   ],
   "source": [
    "from sklearn.manifold import TSNE\n",
    "tsne = TSNE()\n",
    "out = tsne.fit_transform(test_logits)\n",
    "fig = plt.figure()\n",
    "for i in range(12):\n",
    "    indices = test_label == i\n",
    "    x, y = out[indices].T\n",
    "    plt.scatter(x, y, label=str(i))\n",
    "plt.legend()"
   ]
  },
  {
   "cell_type": "code",
   "execution_count": null,
   "id": "6bc81980",
   "metadata": {},
   "outputs": [],
   "source": []
  }
 ],
 "metadata": {
  "kernelspec": {
   "display_name": "Python 3 (ipykernel)",
   "language": "python",
   "name": "python3"
  },
  "language_info": {
   "codemirror_mode": {
    "name": "ipython",
    "version": 3
   },
   "file_extension": ".py",
   "mimetype": "text/x-python",
   "name": "python",
   "nbconvert_exporter": "python",
   "pygments_lexer": "ipython3",
   "version": "3.9.7"
  }
 },
 "nbformat": 4,
 "nbformat_minor": 5
}
