{
 "cells": [
  {
   "cell_type": "code",
   "execution_count": 3,
   "id": "dd0dabd2",
   "metadata": {},
   "outputs": [],
   "source": [
    "import numpy as np\n",
    "import pandas as pd\n",
    "\n",
    "import operator\n",
    " \n",
    "\n",
    "from sklearn.cluster import KMeans\n",
    "from sklearn import metrics\n",
    "from sklearn.metrics.cluster import adjusted_rand_score\n",
    "from sklearn.metrics.cluster import normalized_mutual_info_score\n"
   ]
  },
  {
   "cell_type": "code",
   "execution_count": 4,
   "id": "8a28810f",
   "metadata": {},
   "outputs": [],
   "source": [
    "def purity_score(y_true, y_pred):\n",
    "    # compute contingency matrix (also called confusion matrix)\n",
    "    contingency_matrix = metrics.cluster.contingency_matrix(y_true, y_pred)\n",
    "    # return purity\n",
    "    return np.sum(np.amax(contingency_matrix, axis=0)) / np.sum(contingency_matrix)"
   ]
  },
  {
   "cell_type": "code",
   "execution_count": 28,
   "id": "22d97e42",
   "metadata": {},
   "outputs": [],
   "source": [
    "labelList=pd.read_csv('../data/label.csv',header=None)[1]\n",
    "for i in range(0,len(labelList)):\n",
    "    labelList[i]+=2\n",
    "\n",
    "\n",
    "iDList=pd.read_csv('../data/label.csv',header=None)[0].to_list()\n",
    " "
   ]
  },
  {
   "cell_type": "code",
   "execution_count": 29,
   "id": "984b1aec",
   "metadata": {},
   "outputs": [
    {
     "data": {
      "text/plain": [
       "130"
      ]
     },
     "execution_count": 29,
     "metadata": {},
     "output_type": "execute_result"
    }
   ],
   "source": [
    "\n",
    "y_pred=[0 for i in range(0,850)]\n",
    "\n",
    "for i in range(1,10):\n",
    "    \n",
    "    with open(f'../data/maxbin2_result/maxbin.00{i}.fasta') as f:\n",
    " \n",
    "        for line in f.readlines():\n",
    "     \n",
    "            if line.startswith(\">\"):\n",
    "                \n",
    "                key = line[1:].strip()\n",
    "                idx=iDList.index(key)\n",
    "                y_pred[idx]=i\n",
    "                \n",
    "for i in range(10,14):\n",
    "    \n",
    "    with open(f'../data/maxbin2_result/maxbin.0{i}.fasta') as f:\n",
    " \n",
    "        for line in f.readlines():\n",
    "     \n",
    "            if line.startswith(\">\"):\n",
    "                \n",
    "                key = line[1:].strip()\n",
    "                idx=iDList.index(key)\n",
    "                y_pred[idx]=i\n",
    "                 \n",
    " \n",
    "useless_idx=[]\n",
    "for i in range(0,len(y_pred)):\n",
    "    if y_pred[i]==0:\n",
    "        useless_idx.append(i)\n",
    "y_pred=[x for x in y_pred if x != 0]\n",
    "# len(y_pred)\n",
    "len(useless_idx)\n",
    "\n"
   ]
  },
  {
   "cell_type": "code",
   "execution_count": 30,
   "id": "0e069a4d",
   "metadata": {},
   "outputs": [
    {
     "name": "stdout",
     "output_type": "stream",
     "text": [
      "purity :  0.6222222222222222\n",
      "ARI :  0.45421309566602125\n",
      "NMI :  0.5618489681204193\n"
     ]
    }
   ],
   "source": [
    "for i in reversed(useless_idx):\n",
    "    del labelList[i]\n",
    "\n",
    "print('purity : ',purity_score(labelList,y_pred))\n",
    "print('ARI : ',adjusted_rand_score(labelList,y_pred))\n",
    "print('NMI : ',normalized_mutual_info_score(labelList,y_pred ))"
   ]
  },
  {
   "cell_type": "code",
   "execution_count": null,
   "id": "ed9c4035",
   "metadata": {},
   "outputs": [],
   "source": []
  }
 ],
 "metadata": {
  "kernelspec": {
   "display_name": "Python 3 (ipykernel)",
   "language": "python",
   "name": "python3"
  },
  "language_info": {
   "codemirror_mode": {
    "name": "ipython",
    "version": 3
   },
   "file_extension": ".py",
   "mimetype": "text/x-python",
   "name": "python",
   "nbconvert_exporter": "python",
   "pygments_lexer": "ipython3",
   "version": "3.9.7"
  }
 },
 "nbformat": 4,
 "nbformat_minor": 5
}
