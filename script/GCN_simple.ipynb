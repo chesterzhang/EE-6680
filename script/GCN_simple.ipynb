{
 "cells": [
  {
   "cell_type": "code",
   "execution_count": 1,
   "id": "94956ab9",
   "metadata": {},
   "outputs": [],
   "source": [
    "import itertools\n",
    "import os\n",
    "import os.path as osp\n",
    "import pickle\n",
    "import urllib\n",
    "from collections import namedtuple\n",
    "\n",
    "import numpy as np\n",
    "import scipy.sparse as sp\n",
    "import torch\n",
    "import torch.nn as nn\n",
    "import torch.nn.functional as F\n",
    "import torch.nn.init as init\n",
    "import torch.optim as optim\n",
    "import matplotlib.pyplot as plt\n",
    "from torch.nn import Linear \n",
    "\n",
    "import pandas as pd\n",
    "%matplotlib inline"
   ]
  },
  {
   "cell_type": "code",
   "execution_count": 2,
   "id": "1a1f6e97",
   "metadata": {},
   "outputs": [],
   "source": [
    "Data = namedtuple('Data', ['x', 'y', 'adjacency',\n",
    "                           'train_mask', 'val_mask', 'test_mask'])\n",
    "\n",
    "\n",
    "def tensor_from_numpy(x, device):\n",
    "    return torch.from_numpy(x).to(device)\n",
    "\n",
    "\n",
    "# class CoraData(object):\n",
    "#     filenames = [\"ind.cora.{}\".format(name) for name in\n",
    "#                  ['x', 'tx', 'allx', 'y', 'ty', 'ally', 'graph', 'test.index']]\n",
    "\n",
    "#     def __init__(self, data_root=\"../data/cora\", rebuild=False):\n",
    "#         \"\"\"Cora数据，包括数据下载，处理，加载等功能\n",
    "#         当数据的缓存文件存在时，将使用缓存文件，否则将下载、进行处理，并缓存到磁盘\n",
    "\n",
    "#         处理之后的数据可以通过属性 .data 获得，它将返回一个数据对象，包括如下几部分：\n",
    "#             * x: 节点的特征，维度为 2708 * 1433，类型为 np.ndarray\n",
    "#             * y: 节点的标签，总共包括7个类别，类型为 np.ndarray\n",
    "#             * adjacency: 邻接矩阵，维度为 2708 * 2708，类型为 scipy.sparse.coo.coo_matrix\n",
    "#             * train_mask: 训练集掩码向量，维度为 2708，当节点属于训练集时，相应位置为True，否则False\n",
    "#             * val_mask: 验证集掩码向量，维度为 2708，当节点属于验证集时，相应位置为True，否则False\n",
    "#             * test_mask: 测试集掩码向量，维度为 2708，当节点属于测试集时，相应位置为True，否则False\n",
    "\n",
    "#         Args:\n",
    "#         -------\n",
    "#             data_root: string, optional\n",
    "#                 存放数据的目录，原始数据路径: ../data/cora\n",
    "#                 缓存数据路径: {data_root}/ch5_cached.pkl\n",
    "#             rebuild: boolean, optional\n",
    "#                 是否需要重新构建数据集，当设为True时，如果存在缓存数据也会重建数据\n",
    "\n",
    "#         \"\"\"\n",
    "#         self.data_root = data_root\n",
    "#         save_file = osp.join(self.data_root, \"ch5_cached.pkl\")\n",
    "#         if osp.exists(save_file) and not rebuild:\n",
    "#             print(\"Using Cached file: {}\".format(save_file))\n",
    "#             self._data = pickle.load(open(save_file, \"rb\"))\n",
    "#         else:\n",
    "#             self._data = self.process_data()\n",
    "#             with open(save_file, \"wb\") as f:\n",
    "#                 pickle.dump(self.data, f)\n",
    "#             print(\"Cached file: {}\".format(save_file))\n",
    "    \n",
    "#     @property\n",
    "#     def data(self):\n",
    "#         \"\"\"返回Data数据对象，包括x, y, adjacency, train_mask, val_mask, test_mask\"\"\"\n",
    "#         return self._data\n",
    "\n",
    "#     def process_data(self):\n",
    "#         \"\"\"\n",
    "#         处理数据，得到节点特征和标签，邻接矩阵，训练集、验证集以及测试集\n",
    "#         引用自：https://github.com/rusty1s/pytorch_geometric\n",
    "#         \"\"\"\n",
    "#         print(\"Process data ...\")\n",
    "#         _, tx, allx, y, ty, ally, graph, test_index = [self.read_data(\n",
    "#             osp.join(self.data_root, name)) for name in self.filenames]\n",
    "#         train_index = np.arange(y.shape[0])\n",
    "#         val_index = np.arange(y.shape[0], y.shape[0] + 500)\n",
    "#         sorted_test_index = sorted(test_index)\n",
    "\n",
    "#         x = np.concatenate((allx, tx), axis=0)\n",
    "#         y = np.concatenate((ally, ty), axis=0).argmax(axis=1)\n",
    "\n",
    "#         x[test_index] = x[sorted_test_index]\n",
    "#         y[test_index] = y[sorted_test_index]\n",
    "#         num_nodes = x.shape[0]\n",
    "\n",
    "#         train_mask = np.zeros(num_nodes, dtype=np.bool)\n",
    "#         val_mask = np.zeros(num_nodes, dtype=np.bool)\n",
    "#         test_mask = np.zeros(num_nodes, dtype=np.bool)\n",
    "#         train_mask[train_index] = True\n",
    "#         val_mask[val_index] = True\n",
    "#         test_mask[test_index] = True\n",
    "#         adjacency = self.build_adjacency(graph)\n",
    "#         print(\"Node's feature shape: \", x.shape)\n",
    "#         print(\"Node's label shape: \", y.shape)\n",
    "#         print(\"Adjacency's shape: \", adjacency.shape)\n",
    "#         print(\"Number of training nodes: \", train_mask.sum())\n",
    "#         print(\"Number of validation nodes: \", val_mask.sum())\n",
    "#         print(\"Number of test nodes: \", test_mask.sum())\n",
    "\n",
    "#         return Data(x=x, y=y, adjacency=adjacency,\n",
    "#                     train_mask=train_mask, val_mask=val_mask, test_mask=test_mask)\n",
    "\n",
    "#     @staticmethod\n",
    "#     def build_adjacency(adj_dict):\n",
    "#         \"\"\"根据邻接表创建邻接矩阵\"\"\"\n",
    "#         edge_index = []\n",
    "#         num_nodes = len(adj_dict)\n",
    "#         for src, dst in adj_dict.items():\n",
    "#             edge_index.extend([src, v] for v in dst)\n",
    "#             edge_index.extend([v, src] for v in dst)\n",
    "#         # 去除重复的边\n",
    "#         edge_index = list(k for k, _ in itertools.groupby(sorted(edge_index)))\n",
    "#         edge_index = np.asarray(edge_index)\n",
    "#         adjacency = sp.coo_matrix((np.ones(len(edge_index)), \n",
    "#                                    (edge_index[:, 0], edge_index[:, 1])),\n",
    "#                     shape=(num_nodes, num_nodes), dtype=\"float32\")\n",
    "#         return adjacency\n",
    "\n",
    "#     @staticmethod\n",
    "#     def read_data(path):\n",
    "#         \"\"\"使用不同的方式读取原始数据以进一步处理\"\"\"\n",
    "#         name = osp.basename(path)\n",
    "#         if name == \"ind.cora.test.index\":\n",
    "#             out = np.genfromtxt(path, dtype=\"int64\")\n",
    "#             return out\n",
    "#         else:\n",
    "#             out = pickle.load(open(path, \"rb\"), encoding=\"latin1\")\n",
    "#             out = out.toarray() if hasattr(out, \"toarray\") else out\n",
    "#             return out\n",
    "\n",
    "#     @staticmethod\n",
    "#     def normalization(adjacency):\n",
    "#         \"\"\"计算 L=D^-0.5 * (A+I) * D^-0.5\"\"\"\n",
    "#         adjacency += sp.eye(adjacency.shape[0])    # 增加自连接\n",
    "#         degree = np.array(adjacency.sum(1))\n",
    "#         d_hat = sp.diags(np.power(degree, -0.5).flatten())\n",
    "#         return d_hat.dot(adjacency).dot(d_hat).tocoo()\n",
    "\n",
    "\n"
   ]
  },
  {
   "cell_type": "code",
   "execution_count": 3,
   "id": "ced9ed19",
   "metadata": {},
   "outputs": [],
   "source": [
    "class GraphConvolution(nn.Module):\n",
    "    def __init__(self, input_dim, output_dim, use_bias=True):\n",
    "        \"\"\"图卷积：L*X*\\theta\n",
    "\n",
    "        Args:\n",
    "        ----------\n",
    "            input_dim: int\n",
    "                节点输入特征的维度\n",
    "            output_dim: int\n",
    "                输出特征维度\n",
    "            use_bias : bool, optional\n",
    "                是否使用偏置\n",
    "        \"\"\"\n",
    "        super(GraphConvolution, self).__init__()\n",
    "        self.input_dim = input_dim\n",
    "        self.output_dim = output_dim\n",
    "        self.use_bias = use_bias\n",
    "        self.weight = nn.Parameter(torch.Tensor(input_dim, output_dim))\n",
    "        if self.use_bias:\n",
    "            self.bias = nn.Parameter(torch.Tensor(output_dim))\n",
    "        else:\n",
    "            self.register_parameter('bias', None)\n",
    "        self.reset_parameters()\n",
    "\n",
    "    def reset_parameters(self):\n",
    "        init.kaiming_uniform_(self.weight)\n",
    "        if self.use_bias:\n",
    "            init.zeros_(self.bias)\n",
    "\n",
    "    def forward(self, adjacency, input_feature):\n",
    "        \"\"\"邻接矩阵是稀疏矩阵，因此在计算时使用稀疏矩阵乘法\n",
    "    \n",
    "        Args: \n",
    "        -------\n",
    "            adjacency: torch.sparse.FloatTensor\n",
    "                邻接矩阵\n",
    "            input_feature: torch.Tensor\n",
    "                输入特征\n",
    "        \"\"\"\n",
    "        support = torch.mm(input_feature, self.weight)\n",
    "        output = torch.sparse.mm(adjacency, support)\n",
    "        if self.use_bias:\n",
    "            output += self.bias\n",
    "        return output\n",
    "\n",
    "    def __repr__(self):\n",
    "        return self.__class__.__name__ + ' (' \\\n",
    "            + str(self.input_dim) + ' -> ' \\\n",
    "            + str(self.output_dim) + ')'\n"
   ]
  },
  {
   "cell_type": "code",
   "execution_count": 4,
   "id": "b81302e3",
   "metadata": {},
   "outputs": [],
   "source": [
    "class GcnNet(nn.Module):\n",
    "    \"\"\"\n",
    "    定义一个包含两层GraphConvolution的模型\n",
    "    \"\"\"\n",
    "    def __init__(self, input_dim=1433):\n",
    "        super(GcnNet, self).__init__()\n",
    "        self.gcn1 = GraphConvolution(input_dim, 64)\n",
    "        self.gcn2 = GraphConvolution(64,32)\n",
    "        self.gcn3 = GraphConvolution(32, 12)\n",
    " \n",
    "    \n",
    "    def forward(self, adjacency, feature):\n",
    "        h1 = F.relu(self.gcn1(adjacency, feature))\n",
    "        h2  = F.relu(self.gcn2(adjacency, h1))\n",
    "        h3 = self.gcn3(adjacency, h2)\n",
    "        return  h3\n"
   ]
  },
  {
   "cell_type": "code",
   "execution_count": 5,
   "id": "28863c4f",
   "metadata": {},
   "outputs": [],
   "source": [
    "# 超参数定义\n",
    "LEARNING_RATE = 0.05\n",
    "WEIGHT_DACAY = 5e-4\n",
    "EPOCHS = 20\n",
    "DEVICE = \"cuda\" if torch.cuda.is_available() else \"cpu\"\n"
   ]
  },
  {
   "cell_type": "code",
   "execution_count": 6,
   "id": "c53b0dbf",
   "metadata": {},
   "outputs": [],
   "source": [
    "node_feature = np.load('../data/X_np/X.npy')/ np.load('../data/X_np/X.npy').sum(1, keepdims=True)   \n",
    "\n",
    "node_feature = node_feature.astype(np.float32)\n",
    " \n",
    "\n",
    "tensor_x = tensor_from_numpy(node_feature, DEVICE)\n",
    "labelList=pd.read_csv('../data/label.csv',header=None)[1]\n",
    "for i in range(0,len(labelList)):\n",
    "    labelList[i]+=1\n",
    "    \n",
    "\n",
    "tensor_y = tensor_from_numpy( np.array(labelList,dtype=np.int64),DEVICE)"
   ]
  },
  {
   "cell_type": "code",
   "execution_count": null,
   "id": "a827aec6",
   "metadata": {},
   "outputs": [],
   "source": [
    "\n"
   ]
  },
  {
   "cell_type": "code",
   "execution_count": 7,
   "id": "f4e4d1a0",
   "metadata": {},
   "outputs": [],
   "source": [
    "\n",
    " \n",
    "\n",
    "train_mask=[False for i in range(0,850)]\n",
    "for i in range(0,680):\n",
    "    train_mask[i]=True\n",
    " \n",
    "val_mask=[False for i in range(0,850)]\n",
    "for i in range(680,765):\n",
    "    val_mask[i]=True\n",
    "    \n",
    "test_mask=[False for i in range(0,850)]\n",
    "for i in range(765,850):\n",
    "    test_mask[i]=True\n",
    "    \n",
    "\n",
    "\n",
    "tensor_train_mask = tensor_from_numpy(np.array(train_mask), DEVICE )\n",
    "tensor_val_mask = tensor_from_numpy(np.array(val_mask), DEVICE)\n",
    "tensor_test_mask = tensor_from_numpy(np.array(test_mask), DEVICE)\n",
    "\n",
    "adjacency=np.load('../data/A_np/A.npy')\n",
    "\n",
    "        \n",
    "adjacency=adjacency.astype(np.double)\n",
    "adjacency = sp.csr_matrix(adjacency)\n",
    "adjacency = sp.coo_matrix(adjacency)\n",
    "adjacency += sp.eye(adjacency.shape[0])    # 增加自连接\n",
    "degree = np.array(adjacency.sum(1))\n",
    "d_hat = sp.diags(np.power(degree, -0.5).flatten())\n",
    "normalize_adjacency = d_hat.dot(adjacency).dot(d_hat).tocoo()  # 规范化邻接矩阵\n",
    "\n",
    "num_nodes, input_dim = node_feature.shape\n",
    "indices = torch.from_numpy(np.asarray([normalize_adjacency.row, \n",
    "                                       normalize_adjacency.col]).astype('int64')).long()\n",
    "values = torch.from_numpy(normalize_adjacency.data.astype(np.float32))\n",
    "tensor_adjacency = torch.sparse.FloatTensor(indices, values, \n",
    "                                            (num_nodes, num_nodes)).to(DEVICE)"
   ]
  },
  {
   "cell_type": "code",
   "execution_count": null,
   "id": "e90d8bb4",
   "metadata": {},
   "outputs": [],
   "source": []
  },
  {
   "cell_type": "code",
   "execution_count": 8,
   "id": "5f9ecbb0",
   "metadata": {},
   "outputs": [],
   "source": [
    "# 模型定义：Model, Loss, Optimizer\n",
    "model = GcnNet(input_dim).to(DEVICE)\n",
    "criterion = nn.CrossEntropyLoss().to(DEVICE)\n",
    "optimizer = optim.Adam(model.parameters(), \n",
    "                       lr=LEARNING_RATE, \n",
    "                       weight_decay=WEIGHT_DACAY)"
   ]
  },
  {
   "cell_type": "code",
   "execution_count": 19,
   "id": "39449021",
   "metadata": {},
   "outputs": [],
   "source": [
    "# 训练主体函数\n",
    "def train():\n",
    "    loss_history = []\n",
    "    val_acc_history = []\n",
    "    model.train()\n",
    "    train_y = tensor_y[tensor_train_mask]\n",
    "    for epoch in range(EPOCHS):\n",
    "        # tensor_adjacency 也就是 A 矩阵, tensor_x 也就是 X 矩阵\n",
    "        logits = model(tensor_adjacency, tensor_x)  # 前向传播\n",
    "        train_mask_logits = logits[tensor_train_mask]   # 只选择训练节点进行监督\n",
    "        loss = criterion(train_mask_logits, train_y)    # 计算损失值\n",
    "        optimizer.zero_grad()\n",
    "        loss.backward()     # 反向传播计算参数的梯度\n",
    "        optimizer.step()    # 使用优化方法进行梯度更新\n",
    "        train_acc, _, _ = test(tensor_train_mask)     # 计算当前模型训练集上的准确率\n",
    "        val_acc, _, _ = test(tensor_val_mask)     # 计算当前模型在验证集上的准确率\n",
    "        # 记录训练过程中损失值和准确率的变化，用于画图\n",
    "        loss_history.append(loss.item())\n",
    "        val_acc_history.append(val_acc.item())\n",
    "        print(\"Epoch {:03d}: Loss {:.4f}, TrainAcc {:.4}, ValAcc {:.4f}\".format(\n",
    "            epoch, loss.item(), train_acc.item(), val_acc.item()))\n",
    "    \n",
    "    return loss_history, val_acc_history\n"
   ]
  },
  {
   "cell_type": "code",
   "execution_count": 20,
   "id": "28907ee3",
   "metadata": {},
   "outputs": [],
   "source": [
    "# 测试函数\n",
    "def test(mask):\n",
    "    model.eval()\n",
    "    with torch.no_grad():\n",
    "        logits = model(tensor_adjacency, tensor_x)\n",
    "        test_mask_logits = logits[mask]\n",
    "        predict_y = test_mask_logits.max(1)[1]# 测试集占 10% 也就是 85个\n",
    "        accuarcy = torch.eq(predict_y, tensor_y[mask]).float().mean()\n",
    "    return accuarcy, test_mask_logits.cpu().numpy(), tensor_y[mask].cpu().numpy()\n"
   ]
  },
  {
   "cell_type": "code",
   "execution_count": null,
   "id": "bc0a993e",
   "metadata": {},
   "outputs": [],
   "source": []
  },
  {
   "cell_type": "code",
   "execution_count": 21,
   "id": "16eb5352",
   "metadata": {},
   "outputs": [],
   "source": [
    "def plot_loss_with_acc(loss_history, val_acc_history):\n",
    "    fig = plt.figure()\n",
    "    ax1 = fig.add_subplot(111)\n",
    "    ax1.plot(range(len(loss_history)), loss_history,\n",
    "             c=np.array([255, 71, 90]) / 255.)\n",
    "    plt.ylabel('Loss')\n",
    "    \n",
    "    ax2 = fig.add_subplot(111, sharex=ax1, frameon=False)\n",
    "    ax2.plot(range(len(val_acc_history)), val_acc_history,\n",
    "             c=np.array([79, 179, 255]) / 255.)\n",
    "    ax2.yaxis.tick_right()\n",
    "    ax2.yaxis.set_label_position(\"right\")\n",
    "    plt.ylabel('ValAcc')\n",
    "    \n",
    "    plt.xlabel('Epoch')\n",
    "    plt.title('Training Loss & Validation Accuracy')\n",
    "    plt.show()\n"
   ]
  },
  {
   "cell_type": "code",
   "execution_count": 22,
   "id": "3ae37fd7",
   "metadata": {},
   "outputs": [
    {
     "name": "stdout",
     "output_type": "stream",
     "text": [
      "Epoch 000: Loss 0.1350, TrainAcc 0.9838, ValAcc 0.9882\n",
      "Epoch 001: Loss 0.1436, TrainAcc 0.9897, ValAcc 0.9882\n",
      "Epoch 002: Loss 0.1708, TrainAcc 0.9162, ValAcc 0.9176\n",
      "Epoch 003: Loss 0.1974, TrainAcc 0.9765, ValAcc 0.9882\n",
      "Epoch 004: Loss 0.1460, TrainAcc 0.9912, ValAcc 1.0000\n",
      "Epoch 005: Loss 0.1070, TrainAcc 0.9868, ValAcc 0.9882\n",
      "Epoch 006: Loss 0.1049, TrainAcc 1.0, ValAcc 1.0000\n",
      "Epoch 007: Loss 0.1000, TrainAcc 1.0, ValAcc 1.0000\n",
      "Epoch 008: Loss 0.1117, TrainAcc 1.0, ValAcc 1.0000\n",
      "Epoch 009: Loss 0.0903, TrainAcc 0.9985, ValAcc 0.9882\n",
      "Epoch 010: Loss 0.0898, TrainAcc 0.9956, ValAcc 0.9882\n",
      "Epoch 011: Loss 0.0898, TrainAcc 1.0, ValAcc 1.0000\n",
      "Epoch 012: Loss 0.0846, TrainAcc 1.0, ValAcc 1.0000\n",
      "Epoch 013: Loss 0.0874, TrainAcc 0.9956, ValAcc 0.9882\n",
      "Epoch 014: Loss 0.0970, TrainAcc 0.9956, ValAcc 0.9882\n",
      "Epoch 015: Loss 0.0932, TrainAcc 1.0, ValAcc 1.0000\n",
      "Epoch 016: Loss 0.0939, TrainAcc 1.0, ValAcc 1.0000\n",
      "Epoch 017: Loss 0.0873, TrainAcc 0.9956, ValAcc 0.9882\n",
      "Epoch 018: Loss 0.0918, TrainAcc 1.0, ValAcc 1.0000\n",
      "Epoch 019: Loss 0.0796, TrainAcc 1.0, ValAcc 1.0000\n",
      "Test accuarcy:  1.0\n"
     ]
    }
   ],
   "source": [
    "loss, val_acc = train()\n",
    "test_acc, test_logits, test_label = test(tensor_test_mask)\n",
    "print(\"Test accuarcy: \", test_acc.item())"
   ]
  },
  {
   "cell_type": "code",
   "execution_count": 23,
   "id": "147b01c6",
   "metadata": {},
   "outputs": [
    {
     "data": {
      "image/png": "[encoded data removed]",
      "text/plain": [
       "<Figure size 432x288 with 2 Axes>"
      ]
     },
     "metadata": {
      "needs_background": "light"
     },
     "output_type": "display_data"
    }
   ],
   "source": [
    "plot_loss_with_acc(loss, val_acc)"
   ]
  },
  {
   "cell_type": "code",
   "execution_count": 24,
   "id": "4aef1df2",
   "metadata": {},
   "outputs": [
    {
     "data": {
      "text/plain": [
       "(85, 12)"
      ]
     },
     "execution_count": 24,
     "metadata": {},
     "output_type": "execute_result"
    }
   ],
   "source": [
    "test_logits.shape # 也就是 GCN 最后一层出来的结果"
   ]
  },
  {
   "cell_type": "code",
   "execution_count": 25,
   "id": "c8e1147c",
   "metadata": {
    "scrolled": true
   },
   "outputs": [
    {
     "data": {
      "text/plain": [
       "<matplotlib.legend.Legend at 0x1e1426888b0>"
      ]
     },
     "execution_count": 25,
     "metadata": {},
     "output_type": "execute_result"
    },
    {
     "data": {
      "image/png": "[encoded data removed]",
      "text/plain": [
       "<Figure size 432x288 with 1 Axes>"
      ]
     },
     "metadata": {
      "needs_background": "light"
     },
     "output_type": "display_data"
    }
   ],
   "source": [
    "# 绘制测试数据的TSNE降维图, 按照某种分布来进行映射,降维到二维\n",
    "#因为存在随机化的参数, 所以每一次降维后的的结果都会不同, 也就是显示效果略有不同\n",
    "from sklearn.manifold import TSNE\n",
    "tsne = TSNE()\n",
    "out = tsne.fit_transform(test_logits)\n",
    "fig = plt.figure()\n",
    "for i in range(12):\n",
    "    indices = test_label == i\n",
    "    x, y = out[indices].T\n",
    "    plt.scatter(x, y, label=str(i))\n",
    "plt.legend()"
   ]
  },
  {
   "cell_type": "code",
   "execution_count": 27,
   "id": "8f483596",
   "metadata": {},
   "outputs": [
    {
     "data": {
      "text/plain": [
       "(85, 12)"
      ]
     },
     "execution_count": 27,
     "metadata": {},
     "output_type": "execute_result"
    }
   ],
   "source": [
    "test_logits.shape"
   ]
  },
  {
   "cell_type": "code",
   "execution_count": null,
   "id": "6d496627",
   "metadata": {},
   "outputs": [],
   "source": []
  },
  {
   "cell_type": "code",
   "execution_count": null,
   "id": "8650cc99",
   "metadata": {},
   "outputs": [],
   "source": [
    " "
   ]
  },
  {
   "cell_type": "code",
   "execution_count": null,
   "id": "ea838022",
   "metadata": {},
   "outputs": [],
   "source": []
  }
 ],
 "metadata": {
  "kernelspec": {
   "display_name": "Python 3 (ipykernel)",
   "language": "python",
   "name": "python3"
  },
  "language_info": {
   "codemirror_mode": {
    "name": "ipython",
    "version": 3
   },
   "file_extension": ".py",
   "mimetype": "text/x-python",
   "name": "python",
   "nbconvert_exporter": "python",
   "pygments_lexer": "ipython3",
   "version": "3.9.7"
  }
 },
 "nbformat": 4,
 "nbformat_minor": 5
}
