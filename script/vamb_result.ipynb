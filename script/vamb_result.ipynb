{
 "cells": [
  {
   "cell_type": "code",
   "execution_count": 1,
   "id": "9f6b4a7b",
   "metadata": {},
   "outputs": [],
   "source": [
    "import numpy as np\n",
    "import pandas as pd\n",
    "\n",
    "import operator\n",
    " \n",
    "from sklearn.cluster import KMeans\n",
    "from sklearn import metrics\n",
    "from sklearn.metrics.cluster import adjusted_rand_score\n",
    "from sklearn.metrics.cluster import normalized_mutual_info_score\n",
    "from sklearn.metrics.cluster import homogeneity_score\n",
    "from sklearn.metrics.cluster import completeness_score"
   ]
  },
  {
   "cell_type": "code",
   "execution_count": 2,
   "id": "9d30f88e",
   "metadata": {},
   "outputs": [],
   "source": [
    "def purity_score(y_true, y_pred):\n",
    "    # compute contingency matrix (also called confusion matrix)\n",
    "    contingency_matrix = metrics.cluster.contingency_matrix(y_true, y_pred)\n",
    "    # return purity\n",
    "    return np.sum(np.amax(contingency_matrix, axis=0)) / np.sum(contingency_matrix)"
   ]
  },
  {
   "cell_type": "markdown",
   "id": "4afb7e2c",
   "metadata": {},
   "source": [
    "## Without throwing contigs with high similarity"
   ]
  },
  {
   "cell_type": "code",
   "execution_count": 3,
   "id": "1967a783",
   "metadata": {},
   "outputs": [
    {
     "name": "stdout",
     "output_type": "stream",
     "text": [
      "purity :  0.5411764705882353\n",
      "ARI :  0.3095894069478316\n",
      "NMI :  0.5770906758281333\n",
      "homogeneity :  0.5164795536497147\n",
      "completeness :  0.6538192032845199\n"
     ]
    }
   ],
   "source": [
    "labelList=pd.read_csv('../data/label.csv',header=None)[1]\n",
    "for i in range(0,len(labelList)):\n",
    "    labelList[i]+=2\n",
    "\n",
    "iDList=pd.read_csv('../data/label.csv',header=None)[0].to_list()\n",
    "\n",
    "y_pred=[0 for i in range(0,850)]\n",
    "\n",
    "vamb_clusters=pd.read_csv('../data/vamb_result/clusters.tsv', sep='\\t',header=None)[0].to_list()\n",
    "\n",
    "vamb_ids=pd.read_csv('../data/vamb_result/clusters.tsv', sep='\\t',header=None)[1].to_list()\n",
    "\n",
    "for i in range(0,len(vamb_ids)):\n",
    "    vamb_ids[i]=vamb_ids[i].split()[0]\n",
    "    \n",
    "for i in range(0,len(vamb_ids)):\n",
    "    try:\n",
    "        id_idx=iDList.index(vamb_ids[i])\n",
    "        y_pred[id_idx]=vamb_clusters[i]\n",
    "    except:\n",
    "        continue\n",
    "    \n",
    "print('purity : ',purity_score(labelList,y_pred))\n",
    "print('ARI : ',adjusted_rand_score(labelList,y_pred))\n",
    "print('NMI : ',normalized_mutual_info_score(labelList,y_pred ))\n",
    "print('homogeneity : ',homogeneity_score(labelList,y_pred ))\n",
    "print('completeness : ',completeness_score(labelList,y_pred ))"
   ]
  },
  {
   "cell_type": "markdown",
   "id": "c41ade00",
   "metadata": {},
   "source": [
    "## After throwing contigs with high similarity"
   ]
  },
  {
   "cell_type": "code",
   "execution_count": 4,
   "id": "2116c7cf",
   "metadata": {},
   "outputs": [
    {
     "name": "stdout",
     "output_type": "stream",
     "text": [
      "325\n",
      "525\n",
      "purity :  0.7257142857142858\n",
      "ARI :  0.5758867386251847\n",
      "NMI :  0.7480576397068002\n",
      "homogeneity :  0.7175197247173798\n",
      "completeness :  0.781310515234318\n"
     ]
    }
   ],
   "source": [
    "labelList=pd.read_csv('../data/label.csv',header=None)[1]\n",
    "for i in range(0,len(labelList)):\n",
    "    labelList[i]+=2\n",
    "\n",
    "iDList=pd.read_csv('../data/label.csv',header=None)[0].to_list()\n",
    "\n",
    "y_pred=[0 for i in range(0,850)]\n",
    "\n",
    "vamb_clusters=pd.read_csv('../data/vamb_result/clusters.tsv', sep='\\t',header=None)[0].to_list()\n",
    "\n",
    "vamb_ids=pd.read_csv('../data/vamb_result/clusters.tsv', sep='\\t',header=None)[1].to_list()\n",
    "\n",
    "for i in range(0,len(vamb_ids)):\n",
    "    vamb_ids[i]=vamb_ids[i].split()[0]\n",
    "    \n",
    "for i in range(0,len(vamb_ids)):\n",
    "    try:\n",
    "        id_idx=iDList.index(vamb_ids[i])\n",
    "        y_pred[id_idx]=vamb_clusters[i]\n",
    "    except:\n",
    "        continue\n",
    "        \n",
    "useless_idx=[]\n",
    "useful_idx=[]\n",
    "for i in range(0,len(y_pred)):\n",
    "    if y_pred[i]==0:\n",
    "        useless_idx.append(i)\n",
    "    else:\n",
    "        useful_idx.append(i)\n",
    "y_pred=[x for x in y_pred if x != 0]\n",
    "# len(y_pred)\n",
    "print(len(useless_idx))\n",
    "print(len(useful_idx))\n",
    "\n",
    "for i in reversed(useless_idx):\n",
    "    del labelList[i]\n",
    "    \n",
    "print('purity : ',purity_score(labelList,y_pred))\n",
    "print('ARI : ',adjusted_rand_score(labelList,y_pred))\n",
    "print('NMI : ',normalized_mutual_info_score(labelList,y_pred ))\n",
    "print('homogeneity : ',homogeneity_score(labelList,y_pred ))\n",
    "print('completeness : ',completeness_score(labelList,y_pred ))"
   ]
  },
  {
   "cell_type": "markdown",
   "id": "16e18dcc",
   "metadata": {},
   "source": [
    "## Store the useful contig index binning from vamb"
   ]
  },
  {
   "cell_type": "code",
   "execution_count": 5,
   "id": "e348d254",
   "metadata": {},
   "outputs": [],
   "source": [
    "useful_idx=np.array( useful_idx)\n",
    "np.save('../data/vamb_result/useful_idx.npy',useful_idx)"
   ]
  },
  {
   "cell_type": "code",
   "execution_count": null,
   "id": "35c8a6aa",
   "metadata": {},
   "outputs": [],
   "source": []
  }
 ],
 "metadata": {
  "kernelspec": {
   "display_name": "Python 3 (ipykernel)",
   "language": "python",
   "name": "python3"
  },
  "language_info": {
   "codemirror_mode": {
    "name": "ipython",
    "version": 3
   },
   "file_extension": ".py",
   "mimetype": "text/x-python",
   "name": "python",
   "nbconvert_exporter": "python",
   "pygments_lexer": "ipython3",
   "version": "3.9.7"
  }
 },
 "nbformat": 4,
 "nbformat_minor": 5
}
