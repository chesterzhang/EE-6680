{
 "cells": [
  {
   "cell_type": "markdown",
   "id": "ffdbf8a8",
   "metadata": {},
   "source": [
    "# This is a script that generate X matrix for the input to GNN"
   ]
  },
  {
   "cell_type": "code",
   "execution_count": 1,
   "id": "f4001660",
   "metadata": {},
   "outputs": [],
   "source": [
    "import numpy as np\n",
    "import pandas as pd\n"
   ]
  },
  {
   "cell_type": "markdown",
   "id": "76f8fcf7",
   "metadata": {},
   "source": [
    "## import contigs' IDs"
   ]
  },
  {
   "cell_type": "code",
   "execution_count": 50,
   "id": "5387eee8",
   "metadata": {},
   "outputs": [
    {
     "data": {
      "text/plain": [
       "'k141_373'"
      ]
     },
     "execution_count": 50,
     "metadata": {},
     "output_type": "execute_result"
    }
   ],
   "source": [
    "idSeries=pd.read_csv('../data/id/id.csv')['id']\n",
    "# idSeries[0]\n"
   ]
  },
  {
   "cell_type": "code",
   "execution_count": 33,
   "id": "b39b16a2",
   "metadata": {},
   "outputs": [],
   "source": [
    "X=np.ones(shape=(850,8371),dtype=np.int32)  # 图卷积神经网络输入矩阵之一, shape=[850,8371]"
   ]
  },
  {
   "cell_type": "code",
   "execution_count": 43,
   "id": "0e5994ea",
   "metadata": {},
   "outputs": [],
   "source": [
    "\n",
    "\n",
    "for i in range(0,850):\n",
    "    id=idSeries[i]\n",
    "    \n",
    "    #先给 kmer 赋值\n",
    "    kmer=pd.read_csv('../data/kmer4/'+id+'.csv')['frequencies']\n",
    "    \n",
    "    for j in range(0,256):\n",
    "        X[i][j]=kmer[j]\n",
    "        \n",
    "    #再给 coverage profile 赋值\n",
    "    coverage=pd.read_csv('../data/coverage_profile/'+id+'.csv')['frequencies']\n",
    "    for j in range(256,8371):\n",
    "        X[i][j]=coverage[j-256]\n",
    "        \n",
    "        \n",
    "         \n",
    "            \n",
    "        \n",
    "        "
   ]
  },
  {
   "cell_type": "code",
   "execution_count": 47,
   "id": "dbebcffb",
   "metadata": {},
   "outputs": [],
   "source": [
    "np.save('../data/X_np/X.npy',X)"
   ]
  },
  {
   "cell_type": "code",
   "execution_count": null,
   "id": "3a27b2d3",
   "metadata": {},
   "outputs": [],
   "source": []
  },
  {
   "cell_type": "code",
   "execution_count": null,
   "id": "7698dc56",
   "metadata": {},
   "outputs": [],
   "source": [
    " "
   ]
  },
  {
   "cell_type": "code",
   "execution_count": null,
   "id": "40de11b1",
   "metadata": {},
   "outputs": [],
   "source": []
  }
 ],
 "metadata": {
  "kernelspec": {
   "display_name": "Python 3 (ipykernel)",
   "language": "python",
   "name": "python3"
  },
  "language_info": {
   "codemirror_mode": {
    "name": "ipython",
    "version": 3
   },
   "file_extension": ".py",
   "mimetype": "text/x-python",
   "name": "python",
   "nbconvert_exporter": "python",
   "pygments_lexer": "ipython3",
   "version": "3.9.7"
  }
 },
 "nbformat": 4,
 "nbformat_minor": 5
}
