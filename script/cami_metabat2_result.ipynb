{
 "cells": [
  {
   "cell_type": "code",
   "execution_count": 1,
   "id": "2904c387",
   "metadata": {},
   "outputs": [],
   "source": [
    "import numpy as np\n",
    "import pandas as pd\n",
    "\n",
    "import operator\n",
    " \n",
    "from sklearn.cluster import KMeans\n",
    "from sklearn import metrics\n",
    "from sklearn.metrics.cluster import adjusted_rand_score\n",
    "from sklearn.metrics.cluster import normalized_mutual_info_score\n",
    "from sklearn.metrics.cluster import homogeneity_score\n",
    "from sklearn.metrics.cluster import completeness_score"
   ]
  },
  {
   "cell_type": "code",
   "execution_count": 2,
   "id": "4c58047e",
   "metadata": {},
   "outputs": [],
   "source": [
    "def purity_score(y_true, y_pred):\n",
    "    # compute contingency matrix (also called confusion matrix)\n",
    "    contingency_matrix = metrics.cluster.contingency_matrix(y_true, y_pred)\n",
    "    # return purity\n",
    "    return np.sum(np.amax(contingency_matrix, axis=0)) / np.sum(contingency_matrix)"
   ]
  },
  {
   "cell_type": "markdown",
   "id": "d620eeb5",
   "metadata": {},
   "source": [
    "## Without throwing contigs with high similarity"
   ]
  },
  {
   "cell_type": "code",
   "execution_count": 3,
   "id": "91542683",
   "metadata": {},
   "outputs": [
    {
     "name": "stdout",
     "output_type": "stream",
     "text": [
      "purity :  0.4552541155956716\n",
      "ARI :  0.128565688756474\n",
      "NMI :  0.4286239946689\n",
      "homogeneity :  0.31365943130912227\n",
      "completeness :  0.6766252183602759\n"
     ]
    }
   ],
   "source": [
    "labelList=pd.read_csv('../data/cami/label.csv',header=None)[0].to_list()\n",
    "# print(labelList)\n",
    "\n",
    "# for i in range(0,len(labelList)):\n",
    "#     labelList[i]+=2\n",
    "\n",
    "iDList=pd.read_csv(\"../data/cami/id.csv\",header=None)[0].to_list()\n",
    "# iDList\n",
    "\n",
    "y_pred=[0 for i in range(0,19499)]\n",
    "\n",
    "for i in range(1,35):\n",
    "    \n",
    "    with open(f'../data/cami_metabat2/result.{i}.fa') as f:\n",
    " \n",
    "        for line in f.readlines():\n",
    "     \n",
    "            if line.startswith(\">\"):\n",
    "                \n",
    "                key = line[1:].strip()\n",
    "                idx=iDList.index(key)\n",
    "                y_pred[idx]=i\n",
    "                 \n",
    "\n",
    "print('purity : ',purity_score(labelList,y_pred))\n",
    "print('ARI : ',adjusted_rand_score(labelList,y_pred))\n",
    "print('NMI : ',normalized_mutual_info_score(labelList,y_pred ))\n",
    "print('homogeneity : ',homogeneity_score(labelList,y_pred ))\n",
    "print('completeness : ',completeness_score(labelList,y_pred ))\n"
   ]
  },
  {
   "cell_type": "markdown",
   "id": "ec2350e5",
   "metadata": {},
   "source": [
    "### After throwing contigs with high similarity"
   ]
  },
  {
   "cell_type": "code",
   "execution_count": 4,
   "id": "de4af4de",
   "metadata": {},
   "outputs": [
    {
     "name": "stdout",
     "output_type": "stream",
     "text": [
      "15686\n",
      "3813\n",
      "purity :  0.9260424862313139\n",
      "ARI :  0.9290457259004471\n",
      "NMI :  0.9451707363015578\n",
      "homogeneity :  0.9318477722910157\n",
      "completeness :  0.9588801925841127\n"
     ]
    }
   ],
   "source": [
    "labelList=pd.read_csv('../data/cami/label.csv',header=None)[0].to_list()\n",
    "# for i in range(0,len(labelList)):\n",
    "#     labelList[i]+=2\n",
    "\n",
    "\n",
    "iDList=pd.read_csv(\"../data/cami/id.csv\",header=None)[0].to_list()\n",
    "\n",
    "y_pred=[0 for i in range(0,19499)]\n",
    "\n",
    "for i in range(1,35):\n",
    "    \n",
    "    with open(f'../data/cami_metabat2/result.{i}.fa') as f:\n",
    " \n",
    "        for line in f.readlines():\n",
    "     \n",
    "            if line.startswith(\">\"):\n",
    "                \n",
    "                key = line[1:].strip()\n",
    "                idx=iDList.index(key)\n",
    "                y_pred[idx]=i\n",
    "                 \n",
    " \n",
    "useless_idx=[]\n",
    "useful_idx=[]\n",
    "for i in range(0,len(y_pred)):\n",
    "    if y_pred[i]==0:\n",
    "        useless_idx.append(i)\n",
    "    else:\n",
    "        useful_idx.append(i)\n",
    "y_pred=[x for x in y_pred if x != 0]\n",
    "# len(y_pred)\n",
    "print(len(useless_idx))\n",
    "print(len(useful_idx))\n",
    "\n",
    "for i in reversed(useless_idx):\n",
    "    del labelList[i]\n",
    "\n",
    "print('purity : ',purity_score(labelList,y_pred))\n",
    "print('ARI : ',adjusted_rand_score(labelList,y_pred))\n",
    "print('NMI : ',normalized_mutual_info_score(labelList,y_pred ))\n",
    "print('homogeneity : ',homogeneity_score(labelList,y_pred ))\n",
    "print('completeness : ',completeness_score(labelList,y_pred ))"
   ]
  },
  {
   "cell_type": "code",
   "execution_count": null,
   "id": "76908115",
   "metadata": {},
   "outputs": [],
   "source": []
  }
 ],
 "metadata": {
  "kernelspec": {
   "display_name": "Python 3 (ipykernel)",
   "language": "python",
   "name": "python3"
  },
  "language_info": {
   "codemirror_mode": {
    "name": "ipython",
    "version": 3
   },
   "file_extension": ".py",
   "mimetype": "text/x-python",
   "name": "python",
   "nbconvert_exporter": "python",
   "pygments_lexer": "ipython3",
   "version": "3.9.7"
  }
 },
 "nbformat": 4,
 "nbformat_minor": 5
}
