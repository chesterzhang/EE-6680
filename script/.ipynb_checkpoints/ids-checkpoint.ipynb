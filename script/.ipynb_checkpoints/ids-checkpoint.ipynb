{
 "cells": [
  {
   "cell_type": "markdown",
   "id": "bfcad7b4",
   "metadata": {},
   "source": [
    "# This is a script that can generate IDs."
   ]
  },
  {
   "cell_type": "code",
   "execution_count": 1,
   "id": "1cddaf46",
   "metadata": {},
   "outputs": [],
   "source": [
    "import pandas as pd\n"
   ]
  },
  {
   "cell_type": "code",
   "execution_count": 22,
   "id": "5850abd1",
   "metadata": {},
   "outputs": [],
   "source": [
    "label = pd.read_csv('../data/label.csv',header=None)\n",
    "idList=[]\n",
    " \n",
    "for i in range(0,len(label)):\n",
    "    idList.append(label[0][i])\n",
    "\n",
    "df=pd.DataFrame(idList, columns=['id'])\n",
    "df.to_csv('../data/id/id.csv')"
   ]
  },
  {
   "cell_type": "code",
   "execution_count": 23,
   "id": "cd026a8a",
   "metadata": {},
   "outputs": [],
   "source": [
    "idList=pd.read_csv('../data/id/id.csv')['id']"
   ]
  },
  {
   "cell_type": "code",
   "execution_count": null,
   "id": "cc9cab6b",
   "metadata": {},
   "outputs": [],
   "source": []
  }
 ],
 "metadata": {
  "kernelspec": {
   "display_name": "Python 3 (ipykernel)",
   "language": "python",
   "name": "python3"
  },
  "language_info": {
   "codemirror_mode": {
    "name": "ipython",
    "version": 3
   },
   "file_extension": ".py",
   "mimetype": "text/x-python",
   "name": "python",
   "nbconvert_exporter": "python",
   "pygments_lexer": "ipython3",
   "version": "3.9.7"
  }
 },
 "nbformat": 4,
 "nbformat_minor": 5
}
