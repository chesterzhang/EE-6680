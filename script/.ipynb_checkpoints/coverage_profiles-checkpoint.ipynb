{
 "cells": [
  {
   "cell_type": "markdown",
   "id": "7bacae1b",
   "metadata": {},
   "source": [
    "# This is a script that can generate  coverage profile"
   ]
  },
  {
   "cell_type": "code",
   "execution_count": 34,
   "id": "de5bfe0f",
   "metadata": {},
   "outputs": [],
   "source": [
    "import pandas as pd  "
   ]
  },
  {
   "cell_type": "code",
   "execution_count": 42,
   "id": "23fdfbde",
   "metadata": {},
   "outputs": [],
   "source": [
    "with open('../data/output.txt') as f:\n",
    "     \n",
    "    idStack=[]\n",
    "    profile={}\n",
    "    for i in range(1,8116):\n",
    "        profile[i]=0\n",
    "        \n",
    "    for line in f.readlines():\n",
    "        \n",
    "        id=line.split()[0]\n",
    "        \n",
    "        #说明遇到了新的 id\n",
    "        if id not in idStack:\n",
    "            \n",
    "            #  将过去的信息输出\n",
    "            if len(idStack)>0:\n",
    "                saveId=idStack[-1]      \n",
    "                sortedProfile = sorted(profile.items())\n",
    "                df=pd.DataFrame(sortedProfile, columns=['depth','frequencies'])\n",
    "                df.to_csv(\"../data/coverage_profile/\"+saveId+'.csv')\n",
    "\n",
    "                \n",
    "            idStack.append(id)\n",
    "            \n",
    "            # 清空过去的信息\n",
    "            profile.clear()  \n",
    "            for i in range(1,8116):\n",
    "                profile[i]=0\n",
    "                \n",
    "#         position=int(line.split()[1])\n",
    "        depth=int(line.split()[2])\n",
    "        profile[depth]+=1\n",
    "    \n",
    "    saveId=idStack[-1]      \n",
    "    sortedProfile = sorted(profile.items())\n",
    "    df=pd.DataFrame(sortedProfile, columns=['depth','frequencies'])\n",
    "    df.to_csv(\"../data/coverage_profile/\"+saveId+'.csv')\n",
    "\n"
   ]
  },
  {
   "cell_type": "code",
   "execution_count": 14,
   "id": "65795c78",
   "metadata": {},
   "outputs": [
    {
     "data": {
      "text/plain": [
       "int"
      ]
     },
     "execution_count": 14,
     "metadata": {},
     "output_type": "execute_result"
    }
   ],
   "source": [
    " \n",
    "    "
   ]
  },
  {
   "cell_type": "code",
   "execution_count": 23,
   "id": "2a7f8eff",
   "metadata": {},
   "outputs": [
    {
     "name": "stdout",
     "output_type": "stream",
     "text": [
      "2\n"
     ]
    }
   ],
   "source": [
    "\n",
    " "
   ]
  },
  {
   "cell_type": "code",
   "execution_count": null,
   "id": "0d612b26",
   "metadata": {},
   "outputs": [],
   "source": [
    " "
   ]
  },
  {
   "cell_type": "code",
   "execution_count": null,
   "id": "8706c043",
   "metadata": {},
   "outputs": [],
   "source": [
    " "
   ]
  },
  {
   "cell_type": "code",
   "execution_count": null,
   "id": "eab4442b",
   "metadata": {},
   "outputs": [],
   "source": []
  }
 ],
 "metadata": {
  "kernelspec": {
   "display_name": "Python 3 (ipykernel)",
   "language": "python",
   "name": "python3"
  },
  "language_info": {
   "codemirror_mode": {
    "name": "ipython",
    "version": 3
   },
   "file_extension": ".py",
   "mimetype": "text/x-python",
   "name": "python",
   "nbconvert_exporter": "python",
   "pygments_lexer": "ipython3",
   "version": "3.9.7"
  }
 },
 "nbformat": 4,
 "nbformat_minor": 5
}
