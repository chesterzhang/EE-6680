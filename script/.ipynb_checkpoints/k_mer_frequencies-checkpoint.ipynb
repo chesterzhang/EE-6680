{
 "cells": [
  {
   "cell_type": "markdown",
   "id": "29ba1a6b",
   "metadata": {},
   "source": [
    "# This is a script that can calculate k mer frequencies from fasta file and then export them into csv files"
   ]
  },
  {
   "cell_type": "code",
   "execution_count": 1,
   "id": "ffc20d8b",
   "metadata": {},
   "outputs": [],
   "source": [
    "import operator\n",
    "import pandas as pd"
   ]
  },
  {
   "cell_type": "code",
   "execution_count": 2,
   "id": "8e0ef942",
   "metadata": {},
   "outputs": [],
   "source": [
    "def saveKmerFre(name, seq):\n",
    "    # Extract your code into a function and print header for current kmer\n",
    "#     print(\"%s\\n################################\" %name)\n",
    "    kmers = {}\n",
    "    k = 4\n",
    "    for i in range(len(seq) - k + 1):\n",
    "       kmer = seq[i:i+k]\n",
    "       if kmer in kmers:\n",
    "          kmers[kmer] += 1\n",
    "       else:\n",
    "          kmers[kmer] = 1\n",
    "        \n",
    "\n",
    "    sortedKmers = sorted(kmers.items())\n",
    "    sortedKmDict={}\n",
    "    for i in range(0,len(sortedKmers)):\n",
    "         sortedKmDict[sortedKmers[i][0]]=sortedKmers[i][1]\n",
    "        \n",
    "    \n",
    "    \n",
    "    outputKmers={}\n",
    "    for i in ('A','T','C','G'):\n",
    "        for j in ('A','T','C','G'):\n",
    "            for k in ('A','T','C','G'):\n",
    "                for l in ('A','T','C','G'):\n",
    "                    outputKmers[i+j+k+l]= 0\n",
    "                    try:\n",
    "                        outputKmers[i+j+k+l] = sortedKmDict[i+j+k+l]\n",
    "                    except:\n",
    "                        continue\n",
    "\n",
    "\n",
    "    outputKmers=outputKmers.items()\n",
    "    df=pd.DataFrame(outputKmers, columns=['k-mer','frequencies'])\n",
    "    df.to_csv(\"../data/kmer4/\"+name[0:name.find(' ')]+'.csv')\n"
   ]
  },
  {
   "cell_type": "code",
   "execution_count": 3,
   "id": "d7da7403",
   "metadata": {},
   "outputs": [],
   "source": [
    "with open('../data/final.contigs.4000.fasta', 'r') as f:\n",
    "    seq = \"\"\n",
    "    key = \"\"\n",
    "     \n",
    "    for line in f.readlines():\n",
    "        # Loop over lines in file\n",
    "        if line.startswith(\">\"):\n",
    "            # if we get '>' it is time for a new sequence\n",
    "            if key and seq:\n",
    "                # if it wasn't the first we should print it before overwriting the variables\n",
    "                saveKmerFre(key, seq)\n",
    "            # store name after '>' and reset sequence\n",
    "            key = line[1:].strip()\n",
    "            seq = \"\"\n",
    "        else:\n",
    "            # accumulate kmer until we hit another '>'\n",
    "           seq += line.strip()\n",
    "        \n",
    "    # when we are done with all the lines, print the last sequence\n",
    "    saveKmerFre(key, seq)"
   ]
  },
  {
   "cell_type": "code",
   "execution_count": null,
   "id": "9e6e3c22",
   "metadata": {},
   "outputs": [],
   "source": [
    " "
   ]
  },
  {
   "cell_type": "code",
   "execution_count": null,
   "id": "c6da5281",
   "metadata": {},
   "outputs": [],
   "source": [
    " "
   ]
  }
 ],
 "metadata": {
  "kernelspec": {
   "display_name": "Python 3 (ipykernel)",
   "language": "python",
   "name": "python3"
  },
  "language_info": {
   "codemirror_mode": {
    "name": "ipython",
    "version": 3
   },
   "file_extension": ".py",
   "mimetype": "text/x-python",
   "name": "python",
   "nbconvert_exporter": "python",
   "pygments_lexer": "ipython3",
   "version": "3.9.7"
  }
 },
 "nbformat": 4,
 "nbformat_minor": 5
}
