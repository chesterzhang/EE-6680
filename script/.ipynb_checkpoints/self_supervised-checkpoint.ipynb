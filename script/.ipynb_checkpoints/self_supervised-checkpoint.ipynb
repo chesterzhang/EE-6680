{
 "cells": [
  {
   "cell_type": "code",
   "execution_count": 1,
   "id": "87902e92",
   "metadata": {},
   "outputs": [],
   "source": [
    "import itertools\n",
    "import os\n",
    "import os.path as osp\n",
    "import pickle\n",
    "import urllib\n",
    "from collections import namedtuple\n",
    "\n",
    "import numpy as np\n",
    "import scipy.sparse as sp\n",
    "import torch\n",
    "import torch.nn as nn\n",
    "import torch.nn.functional as F\n",
    "import torch.nn.init as init\n",
    "import torch.optim as optim\n",
    "import matplotlib.pyplot as plt\n",
    "from torch.nn import Linear \n",
    "\n",
    "from matplotlib.ticker import MultipleLocator, FormatStrFormatter\n",
    "import pandas as pd\n",
    "%matplotlib inline"
   ]
  },
  {
   "cell_type": "code",
   "execution_count": 2,
   "id": "a95a8c12",
   "metadata": {},
   "outputs": [],
   "source": [
    "\n",
    "\n",
    "def tensor_from_numpy(x, device):\n",
    "    return torch.from_numpy(x).to(device)\n"
   ]
  },
  {
   "cell_type": "code",
   "execution_count": 3,
   "id": "09b6641f",
   "metadata": {},
   "outputs": [],
   "source": [
    "class GraphConvolution(nn.Module):\n",
    "    def __init__(self, input_dim, output_dim, use_bias=True):\n",
    "        \"\"\"图卷积：L*X*\\theta\n",
    "\n",
    "        Args:\n",
    "        ----------\n",
    "            input_dim: int\n",
    "                节点输入特征的维度\n",
    "            output_dim: int\n",
    "                输出特征维度\n",
    "            use_bias : bool, optional\n",
    "                是否使用偏置\n",
    "        \"\"\"\n",
    "        super(GraphConvolution, self).__init__()\n",
    "        self.input_dim = input_dim\n",
    "        self.output_dim = output_dim\n",
    "        self.use_bias = use_bias\n",
    "        self.weight = nn.Parameter(torch.Tensor(input_dim, output_dim))\n",
    "        if self.use_bias:\n",
    "            self.bias = nn.Parameter(torch.Tensor(output_dim))\n",
    "        else:\n",
    "            self.register_parameter('bias', None)\n",
    "        self.reset_parameters()\n",
    "\n",
    "    def reset_parameters(self):\n",
    "        init.kaiming_uniform_(self.weight)\n",
    "        if self.use_bias:\n",
    "            init.zeros_(self.bias)\n",
    "\n",
    "    def forward(self, adjacency, input_feature):\n",
    "        \"\"\"邻接矩阵是稀疏矩阵，因此在计算时使用稀疏矩阵乘法\n",
    "    \n",
    "        Args: \n",
    "        -------\n",
    "            adjacency: torch.sparse.FloatTensor\n",
    "                邻接矩阵\n",
    "            input_feature: torch.Tensor\n",
    "                输入特征\n",
    "        \"\"\"\n",
    "        support = torch.mm(input_feature, self.weight)\n",
    "        output = torch.sparse.mm(adjacency, support)\n",
    "        if self.use_bias:\n",
    "            output += self.bias\n",
    "        return output\n",
    "\n",
    "    def __repr__(self):\n",
    "        return self.__class__.__name__ + ' (' \\\n",
    "            + str(self.input_dim) + ' -> ' \\\n",
    "            + str(self.output_dim) + ')'\n",
    "\n",
    "\n"
   ]
  },
  {
   "cell_type": "code",
   "execution_count": 4,
   "id": "f7520cac",
   "metadata": {},
   "outputs": [],
   "source": [
    "class GcnNet(nn.Module):\n",
    "    \"\"\"\n",
    "    定义一个包含两层GraphConvolution的模型\n",
    "    \"\"\"\n",
    "    def __init__(self, input_dim=1433):\n",
    "        super(GcnNet, self).__init__()\n",
    "        self.gcn1 = GraphConvolution(input_dim, 128)\n",
    "        self.gcn2 = GraphConvolution(128,64)\n",
    "        self.gcn3 = GraphConvolution(64, 32)\n",
    "        self.gcn4 = GraphConvolution(32, 64)\n",
    "        self.gcn5 = GraphConvolution(64, 128)\n",
    "        self.gcn6 = GraphConvolution(128, input_dim)\n",
    "        \n",
    "        self.h1=None\n",
    "        self.h2=None\n",
    "        self.h3=None\n",
    "        self.h4=None\n",
    "        self.h5=None\n",
    "        self.h6=None\n",
    "    \n",
    "    def forward(self, adjacency, feature):\n",
    "        self.h1 = F.relu(self.gcn1(adjacency, feature))\n",
    "        self.h2  = F.relu(self.gcn2(adjacency, self.h1))\n",
    "        self.h3 = F.relu(self.gcn3(adjacency, self.h2))\n",
    "        self.h4  = F.relu(self.gcn4(adjacency, self.h3))\n",
    "        self.h5  = F.relu(self.gcn5(adjacency, self.h4))\n",
    "        self.h6  = self.gcn6(adjacency, self.h5)\n",
    "        return  self.h6\n"
   ]
  },
  {
   "cell_type": "code",
   "execution_count": 5,
   "id": "f16fd8e3",
   "metadata": {},
   "outputs": [],
   "source": [
    "# 超参数定义\n",
    "LEARNING_RATE = 0.02\n",
    "WEIGHT_DACAY = 5e-4\n",
    "EPOCHS = 15\n",
    "DEVICE = \"cuda\" if torch.cuda.is_available() else \"cpu\"\n"
   ]
  },
  {
   "cell_type": "code",
   "execution_count": 6,
   "id": "121a572f",
   "metadata": {},
   "outputs": [],
   "source": [
    "node_feature = np.load('../data/X_np/X.npy')/ np.load('../data/X_np/X.npy').sum(1, keepdims=True)   \n",
    "\n",
    "node_feature = node_feature.astype(np.float32)\n",
    "\n",
    "\n",
    "tensor_x = tensor_from_numpy(node_feature, DEVICE)\n",
    "labelList=pd.read_csv('../data/label.csv',header=None)[1]\n",
    "for i in range(0,len(labelList)):\n",
    "    labelList[i]+=1\n",
    "    \n",
    "\n",
    "tensor_y = tensor_from_numpy( np.array(labelList,dtype=np.int64),DEVICE)\n",
    " \n",
    "\n",
    "train_mask=[False for i in range(0,850)]\n",
    "for i in range(0,850):\n",
    "    train_mask[i]=True\n",
    " \n",
    "# val_mask=[False for i in range(0,850)]\n",
    "# for i in range(680,765):\n",
    "#     val_mask[i]=True\n",
    "    \n",
    "# test_mask=[False for i in range(0,850)]\n",
    "# for i in range(765,850):\n",
    "#     test_mask[i]=True\n",
    "    \n",
    "\n",
    "\n",
    "tensor_train_mask = tensor_from_numpy(np.array(train_mask), DEVICE )\n",
    "# tensor_val_mask = tensor_from_numpy(np.array(val_mask), DEVICE)\n",
    "# tensor_test_mask = tensor_from_numpy(np.array(test_mask), DEVICE)\n",
    "\n",
    "adjacency=np.load('../data/A_np/A.npy')\n",
    "\n",
    "adjacency=np.eye(adjacency.shape[0])\n",
    "        \n",
    "adjacency=adjacency.astype(np.double)\n",
    "adjacency = sp.csr_matrix(adjacency)\n",
    "adjacency = sp.coo_matrix(adjacency)\n",
    "adjacency += sp.eye(adjacency.shape[0])    # 增加自连接\n",
    "degree = np.array(adjacency.sum(1))\n",
    "d_hat = sp.diags(np.power(degree, -0.5).flatten())\n",
    "normalize_adjacency = d_hat.dot(adjacency).dot(d_hat).tocoo()  # 规范化邻接矩阵\n",
    "\n",
    "num_nodes, input_dim = node_feature.shape\n",
    "indices = torch.from_numpy(np.asarray([normalize_adjacency.row, \n",
    "                                       normalize_adjacency.col]).astype('int64')).long()\n",
    "values = torch.from_numpy(normalize_adjacency.data.astype(np.float32))\n",
    "tensor_adjacency = torch.sparse.FloatTensor(indices, values, \n",
    "                                            (num_nodes, num_nodes)).to(DEVICE)"
   ]
  },
  {
   "cell_type": "code",
   "execution_count": 7,
   "id": "840ae554",
   "metadata": {},
   "outputs": [],
   "source": [
    "# 模型定义：Model, Loss, Optimizer\n",
    "model = GcnNet(input_dim).to(DEVICE)\n",
    "criterion = nn.CrossEntropyLoss().to(DEVICE)\n",
    "optimizer = optim.Adam(model.parameters(), \n",
    "                       lr=LEARNING_RATE, \n",
    "                       weight_decay=WEIGHT_DACAY)"
   ]
  },
  {
   "cell_type": "code",
   "execution_count": 8,
   "id": "85a682d9",
   "metadata": {},
   "outputs": [],
   "source": [
    "# 训练主体函数\n",
    "def train():\n",
    "    loss_history = []\n",
    "    val_acc_history = []\n",
    "    model.train()\n",
    "    train_y = tensor_y[tensor_train_mask]\n",
    "    for epoch in range(EPOCHS):\n",
    "        # tensor_adjacency 也就是 A 矩阵, tensor_x 也就是 X 矩阵\n",
    "        logits = model(tensor_adjacency, tensor_x)  # 前向传播\n",
    "        train_mask_logits = logits[tensor_train_mask]   # 只选择训练节点进行监督\n",
    "#         loss = criterion(train_mask_logits, train_y)    # 计算损失值\n",
    "        loss = criterion(train_mask_logits, tensor_x)\n",
    "        optimizer.zero_grad()\n",
    "        loss.backward()     # 反向传播计算参数的梯度\n",
    "        optimizer.step()    # 使用优化方法进行梯度更新\n",
    "#         train_acc, _, _ = test(tensor_train_mask)     # 计算当前模型训练集上的准确率 \n",
    "#         val_acc, _, _ = test(tensor_val_mask)     # 计算当前模型在验证集上的准确率 \n",
    "        # 记录训练过程中损失值和准确率的变化，用于画图\n",
    "        loss_history.append(loss.item())\n",
    "#         val_acc_history.append(val_acc.item())\n",
    "#         print(\"Epoch {:03d}: Loss {:.4f}, TrainAcc {:.4}, ValAcc {:.4f}\".format(\n",
    "#             epoch, loss.item(), train_acc.item(), val_acc.item()))\n",
    "    \n",
    "#     return loss_history, val_acc_history\n",
    "    return loss_history, model.h3\n"
   ]
  },
  {
   "cell_type": "code",
   "execution_count": null,
   "id": "86b45d64",
   "metadata": {},
   "outputs": [],
   "source": []
  },
  {
   "cell_type": "code",
   "execution_count": 9,
   "id": "e1ce35e2",
   "metadata": {},
   "outputs": [
    {
     "name": "stdout",
     "output_type": "stream",
     "text": [
      "[9.032520294189453, 8.98159408569336, 8.605924606323242, 7.458799839019775, 10.35938835144043, 7.8052897453308105, 7.807326316833496, 8.299689292907715, 8.498858451843262, 8.553975105285645, 8.531111717224121, 8.443390846252441, 8.27972412109375, 8.028776168823242, 7.785271167755127]\n"
     ]
    }
   ],
   "source": [
    "loss,feature_layer = train()\n",
    " \n",
    "print(loss)"
   ]
  },
  {
   "cell_type": "code",
   "execution_count": 10,
   "id": "758d44df",
   "metadata": {},
   "outputs": [],
   "source": [
    "# a=h3.detach().numpy()\n"
   ]
  },
  {
   "cell_type": "code",
   "execution_count": 11,
   "id": "97e6f3db",
   "metadata": {},
   "outputs": [],
   "source": [
    "def plot_loss_with_acc(loss_history, val_acc_history):\n",
    "    fig = plt.figure()\n",
    "    ax1 = fig.add_subplot(111)\n",
    "    ax1.plot(range(len(loss_history)), loss_history,\n",
    "             c=np.array([255, 71, 90]) / 255.)\n",
    "    plt.ylabel('Loss')\n",
    "    \n",
    "    ax2 = fig.add_subplot(111, sharex=ax1, frameon=False)\n",
    "    ax2.plot(range(len(val_acc_history)), val_acc_history,\n",
    "             c=np.array([79, 179, 255]) / 255.)\n",
    "    ax2.yaxis.tick_right()\n",
    "#     ax2.yaxis.set_label_position(\"right\")\n",
    "#     plt.ylabel('ValAcc')\n",
    "    \n",
    "    plt.xlabel('Epoch')\n",
    "    plt.title('Training Loss & Validation Accuracy')\n",
    "    plt.show()"
   ]
  },
  {
   "cell_type": "code",
   "execution_count": 12,
   "id": "4f0bc1db",
   "metadata": {},
   "outputs": [
    {
     "data": {
      "image/png": "[encoded data removed]",
      "text/plain": [
       "<Figure size 432x288 with 2 Axes>"
      ]
     },
     "metadata": {
      "needs_background": "light"
     },
     "output_type": "display_data"
    }
   ],
   "source": [
    "plot_loss_with_acc(loss, [])"
   ]
  },
  {
   "cell_type": "code",
   "execution_count": 13,
   "id": "b05c7d16",
   "metadata": {},
   "outputs": [
    {
     "data": {
      "text/plain": [
       "torch.Size([850, 32])"
      ]
     },
     "execution_count": 13,
     "metadata": {},
     "output_type": "execute_result"
    }
   ],
   "source": [
    "feature_layer.shape"
   ]
  },
  {
   "cell_type": "code",
   "execution_count": 14,
   "id": "d3fdf0f8",
   "metadata": {},
   "outputs": [],
   "source": [
    "from sklearn.cluster import KMeans\n",
    "\n",
    "y_pred = KMeans(n_clusters=12,init='k-means++').fit_predict(feature_layer.detach().numpy())\n",
    "# plt.scatter(X[:, 0], X[:, 1], c=y_pred)\n",
    "# plt.show()"
   ]
  },
  {
   "cell_type": "code",
   "execution_count": 15,
   "id": "9351149d",
   "metadata": {},
   "outputs": [
    {
     "name": "stdout",
     "output_type": "stream",
     "text": [
      "[5, 12, 17, 23, 25, 43, 53, 77, 84, 87, 194, 230]\n",
      "[10, 16, 44, 48, 69, 70, 80, 83, 85, 92, 103, 150]\n",
      "0.5976470588235294\n"
     ]
    }
   ],
   "source": [
    "num_cluster=[0,0,0,0,0,0,0,0,0,0,0,0]\n",
    "for x in y_pred:\n",
    "    num_cluster[x]+=1\n",
    "    \n",
    "num_cluster.sort()\n",
    "print(num_cluster)\n",
    "\n",
    "real_label=[0,0,0,0,0,0,0,0,0,0,0,0]\n",
    "for x in labelList:\n",
    "    real_label[int(x)]+=1\n",
    "real_label.sort()\n",
    "print(real_label)\n",
    "\n",
    "error=0\n",
    "for i in range(0,12):\n",
    "    error+=abs(real_label[i]-num_cluster[i])\n",
    "print(1-error/850)"
   ]
  },
  {
   "cell_type": "code",
   "execution_count": 16,
   "id": "3179218f",
   "metadata": {
    "scrolled": true
   },
   "outputs": [
    {
     "data": {
      "image/png": "[encoded data removed]",
      "text/plain": [
       "<Figure size 432x288 with 1 Axes>"
      ]
     },
     "metadata": {
      "needs_background": "light"
     },
     "output_type": "display_data"
    }
   ],
   "source": [
    " \n",
    " \n",
    "plt.xlabel('Student')#设置x轴标签\n",
    "plt.ylabel('Score')#设置y轴标签\n",
    "plt.title('Grades of students')#设置图表标题\n",
    " \n",
    "group_labels = ['Lisa', 'Gary', 'Leonard']#设置x轴刻度为特定文本\n",
    " \n",
    "# x = [20,40,60]#设置x轴初始（主）刻度\n",
    "# x1 = [18.5, 38.5, 58.5, 68.5, 78.5, 88.5, 98.5, 108.5, 118.5, 128.5, 138.5, 148.5]#双柱直方图的柱一\n",
    "# x2 = [21.5, 41.5, 61.5, 71.5, 81.5, 91.5, 101.5, 111.5, 121.5]#双柱直方图的柱二\n",
    "\n",
    "x = [0,20,40,60,80,100,120,140,160,180,200, 220 ]\n",
    "x1 = [0,20,40,60,80,100,120,140,160,180,200, 220 ]#双柱直方图的柱一\n",
    "x2 = [10,30,50,70,90,110,130,150,170,190,210,230]#双柱直方图的柱二 \n",
    " \n",
    " \n",
    " \n",
    "plt.bar(x1, num_cluster, facecolor='red', width=5, label = 'my method')\n",
    "plt.bar(x2, real_label, facecolor='blue', width=5, label = 'real label')\n",
    "# plt.xticks(x, group_labels, rotation=8)#将x轴刻度替换为特定文本\n",
    "plt.legend()#显示图例\n",
    "plt.show()"
   ]
  },
  {
   "cell_type": "code",
   "execution_count": null,
   "id": "0c588fde",
   "metadata": {},
   "outputs": [],
   "source": []
  },
  {
   "cell_type": "code",
   "execution_count": 17,
   "id": "0edd63aa",
   "metadata": {},
   "outputs": [
    {
     "ename": "NameError",
     "evalue": "name 'a' is not defined",
     "output_type": "error",
     "traceback": [
      "\u001b[1;31m---------------------------------------------------------------------------\u001b[0m",
      "\u001b[1;31mNameError\u001b[0m                                 Traceback (most recent call last)",
      "\u001b[1;32mC:\\Users\\CHESTE~1\\AppData\\Local\\Temp/ipykernel_16480/543281050.py\u001b[0m in \u001b[0;36m<module>\u001b[1;34m\u001b[0m\n\u001b[0;32m      3\u001b[0m \u001b[1;32mfrom\u001b[0m \u001b[0msklearn\u001b[0m\u001b[1;33m.\u001b[0m\u001b[0mmanifold\u001b[0m \u001b[1;32mimport\u001b[0m \u001b[0mTSNE\u001b[0m\u001b[1;33m\u001b[0m\u001b[1;33m\u001b[0m\u001b[0m\n\u001b[0;32m      4\u001b[0m \u001b[0mtsne\u001b[0m \u001b[1;33m=\u001b[0m \u001b[0mTSNE\u001b[0m\u001b[1;33m(\u001b[0m\u001b[1;33m)\u001b[0m\u001b[1;33m\u001b[0m\u001b[1;33m\u001b[0m\u001b[0m\n\u001b[1;32m----> 5\u001b[1;33m \u001b[0mout\u001b[0m \u001b[1;33m=\u001b[0m \u001b[0mtsne\u001b[0m\u001b[1;33m.\u001b[0m\u001b[0mfit_transform\u001b[0m\u001b[1;33m(\u001b[0m\u001b[0ma\u001b[0m\u001b[1;33m)\u001b[0m\u001b[1;33m\u001b[0m\u001b[1;33m\u001b[0m\u001b[0m\n\u001b[0m\u001b[0;32m      6\u001b[0m \u001b[0mfig\u001b[0m \u001b[1;33m=\u001b[0m \u001b[0mplt\u001b[0m\u001b[1;33m.\u001b[0m\u001b[0mfigure\u001b[0m\u001b[1;33m(\u001b[0m\u001b[1;33m)\u001b[0m\u001b[1;33m\u001b[0m\u001b[1;33m\u001b[0m\u001b[0m\n\u001b[0;32m      7\u001b[0m \u001b[1;32mfor\u001b[0m \u001b[0mi\u001b[0m \u001b[1;32min\u001b[0m \u001b[0mrange\u001b[0m\u001b[1;33m(\u001b[0m\u001b[1;36m12\u001b[0m\u001b[1;33m)\u001b[0m\u001b[1;33m:\u001b[0m\u001b[1;33m\u001b[0m\u001b[1;33m\u001b[0m\u001b[0m\n",
      "\u001b[1;31mNameError\u001b[0m: name 'a' is not defined"
     ]
    }
   ],
   "source": [
    "# 绘制测试数据的TSNE降维图, 按照某种分布来进行映射,降维到二维\n",
    "#因为存在随机化的参数, 所以每一次降维后的的结果都会不同, 也就是显示效果略有不同\n",
    "from sklearn.manifold import TSNE\n",
    "tsne = TSNE()\n",
    "out = tsne.fit_transform(a)\n",
    "fig = plt.figure()\n",
    "for i in range(12):\n",
    "    indices = test_label == i\n",
    "    x, y = out[indices].T\n",
    "    plt.scatter(x, y, label=str(i))\n",
    "plt.legend()"
   ]
  },
  {
   "cell_type": "code",
   "execution_count": null,
   "id": "4e01ac9c",
   "metadata": {},
   "outputs": [],
   "source": []
  }
 ],
 "metadata": {
  "kernelspec": {
   "display_name": "Python 3 (ipykernel)",
   "language": "python",
   "name": "python3"
  },
  "language_info": {
   "codemirror_mode": {
    "name": "ipython",
    "version": 3
   },
   "file_extension": ".py",
   "mimetype": "text/x-python",
   "name": "python",
   "nbconvert_exporter": "python",
   "pygments_lexer": "ipython3",
   "version": "3.9.7"
  }
 },
 "nbformat": 4,
 "nbformat_minor": 5
}
