{
 "cells": [
  {
   "cell_type": "markdown",
   "id": "0bdbec52",
   "metadata": {},
   "source": [
    "# This is a a script that generate matrix A for input into GNN"
   ]
  },
  {
   "cell_type": "code",
   "execution_count": 2,
   "id": "3a5526cf",
   "metadata": {},
   "outputs": [],
   "source": [
    "import numpy as np\n",
    "import pandas as pd\n",
    "import operator\n",
    "from pyfaidx import Fasta"
   ]
  },
  {
   "cell_type": "code",
   "execution_count": 3,
   "id": "383405b7",
   "metadata": {},
   "outputs": [],
   "source": [
    "genes = Fasta('../data/final.contigs.4000.fasta')\n",
    " \n",
    "\n",
    "\n"
   ]
  },
  {
   "cell_type": "code",
   "execution_count": 4,
   "id": "796b5bd5",
   "metadata": {},
   "outputs": [],
   "source": [
    "def edge_cal(seq1,seq2,y,m=5):\n",
    "    d=0\n",
    "    min_length=min(len(seq1),len(seq2))\n",
    "    for i in range(0,min_length):\n",
    "        if seq1[i]!=seq2[i]:\n",
    "            d+=1\n",
    "    d+=abs(len(seq1)-len(seq2))\n",
    "\n",
    "    \n",
    "    edge=0.5*y*d+0.5*(1-y)*(max(0,m-d**0.5))**2\n",
    "    return edge\n"
   ]
  },
  {
   "cell_type": "code",
   "execution_count": null,
   "id": "53ae5713",
   "metadata": {},
   "outputs": [],
   "source": [
    "# edge_cal(genes['k141_187'][:].seq,genes['k141_373'][:].seq,0,5)"
   ]
  },
  {
   "cell_type": "code",
   "execution_count": 5,
   "id": "ab95fcbf",
   "metadata": {},
   "outputs": [],
   "source": [
    "A=np.zeros(shape=(850,850),dtype=np.float32)  # 图卷积神经网络输入矩阵之一, shape=[850,850]\n"
   ]
  },
  {
   "cell_type": "code",
   "execution_count": 6,
   "id": "e8ce6524",
   "metadata": {},
   "outputs": [],
   "source": [
    "idList=pd.read_csv('../data/id/id.csv')['id']"
   ]
  },
  {
   "cell_type": "code",
   "execution_count": 7,
   "id": "75afec84",
   "metadata": {},
   "outputs": [],
   "source": [
    "labelList=pd.read_csv('../data/label.csv',header=None)[1]\n"
   ]
  },
  {
   "cell_type": "code",
   "execution_count": 8,
   "id": "cd22b83e",
   "metadata": {},
   "outputs": [
    {
     "name": "stdout",
     "output_type": "stream",
     "text": [
      "0\n",
      "10\n",
      "20\n",
      "30\n",
      "40\n",
      "50\n",
      "60\n",
      "70\n",
      "80\n",
      "90\n",
      "100\n",
      "110\n",
      "120\n",
      "130\n",
      "140\n",
      "150\n",
      "160\n",
      "170\n",
      "180\n",
      "190\n",
      "200\n",
      "210\n",
      "220\n",
      "230\n",
      "240\n",
      "250\n",
      "260\n",
      "270\n",
      "280\n",
      "290\n",
      "300\n",
      "310\n",
      "320\n",
      "330\n",
      "340\n",
      "350\n",
      "360\n",
      "370\n",
      "380\n",
      "390\n",
      "400\n",
      "410\n",
      "420\n",
      "430\n",
      "440\n",
      "450\n",
      "460\n",
      "470\n",
      "480\n",
      "490\n",
      "500\n",
      "510\n",
      "520\n",
      "530\n",
      "540\n",
      "550\n",
      "560\n",
      "570\n",
      "580\n",
      "590\n",
      "600\n",
      "610\n",
      "620\n",
      "630\n",
      "640\n",
      "650\n",
      "660\n",
      "670\n",
      "680\n",
      "690\n",
      "700\n",
      "710\n",
      "720\n",
      "730\n",
      "740\n",
      "750\n",
      "760\n",
      "770\n",
      "780\n",
      "790\n",
      "800\n",
      "810\n",
      "820\n",
      "830\n",
      "840\n"
     ]
    }
   ],
   "source": [
    "m=5\n",
    "for i in range(0,850):\n",
    "    if i%10 ==0:\n",
    "        print(i)\n",
    "    for j in range(i+1,850):\n",
    "        id1=idList[i]\n",
    "        id2=idList[j]\n",
    "        seq1=genes[id1][:].seq\n",
    "        seq2=genes[id2][:].seq\n",
    "        \n",
    "        label1=labelList[i]\n",
    "        label2=labelList[j]\n",
    "        y=0\n",
    "        if label1==label2:\n",
    "            y=1\n",
    "        A[i][j]=edge_cal( seq1,seq2 ,y, m)\n",
    "        \n"
   ]
  },
  {
   "cell_type": "code",
   "execution_count": 9,
   "id": "c30cdfa4",
   "metadata": {},
   "outputs": [],
   "source": [
    "        \n",
    "for i in range(1,850):\n",
    "    for j in range(0,i):\n",
    "        A[i][j]=A[j][i]"
   ]
  },
  {
   "cell_type": "code",
   "execution_count": 10,
   "id": "e51acf41",
   "metadata": {},
   "outputs": [],
   "source": [
    "np.save('../data/A_np/A.npy',A)"
   ]
  },
  {
   "cell_type": "code",
   "execution_count": null,
   "id": "6cdee92d",
   "metadata": {},
   "outputs": [],
   "source": []
  }
 ],
 "metadata": {
  "kernelspec": {
   "display_name": "Python 3 (ipykernel)",
   "language": "python",
   "name": "python3"
  },
  "language_info": {
   "codemirror_mode": {
    "name": "ipython",
    "version": 3
   },
   "file_extension": ".py",
   "mimetype": "text/x-python",
   "name": "python",
   "nbconvert_exporter": "python",
   "pygments_lexer": "ipython3",
   "version": "3.9.7"
  }
 },
 "nbformat": 4,
 "nbformat_minor": 5
}
