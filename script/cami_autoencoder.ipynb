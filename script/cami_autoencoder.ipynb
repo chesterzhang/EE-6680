{
 "cells": [
  {
   "cell_type": "code",
   "execution_count": 2,
   "id": "f939fb9a",
   "metadata": {},
   "outputs": [],
   "source": [
    "import numpy as np\n",
    "\n",
    "import pandas as pd\n",
    "\n",
    "import torch\n",
    "import torch.nn as nn\n",
    "import torch.nn.functional as F\n",
    "import torch.nn.init as init\n",
    "import torch.optim as optim\n",
    "from torch.nn import Linear \n",
    "\n",
    "# from torchviz import make_dot\n",
    "from torchsummary import summary\n",
    "\n",
    "\n",
    "import matplotlib.pyplot as plt\n",
    "from matplotlib.ticker import MultipleLocator, FormatStrFormatter\n",
    "\n",
    "from sklearn.cluster import KMeans\n",
    "from sklearn import metrics\n",
    "from sklearn.metrics.cluster import adjusted_rand_score\n",
    "from sklearn.metrics.cluster import normalized_mutual_info_score\n",
    "from sklearn.metrics.cluster import homogeneity_score\n",
    "from sklearn.metrics.cluster import completeness_score\n",
    "from sklearn.metrics.cluster import silhouette_score\n",
    "\n",
    "from scipy.spatial.distance import cdist\n",
    "\n",
    "%matplotlib inline"
   ]
  },
  {
   "cell_type": "code",
   "execution_count": 26,
   "id": "b0403996",
   "metadata": {},
   "outputs": [],
   "source": [
    "def tensor_from_numpy(x, device):\n",
    "    return torch.from_numpy(x).to(device)\n",
    "\n",
    "def plot_loss_with_acc(loss_history, val_acc_history):\n",
    "    fig = plt.figure()\n",
    "    ax1 = fig.add_subplot(111)\n",
    "    ax1.plot(range(len(loss_history)), loss_history,\n",
    "             c=np.array([255, 71, 90]) / 255.)\n",
    "    plt.ylabel('Loss')\n",
    "    plt.xlabel('Epoch')\n",
    "    plt.title('Training Loss ')\n",
    "    plt.show() \n",
    "    \n",
    "def purity_score(y_true, y_pred):\n",
    "    contingency_matrix = metrics.cluster.contingency_matrix(y_true, y_pred)\n",
    "    return np.sum(np.amax(contingency_matrix, axis=0)) / np.sum(contingency_matrix)"
   ]
  },
  {
   "cell_type": "code",
   "execution_count": 20,
   "id": "2cf971e9",
   "metadata": {},
   "outputs": [],
   "source": [
    "contig_feature= np.zeros(shape=[19499,260],dtype=np.float32)\n",
    "\n",
    "for i in range(0,19499):\n",
    "    kmer=pd.read_csv(\"../data/cami/kmer4/\"+str(i)+\".csv\",header=None)[2].to_list()[1:]\n",
    "    for j in range(0,256):\n",
    "        contig_feature[i][j]=np.float32(kmer[j])\n",
    "        \n",
    " \n"
   ]
  },
  {
   "cell_type": "code",
   "execution_count": 21,
   "id": "3400a7fc",
   "metadata": {},
   "outputs": [],
   "source": [
    "depth_np=np.load(\"../data/cami/depth_n.npy\")\n",
    "\n",
    "for i in range(0,19499):\n",
    "    for j in range(256,260):\n",
    "        contig_feature[i][j]=depth_np[i][j-256]"
   ]
  },
  {
   "cell_type": "code",
   "execution_count": 22,
   "id": "08434b2c",
   "metadata": {},
   "outputs": [],
   "source": [
    "contig_feature/=contig_feature.sum(1, keepdims=True)   \n",
    "contig_feature.shape\n",
    "np.save(\"../data/cami/contig_feature.npy\",contig_feature)"
   ]
  },
  {
   "cell_type": "code",
   "execution_count": 27,
   "id": "cc94b2a9",
   "metadata": {},
   "outputs": [],
   "source": [
    " tensor_x = tensor_from_numpy(contig_feature,\"cpu\")"
   ]
  },
  {
   "cell_type": "code",
   "execution_count": 44,
   "id": "1c0da89b",
   "metadata": {},
   "outputs": [
    {
     "data": {
      "text/plain": [
       "19499"
      ]
     },
     "execution_count": 44,
     "metadata": {},
     "output_type": "execute_result"
    }
   ],
   "source": [
    "metebat2_idx=np.load('../data/cami/metabat2/useful_idx.npy')\n",
    "labelList=pd.read_csv('../data/cami/label.csv',header=None)[0]\n",
    "len(labelList)"
   ]
  },
  {
   "cell_type": "code",
   "execution_count": 28,
   "id": "c8c24ec6",
   "metadata": {},
   "outputs": [],
   "source": [
    "class AutoEncoder(nn.Module):\n",
    "\n",
    "    def __init__(self, input_dim):\n",
    "        super(AutoEncoder,self).__init__()\n",
    " \n",
    "        self.linear1=nn.Linear(input_dim,260)\n",
    "        self.linear2=nn.Linear(260,120)\n",
    "        self.linear3=nn.Linear(120,90)\n",
    "        self.linear4=nn.Linear(90,120)\n",
    "        self.linear5=nn.Linear(120,260)\n",
    "        self.linear6=nn.Linear(260,input_dim)\n",
    "        \n",
    "    \n",
    "    def forward(self, feature):\n",
    "        self.h1 = F.relu(self.linear1( feature))\n",
    "        self.h1 = F.normalize(self.h1)\n",
    "        \n",
    "        self.h2  = F.sigmoid(self.linear2(self.h1))\n",
    "        self.h2 = F.normalize(self.h2)\n",
    "\n",
    "        self.h3 = F.relu(self.linear3( self.h2))\n",
    "        self.h3 = F.normalize(self.h3)\n",
    "\n",
    "        self.h4  = F.sigmoid(self.linear4( self.h3))\n",
    "        self.h4 = F.normalize(self.h4)\n",
    "\n",
    "        self.h5  = F.relu(self.linear5( self.h4))\n",
    "        self.h5 = F.normalize(self.h5)\n",
    "        \n",
    "        self.h6  = self.linear6( self.h5)\n",
    " \n",
    "        return  self.h6\n"
   ]
  },
  {
   "cell_type": "code",
   "execution_count": 46,
   "id": "a6c06fa0",
   "metadata": {},
   "outputs": [],
   "source": [
    "# 超参数定义\n",
    "LEARNING_RATE = 0.001\n",
    "WEIGHT_DACAY = 1e-4\n",
    "EPOCHS = 12"
   ]
  },
  {
   "cell_type": "code",
   "execution_count": 47,
   "id": "ab374c76",
   "metadata": {},
   "outputs": [],
   "source": [
    "# 训练主体函数\n",
    "def train():\n",
    "    loss_history = []\n",
    "    val_acc_history = []\n",
    "    model.train()\n",
    " \n",
    "    for epoch in range(EPOCHS):\n",
    "         \n",
    "        logits = model(tensor_x)  # 前向传播\n",
    "        \n",
    "        loss = criterion(logits, tensor_x)\n",
    "        optimizer.zero_grad()\n",
    "        loss.backward()     # 反向传播计算参数的梯度\n",
    "        optimizer.step()    # 使用优化方法进行梯度更新\n",
    " \n",
    "        loss_history.append(loss.item())\n",
    " \n",
    "    return loss_history, model.h3, model.h4"
   ]
  },
  {
   "cell_type": "code",
   "execution_count": 48,
   "id": "5d453ef6",
   "metadata": {},
   "outputs": [],
   "source": [
    "# 模型定义：Model, Loss, Optimizer\n",
    "model = AutoEncoder(tensor_x.shape[1]).to(\"cpu\")\n",
    "criterion=nn.MSELoss(reduction='mean')\n",
    "optimizer = optim.Adam(model.parameters(), \n",
    "                       lr=LEARNING_RATE, \n",
    "                       weight_decay=WEIGHT_DACAY)"
   ]
  },
  {
   "cell_type": "code",
   "execution_count": 49,
   "id": "bba0d0bf",
   "metadata": {},
   "outputs": [
    {
     "name": "stderr",
     "output_type": "stream",
     "text": [
      "C:\\Users\\Chester_Zhang\\anaconda3\\lib\\site-packages\\torch\\nn\\functional.py:1806: UserWarning: nn.functional.sigmoid is deprecated. Use torch.sigmoid instead.\n",
      "  warnings.warn(\"nn.functional.sigmoid is deprecated. Use torch.sigmoid instead.\")\n"
     ]
    },
    {
     "name": "stdout",
     "output_type": "stream",
     "text": [
      "[0.0035760703030973673, 0.0024668327532708645, 0.001692679594270885, 0.0011833300814032555, 0.0008588143391534686, 0.0006598515901714563, 0.0005376621265895665, 0.00046215247130021453, 0.0004119170771446079, 0.0003740644606295973, 0.0003408892953302711, 0.0003087686491198838]\n"
     ]
    },
    {
     "data": {
      "image/png": "[encoded data removed]",
      "text/plain": [
       "<Figure size 432x288 with 1 Axes>"
      ]
     },
     "metadata": {
      "needs_background": "light"
     },
     "output_type": "display_data"
    }
   ],
   "source": [
    "loss,feature_layer, rec_X = train()\n",
    " \n",
    "print(loss)\n",
    "plot_loss_with_acc(loss, [])"
   ]
  },
  {
   "cell_type": "code",
   "execution_count": 51,
   "id": "db7ab620",
   "metadata": {},
   "outputs": [
    {
     "name": "stdout",
     "output_type": "stream",
     "text": [
      "purity :  0.6811118518898405\n",
      "ARI :  0.10433882982535207\n",
      "NMI :  0.4210480744798187\n",
      "homogeneity :  0.5708911683564131\n",
      "completeness :  0.3335107539209662\n"
     ]
    }
   ],
   "source": [
    "feature_np=feature_layer.detach().numpy()\n",
    "\n",
    "kmeans = KMeans(n_clusters=60,init='k-means++').fit(feature_np)\n",
    "print('purity : ',purity_score(labelList,kmeans.labels_ ))\n",
    "print('ARI : ',adjusted_rand_score(labelList,kmeans.labels_))\n",
    "print('NMI : ',normalized_mutual_info_score(labelList,kmeans.labels_ ))\n",
    "print('homogeneity : ',homogeneity_score(labelList,kmeans.labels_))\n",
    "print('completeness : ',completeness_score(labelList,kmeans.labels_ ))"
   ]
  },
  {
   "cell_type": "markdown",
   "id": "dd430e0c",
   "metadata": {},
   "source": [
    " ## ignore similar contigs thrown by metabat2"
   ]
  },
  {
   "cell_type": "code",
   "execution_count": 53,
   "id": "878116c1",
   "metadata": {},
   "outputs": [
    {
     "name": "stdout",
     "output_type": "stream",
     "text": [
      "purity :  0.7463939155520587\n",
      "ARI :  0.2964126851135429\n",
      "NMI :  0.6646774810034917\n",
      "homogeneity :  0.7483655026914384\n",
      "completeness :  0.5978241574901993\n"
     ]
    }
   ],
   "source": [
    "\n",
    "kmeans = KMeans(n_clusters=35,init='k-means++').fit(feature_np[metebat2_idx])\n",
    "\n",
    "print('purity : ',purity_score(labelList[metebat2_idx],kmeans.labels_ ))\n",
    "print('ARI : ',adjusted_rand_score(labelList[metebat2_idx],kmeans.labels_))\n",
    "print('NMI : ',normalized_mutual_info_score(labelList[metebat2_idx],kmeans.labels_ ))\n",
    "print('homogeneity : ',homogeneity_score(labelList[metebat2_idx],kmeans.labels_))\n",
    "print('completeness : ',completeness_score(labelList[metebat2_idx],kmeans.labels_ ))"
   ]
  },
  {
   "cell_type": "code",
   "execution_count": null,
   "id": "eb4882b1",
   "metadata": {},
   "outputs": [],
   "source": []
  }
 ],
 "metadata": {
  "kernelspec": {
   "display_name": "Python 3 (ipykernel)",
   "language": "python",
   "name": "python3"
  },
  "language_info": {
   "codemirror_mode": {
    "name": "ipython",
    "version": 3
   },
   "file_extension": ".py",
   "mimetype": "text/x-python",
   "name": "python",
   "nbconvert_exporter": "python",
   "pygments_lexer": "ipython3",
   "version": "3.9.7"
  }
 },
 "nbformat": 4,
 "nbformat_minor": 5
}
