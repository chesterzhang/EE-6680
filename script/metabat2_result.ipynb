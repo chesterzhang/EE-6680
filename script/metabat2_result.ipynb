{
 "cells": [
  {
   "cell_type": "code",
   "execution_count": 17,
   "id": "46509395",
   "metadata": {},
   "outputs": [],
   "source": [
    "import numpy as np\n",
    "import pandas as pd\n",
    "\n",
    "import operator\n",
    " \n",
    "from sklearn.cluster import KMeans\n",
    "from sklearn import metrics\n",
    "from sklearn.metrics.cluster import adjusted_rand_score\n",
    "from sklearn.metrics.cluster import normalized_mutual_info_score\n",
    "from sklearn.metrics.cluster import homogeneity_score\n",
    "from sklearn.metrics.cluster import completeness_score"
   ]
  },
  {
   "cell_type": "code",
   "execution_count": 23,
   "id": "d1902e1f",
   "metadata": {},
   "outputs": [],
   "source": [
    "def purity_score(y_true, y_pred):\n",
    "    # compute contingency matrix (also called confusion matrix)\n",
    "    contingency_matrix = metrics.cluster.contingency_matrix(y_true, y_pred)\n",
    "    # return purity\n",
    "    return np.sum(np.amax(contingency_matrix, axis=0)) / np.sum(contingency_matrix)"
   ]
  },
  {
   "cell_type": "markdown",
   "id": "7072998c",
   "metadata": {},
   "source": [
    "## Without throwing contigs with high similarity\n",
    "\n",
    " "
   ]
  },
  {
   "cell_type": "code",
   "execution_count": 28,
   "id": "845e9c1f",
   "metadata": {},
   "outputs": [
    {
     "name": "stdout",
     "output_type": "stream",
     "text": [
      "purity :  0.6082352941176471\n",
      "ARI :  0.1915215640154074\n",
      "NMI :  0.530769116031472\n",
      "homogeneity :  0.5368574447524807\n",
      "completeness :  0.5248173303997593\n"
     ]
    }
   ],
   "source": [
    "labelList=pd.read_csv('../data/label.csv',header=None)[1]\n",
    "for i in range(0,len(labelList)):\n",
    "    labelList[i]+=2\n",
    "\n",
    "iDList=pd.read_csv('../data/label.csv',header=None)[0].to_list()\n",
    "\n",
    "y_pred=[0 for i in range(0,850)]\n",
    "\n",
    "for i in range(1,28):\n",
    "    \n",
    "    with open(f'../data/metabat2_result/bin.{i}.fa') as f:\n",
    " \n",
    "        for line in f.readlines():\n",
    "     \n",
    "            if line.startswith(\">\"):\n",
    "                \n",
    "                key = line[1:].strip()\n",
    "                idx=iDList.index(key)\n",
    "                y_pred[idx]=i\n",
    "                 \n",
    "\n",
    "print('purity : ',purity_score(labelList,y_pred))\n",
    "print('ARI : ',adjusted_rand_score(labelList,y_pred))\n",
    "print('NMI : ',normalized_mutual_info_score(labelList,y_pred ))\n",
    "print('homogeneity : ',homogeneity_score(labelList,y_pred ))\n",
    "print('completeness : ',completeness_score(labelList,y_pred ))"
   ]
  },
  {
   "cell_type": "markdown",
   "id": "3de433ce",
   "metadata": {},
   "source": [
    "## After throwing contigs with high similarity"
   ]
  },
  {
   "cell_type": "code",
   "execution_count": 29,
   "id": "79df965c",
   "metadata": {},
   "outputs": [
    {
     "name": "stdout",
     "output_type": "stream",
     "text": [
      "315\n",
      "535\n",
      "purity :  0.8467289719626169\n",
      "ARI :  0.594876503456489\n",
      "NMI :  0.7519395381631795\n",
      "homogeneity :  0.8247879165104292\n",
      "completeness :  0.6909152945088468\n"
     ]
    }
   ],
   "source": [
    "labelList=pd.read_csv('../data/label.csv',header=None)[1]\n",
    "for i in range(0,len(labelList)):\n",
    "    labelList[i]+=2\n",
    "\n",
    "\n",
    "iDList=pd.read_csv('../data/label.csv',header=None)[0].to_list()\n",
    "\n",
    "y_pred=[0 for i in range(0,850)]\n",
    "\n",
    "for i in range(1,28):\n",
    "    \n",
    "    with open(f'../data/metabat2_result/bin.{i}.fa') as f:\n",
    " \n",
    "        for line in f.readlines():\n",
    "     \n",
    "            if line.startswith(\">\"):\n",
    "                \n",
    "                key = line[1:].strip()\n",
    "                idx=iDList.index(key)\n",
    "                y_pred[idx]=i\n",
    "                 \n",
    " \n",
    "useless_idx=[]\n",
    "useful_idx=[]\n",
    "for i in range(0,len(y_pred)):\n",
    "    if y_pred[i]==0:\n",
    "        useless_idx.append(i)\n",
    "    else:\n",
    "        useful_idx.append(i)\n",
    "y_pred=[x for x in y_pred if x != 0]\n",
    "# len(y_pred)\n",
    "print(len(useless_idx))\n",
    "print(len(useful_idx))\n",
    "\n",
    "for i in reversed(useless_idx):\n",
    "    del labelList[i]\n",
    "\n",
    "print('purity : ',purity_score(labelList,y_pred))\n",
    "print('ARI : ',adjusted_rand_score(labelList,y_pred))\n",
    "print('NMI : ',normalized_mutual_info_score(labelList,y_pred ))\n",
    "print('homogeneity : ',homogeneity_score(labelList,y_pred ))\n",
    "print('completeness : ',completeness_score(labelList,y_pred ))"
   ]
  },
  {
   "cell_type": "markdown",
   "id": "88e7c55d",
   "metadata": {},
   "source": [
    "## Store the useful contig index binning from metabat2  "
   ]
  },
  {
   "cell_type": "code",
   "execution_count": 12,
   "id": "c586a6fe",
   "metadata": {},
   "outputs": [],
   "source": [
    "useful_idx=np.array( useful_idx)\n",
    "np.save('../data/metabat2_result/useful_idx.npy',useful_idx)"
   ]
  },
  {
   "cell_type": "code",
   "execution_count": null,
   "id": "eb907dcf",
   "metadata": {},
   "outputs": [],
   "source": []
  }
 ],
 "metadata": {
  "kernelspec": {
   "display_name": "Python 3 (ipykernel)",
   "language": "python",
   "name": "python3"
  },
  "language_info": {
   "codemirror_mode": {
    "name": "ipython",
    "version": 3
   },
   "file_extension": ".py",
   "mimetype": "text/x-python",
   "name": "python",
   "nbconvert_exporter": "python",
   "pygments_lexer": "ipython3",
   "version": "3.9.7"
  }
 },
 "nbformat": 4,
 "nbformat_minor": 5
}
