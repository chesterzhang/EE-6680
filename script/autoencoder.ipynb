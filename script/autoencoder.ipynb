{
 "cells": [
  {
   "cell_type": "code",
   "execution_count": 1,
   "id": "04d9f8f7",
   "metadata": {},
   "outputs": [],
   "source": [
    "import itertools\n",
    "import os\n",
    "import os.path as osp\n",
    "import pickle\n",
    "import urllib\n",
    "from collections import namedtuple\n",
    "\n",
    "import numpy as np\n",
    "import scipy.sparse as sp\n",
    "import torch\n",
    "import torch.nn as nn\n",
    "import torch.nn.functional as F\n",
    "import torch.nn.init as init\n",
    "import torch.optim as optim\n",
    "import matplotlib.pyplot as plt\n",
    "from torch.nn import Linear \n",
    "\n",
    "from matplotlib.ticker import MultipleLocator, FormatStrFormatter\n",
    "import pandas as pd\n",
    "from sklearn.cluster import KMeans\n",
    "from sklearn import metrics\n",
    "from sklearn.metrics.cluster import adjusted_rand_score\n",
    "from sklearn.metrics.cluster import normalized_mutual_info_score\n",
    "# import random\n",
    "\n",
    "\n",
    "%matplotlib inline"
   ]
  },
  {
   "cell_type": "code",
   "execution_count": 2,
   "id": "bc41ec96",
   "metadata": {},
   "outputs": [],
   "source": [
    " def tensor_from_numpy(x, device):\n",
    "    return torch.from_numpy(x).to(device)\n"
   ]
  },
  {
   "cell_type": "code",
   "execution_count": 3,
   "id": "a985b967",
   "metadata": {},
   "outputs": [],
   "source": [
    "\n"
   ]
  },
  {
   "cell_type": "code",
   "execution_count": null,
   "id": "4e6ddf97",
   "metadata": {},
   "outputs": [],
   "source": []
  },
  {
   "cell_type": "code",
   "execution_count": 4,
   "id": "62075c85",
   "metadata": {},
   "outputs": [],
   "source": [
    "node_feature = np.load('../data/X_np/X.npy')\n",
    "node_feature2= np.zeros(shape=[850,1879],dtype=np.float32)\n",
    "node_feature2[:,0:256]=node_feature[:, 0:256]\n",
    "\n",
    "for i in range(0,850):\n",
    "    for j in range(0,1623):\n",
    "        try:\n",
    "            node_feature2[i][j+256]=max(node_feature[i,256+5*j: 256+j*5+5]) \n",
    "        except:\n",
    "            print(j)\n",
    "            break\n",
    "            \n",
    "node_feature2/=node_feature2.sum(1, keepdims=True)   \n"
   ]
  },
  {
   "cell_type": "code",
   "execution_count": 178,
   "id": "44557ba6",
   "metadata": {},
   "outputs": [],
   "source": [
    "class AutoEncoder(nn.Module):\n",
    "\n",
    "    def __init__(self, input_dim):\n",
    "        super(AutoEncoder,self).__init__()\n",
    " \n",
    "        self.linear1=nn.Linear(input_dim,940)\n",
    "        self.linear2=nn.Linear(940,400)\n",
    "        self.linear3=nn.Linear(400,150)\n",
    "        self.linear4=nn.Linear(150,12)\n",
    "        self.linear5=nn.Linear(12,150)\n",
    "        self.linear6=nn.Linear(150,400)\n",
    "        self.linear7=nn.Linear(400,940)\n",
    "        self.linear8=nn.Linear(940,input_dim)\n",
    "    \n",
    "    def forward(self, feature):\n",
    "        self.h1 = F.relu(self.linear1( feature))\n",
    "        self.h1 = F.normalize(self.h1)\n",
    "        \n",
    "        self.h2  = F.sigmoid(self.linear2(self.h1))\n",
    "        self.h2 = F.normalize(self.h2)\n",
    "        \n",
    "        self.h3 = F.relu(self.linear3( self.h2))\n",
    "        self.h3 = F.normalize(self.h3)\n",
    "        \n",
    "        self.h4  = F.sigmoid(self.linear4( self.h3))\n",
    "#         self.h4 = F.normalize(self.h4)\n",
    "        \n",
    "        self.h5  = F.relu(self.linear5( self.h4))\n",
    "        self.h5 = F.normalize(self.h5)\n",
    "        \n",
    "        self.h6  = F.sigmoid(self.linear6( self.h5))\n",
    "        self.h6 = F.normalize(self.h6)\n",
    "        \n",
    "        self.h7  = F.relu(self.linear7(self.h6))\n",
    "        self.h7 = F.normalize(self.h7)\n",
    "        \n",
    "        self.h8  = self.linear8(self.h7)\n",
    "\n",
    "        return  self.h8\n",
    "\n"
   ]
  },
  {
   "cell_type": "code",
   "execution_count": 179,
   "id": "b2f3d24d",
   "metadata": {},
   "outputs": [],
   "source": [
    "# 超参数定义\n",
    "LEARNING_RATE = 0.001\n",
    "WEIGHT_DACAY = 1e-4\n",
    "EPOCHS = 10\n",
    "DEVICE = \"cuda\" if torch.cuda.is_available() else \"cpu\""
   ]
  },
  {
   "cell_type": "code",
   "execution_count": 7,
   "id": "6a392a92",
   "metadata": {},
   "outputs": [],
   "source": [
    "node_feature = np.load('../data/X_np/X.npy')\n",
    "node_feature2= np.zeros(shape=[850,1879],dtype=np.float32)\n",
    "node_feature2[:,0:256]=node_feature[:, 0:256]\n",
    "\n",
    "for i in range(0,850):\n",
    "    for j in range(0,1623):\n",
    "        try:\n",
    "            node_feature2[i][j+256]=max(node_feature[i,256+5*j: 256+j*5+5]) \n",
    "        except:\n",
    "            print(j)\n",
    "            break\n",
    "            \n",
    "node_feature2/=node_feature2.sum(1, keepdims=True)   "
   ]
  },
  {
   "cell_type": "code",
   "execution_count": 8,
   "id": "1c2a1375",
   "metadata": {},
   "outputs": [],
   "source": [
    "tensor_x = tensor_from_numpy(node_feature2, DEVICE)\n",
    "labelList=pd.read_csv('../data/label.csv',header=None)[1]\n",
    "for i in range(0,len(labelList)):\n",
    "    labelList[i]+=1\n",
    "\n",
    "train_mask=[True for i in range(0,850)]\n",
    "tensor_train_mask = tensor_from_numpy(np.array(train_mask), DEVICE )\n"
   ]
  },
  {
   "cell_type": "code",
   "execution_count": 180,
   "id": "d80eeb17",
   "metadata": {},
   "outputs": [],
   "source": [
    "# 模型定义：Model, Loss, Optimizer\n",
    "model = AutoEncoder(tensor_x.shape[1]).to(DEVICE)\n",
    "criterion=nn.MSELoss(reduction='mean')\n",
    "optimizer = optim.Adam(model.parameters(), \n",
    "                       lr=LEARNING_RATE, \n",
    "                       weight_decay=WEIGHT_DACAY)"
   ]
  },
  {
   "cell_type": "code",
   "execution_count": 181,
   "id": "940e6fed",
   "metadata": {},
   "outputs": [],
   "source": [
    "# 训练主体函数\n",
    "def train():\n",
    "    loss_history = []\n",
    "    val_acc_history = []\n",
    "    model.train()\n",
    " \n",
    "    for epoch in range(EPOCHS):\n",
    "         \n",
    "        logits = model(tensor_x)  # 前向传播\n",
    "        train_mask_logits = logits[tensor_train_mask]   # 只选择训练节点进行监督\n",
    " \n",
    "    \n",
    "        \n",
    "        loss = criterion(train_mask_logits, tensor_x)\n",
    "        optimizer.zero_grad()\n",
    "        loss.backward()     # 反向传播计算参数的梯度\n",
    "        optimizer.step()    # 使用优化方法进行梯度更新\n",
    " \n",
    "        loss_history.append(loss.item())\n",
    " \n",
    "    return loss_history, model.h4"
   ]
  },
  {
   "cell_type": "code",
   "execution_count": 197,
   "id": "de7436f9",
   "metadata": {},
   "outputs": [
    {
     "name": "stderr",
     "output_type": "stream",
     "text": [
      "C:\\Users\\Chester_Zhang\\anaconda3\\lib\\site-packages\\torch\\nn\\functional.py:1806: UserWarning: nn.functional.sigmoid is deprecated. Use torch.sigmoid instead.\n",
      "  warnings.warn(\"nn.functional.sigmoid is deprecated. Use torch.sigmoid instead.\")\n"
     ]
    },
    {
     "name": "stdout",
     "output_type": "stream",
     "text": [
      "[7.767067472741473e-06, 5.906914793740725e-06, 4.5514657358580735e-06, 3.6637723042076686e-06, 3.129068545604241e-06, 2.833854068740038e-06, 2.677563315955922e-06, 2.590137910374324e-06, 2.5322062811028445e-06, 2.4892603960324777e-06]\n"
     ]
    }
   ],
   "source": [
    "loss,feature_layer = train()\n",
    " \n",
    "print(loss)"
   ]
  },
  {
   "cell_type": "code",
   "execution_count": 198,
   "id": "3f6ec832",
   "metadata": {},
   "outputs": [],
   "source": [
    "def plot_loss_with_acc(loss_history, val_acc_history):\n",
    "    fig = plt.figure()\n",
    "    ax1 = fig.add_subplot(111)\n",
    "    ax1.plot(range(len(loss_history)), loss_history,\n",
    "             c=np.array([255, 71, 90]) / 255.)\n",
    "    plt.ylabel('Loss')\n",
    "    plt.xlabel('Epoch')\n",
    "    plt.title('Training Loss ')\n",
    "    plt.show() "
   ]
  },
  {
   "cell_type": "code",
   "execution_count": 199,
   "id": "c5badb61",
   "metadata": {},
   "outputs": [
    {
     "data": {
      "image/png": "[encoded data removed]",
      "text/plain": [
       "<Figure size 432x288 with 1 Axes>"
      ]
     },
     "metadata": {
      "needs_background": "light"
     },
     "output_type": "display_data"
    }
   ],
   "source": [
    "plot_loss_with_acc(loss, [])"
   ]
  },
  {
   "cell_type": "code",
   "execution_count": 200,
   "id": "a07cf282",
   "metadata": {},
   "outputs": [],
   "source": [
    "feature_np=feature_layer.detach().numpy()\n",
    "feature_np/=feature_np.sum(1, keepdims=True)"
   ]
  },
  {
   "cell_type": "code",
   "execution_count": 205,
   "id": "98d33211",
   "metadata": {},
   "outputs": [],
   "source": [
    "kmeans = KMeans(n_clusters=12,init='k-means++').fit(feature_np)"
   ]
  },
  {
   "cell_type": "code",
   "execution_count": 207,
   "id": "46847a44",
   "metadata": {},
   "outputs": [
    {
     "name": "stdout",
     "output_type": "stream",
     "text": [
      "purity :  0.6517647058823529\n",
      "ARI :  0.4680553485635442\n",
      "NMI :  0.659726172487363\n"
     ]
    }
   ],
   "source": [
    "def purity_score(y_true, y_pred):\n",
    "    # compute contingency matrix (also called confusion matrix)\n",
    "    contingency_matrix = metrics.cluster.contingency_matrix(y_true, y_pred)\n",
    "    # return purity\n",
    "    return np.sum(np.amax(contingency_matrix, axis=0)) / np.sum(contingency_matrix)\n",
    "\n",
    "print('purity : ',purity_score(labelList,kmeans.labels_ ))\n",
    "print('ARI : ',adjusted_rand_score(labelList,kmeans.labels_))\n",
    "print('NMI : ',normalized_mutual_info_score(labelList,kmeans.labels_ ))"
   ]
  },
  {
   "cell_type": "code",
   "execution_count": 108,
   "id": "180733aa",
   "metadata": {},
   "outputs": [],
   "source": [
    "# torch.save(model, '../model/autoencode.pt')\n",
    "# np.save(\"../model/feacture_np.npy\",feature_np )"
   ]
  },
  {
   "cell_type": "code",
   "execution_count": null,
   "id": "cca57089",
   "metadata": {},
   "outputs": [],
   "source": [
    " "
   ]
  },
  {
   "cell_type": "code",
   "execution_count": 109,
   "id": "8f0022a6",
   "metadata": {},
   "outputs": [],
   "source": [
    "class HalfAutoEncoder(nn.Module):\n",
    "    def __init__(self,linear5,linear6,linear7,linear8 ):\n",
    "        super(HalfAutoEncoder,self).__init__()\n",
    "         \n",
    "        self.linear5= linear5\n",
    "        self.linear6= linear6\n",
    "        self.linear7= linear7\n",
    "        self.linear8= linear8\n",
    "    \n",
    "    def forward(self, h4):\n",
    "        self.h5  = F.relu(self.linear5( h4))\n",
    "        self.h5 = F.normalize(self.h5)\n",
    "        \n",
    "        self.h6  = F.sigmoid(self.linear6( self.h5))\n",
    "        self.h6 = F.normalize(self.h6)\n",
    "        \n",
    "        self.h7  = F.relu(self.linear7(self.h6))\n",
    "        self.h7 = F.normalize(self.h7)\n",
    "        \n",
    "        self.h8  = self.linear8(self.h7)\n",
    "\n",
    "        return  self.h8"
   ]
  },
  {
   "cell_type": "code",
   "execution_count": 110,
   "id": "08db0c45",
   "metadata": {},
   "outputs": [],
   "source": [
    "half_auto_encoder=HalfAutoEncoder(model.linear5, model.linear6, model.linear7, model.linear8 ).to(DEVICE)"
   ]
  },
  {
   "cell_type": "code",
   "execution_count": 111,
   "id": "f75561db",
   "metadata": {},
   "outputs": [],
   "source": [
    "#  torch.save(half_auto_encoder, '../model/half_auto_encoder.pt')"
   ]
  },
  {
   "cell_type": "code",
   "execution_count": 85,
   "id": "ae937c08",
   "metadata": {},
   "outputs": [],
   "source": [
    " "
   ]
  },
  {
   "cell_type": "code",
   "execution_count": null,
   "id": "c799e01f",
   "metadata": {},
   "outputs": [],
   "source": []
  }
 ],
 "metadata": {
  "kernelspec": {
   "display_name": "Python 3 (ipykernel)",
   "language": "python",
   "name": "python3"
  },
  "language_info": {
   "codemirror_mode": {
    "name": "ipython",
    "version": 3
   },
   "file_extension": ".py",
   "mimetype": "text/x-python",
   "name": "python",
   "nbconvert_exporter": "python",
   "pygments_lexer": "ipython3",
   "version": "3.9.7"
  }
 },
 "nbformat": 4,
 "nbformat_minor": 5
}
