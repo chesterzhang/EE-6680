{
 "cells": [
  {
   "cell_type": "code",
   "execution_count": 1,
   "id": "8e4c4176",
   "metadata": {},
   "outputs": [],
   "source": [
    "import itertools\n",
    "import os\n",
    "import os.path as osp\n",
    "import pickle\n",
    "import urllib\n",
    "from collections import namedtuple\n",
    "\n",
    "import numpy as np\n",
    " \n",
    "import torch\n",
    "import torch.nn as nn\n",
    "import torch.nn.functional as F\n",
    "import torch.nn.init as init\n",
    "import torch.optim as optim\n",
    "import matplotlib.pyplot as plt\n",
    "from torch.nn import Linear \n",
    "\n",
    "from matplotlib.ticker import MultipleLocator, FormatStrFormatter\n",
    "import pandas as pd\n",
    "from sklearn.cluster import KMeans\n",
    "from sklearn import metrics\n",
    "from sklearn.metrics.cluster import adjusted_rand_score\n",
    "from sklearn.metrics.cluster import normalized_mutual_info_score\n",
    "# import random\n",
    "\n",
    "\n",
    "%matplotlib inline"
   ]
  },
  {
   "cell_type": "code",
   "execution_count": 2,
   "id": "787136b2",
   "metadata": {},
   "outputs": [],
   "source": [
    "def tensor_from_numpy(x, device):\n",
    "    return torch.from_numpy(x).to(device)\n",
    "def plot_loss_with_acc(loss_history, val_acc_history):\n",
    "    fig = plt.figure()\n",
    "    ax1 = fig.add_subplot(111)\n",
    "    ax1.plot(range(len(loss_history)), loss_history,\n",
    "             c=np.array([255, 71, 90]) / 255.)\n",
    "    plt.ylabel('Loss')\n",
    "    plt.xlabel('Epoch')\n",
    "    plt.title('Training Loss ')\n",
    "    plt.show() "
   ]
  },
  {
   "cell_type": "code",
   "execution_count": 3,
   "id": "f6bf3a34",
   "metadata": {},
   "outputs": [],
   "source": [
    "# 超参数定义\n",
    "LEARNING_RATE = 5e-4 #0.001\n",
    "# WEIGHT_DACAY = 1e-4\n",
    "EPOCHS = 150\n",
    "DEVICE = \"cuda\" if torch.cuda.is_available() else \"cpu\""
   ]
  },
  {
   "cell_type": "code",
   "execution_count": 4,
   "id": "8d237d54",
   "metadata": {},
   "outputs": [],
   "source": [
    "df = pd.read_csv('../data/xubo_kmer/kmer.csv', header = None)\n",
    "seqs = df.values[:, : -1].astype(np.float32)\n",
    "tensor_x = tensor_from_numpy(seqs, DEVICE)\n",
    "\n",
    "labelList=pd.read_csv('../data/label.csv',header=None)[1]\n",
    "for i in range(0,len(labelList)):\n",
    "    labelList[i]+=1\n",
    "    "
   ]
  },
  {
   "cell_type": "code",
   "execution_count": null,
   "id": "6371eb80",
   "metadata": {},
   "outputs": [],
   "source": []
  },
  {
   "cell_type": "code",
   "execution_count": 5,
   "id": "1243ee40",
   "metadata": {},
   "outputs": [],
   "source": [
    "class AutoEncoder(nn.Module):\n",
    "\n",
    "    def __init__(self, input_dim):\n",
    "        super(AutoEncoder,self).__init__()\n",
    " \n",
    "        self.linear1=nn.Linear(input_dim,512)\n",
    "        self.linear2=nn.Linear(512,512)\n",
    "        self.linear3=nn.Linear(512 ,64)\n",
    "        self.linear4=nn.Linear(64,512)\n",
    "        self.linear5=nn.Linear(512,512)\n",
    "        self.linear6=nn.Linear(512,input_dim)\n",
    "    \n",
    "    def forward(self, feature):\n",
    "        self.h1 = F.relu(self.linear1( feature))\n",
    "\n",
    "        self.h2  = F.relu(self.linear2(self.h1))\n",
    "        self.h2 = F.normalize(self.h2)\n",
    "        \n",
    "        self.h3  = F.relu(self.linear3(self.h2))\n",
    "        self.h3 = F.normalize(self.h3)\n",
    "        \n",
    "        self.h4  = F.relu(self.linear4(self.h3))\n",
    "        self.h4 = F.normalize(self.h4)\n",
    "        \n",
    "        self.h5  = F.relu(self.linear5(self.h4))\n",
    "        self.h5 = F.normalize(self.h5)\n",
    "        \n",
    "        self.h6  = self.linear6(self.h5)\n",
    "\n",
    "        return  self.h6"
   ]
  },
  {
   "cell_type": "code",
   "execution_count": 6,
   "id": "5bbd1752",
   "metadata": {},
   "outputs": [],
   "source": [
    "model = AutoEncoder(tensor_x.shape[1]).to(DEVICE)\n",
    "criterion=nn.MSELoss(reduction='mean')\n",
    "optimizer = optim.Adam(model.parameters(), \n",
    "                       lr=LEARNING_RATE )"
   ]
  },
  {
   "cell_type": "code",
   "execution_count": 7,
   "id": "54d57098",
   "metadata": {},
   "outputs": [],
   "source": [
    " # 训练主体函数\n",
    "def train():\n",
    "    loss_history = []\n",
    "    val_acc_history = []\n",
    "    model.train()\n",
    " \n",
    "    for epoch in range(EPOCHS):\n",
    "         \n",
    "        logits = model(tensor_x)  # 前向传播\n",
    "        #train_mask_logits = logits[tensor_train_mask]   # 只选择训练节点进行监督\n",
    " \n",
    "        loss = criterion(logits, tensor_x)\n",
    "        optimizer.zero_grad()\n",
    "        loss.backward()     # 反向传播计算参数的梯度\n",
    "        optimizer.step()    # 使用优化方法进行梯度更新\n",
    " \n",
    "        loss_history.append(loss.item())\n",
    " \n",
    "    return loss_history, model.h3, model.h6"
   ]
  },
  {
   "cell_type": "code",
   "execution_count": 8,
   "id": "7e60df14",
   "metadata": {},
   "outputs": [
    {
     "name": "stdout",
     "output_type": "stream",
     "text": [
      "[0.15759330987930298, 0.1478928029537201, 0.14039036631584167, 0.13395486772060394, 0.12846378982067108, 0.12373127043247223, 0.11948505789041519, 0.11555885523557663, 0.11186357587575912, 0.10831976681947708, 0.10488059371709824, 0.10151983052492142, 0.09824328869581223, 0.09506231546401978, 0.09198198467493057, 0.08899235725402832, 0.08609236776828766, 0.08327670395374298, 0.08054396510124207, 0.07790158689022064, 0.07534750550985336, 0.07288192957639694, 0.07050484418869019, 0.06821201741695404, 0.06600040942430496, 0.06386410444974899, 0.061802614480257034, 0.05981487035751343, 0.057899922132492065, 0.056056033819913864, 0.054276127368211746, 0.05255896970629692, 0.05090300366282463, 0.049307145178318024, 0.04776974767446518, 0.04628865420818329, 0.04486284777522087, 0.043491579592227936, 0.04217279702425003, 0.0409042164683342, 0.03967941924929619, 0.038500718772411346, 0.03736209124326706, 0.036265820264816284, 0.03521239012479782, 0.03419860079884529, 0.03322102501988411, 0.0322781540453434, 0.03136826679110527, 0.030495554208755493, 0.029672281816601753, 0.02888408489525318, 0.028106022626161575, 0.02732577547430992, 0.026655830442905426, 0.025956882163882256, 0.02524563856422901, 0.02467760629951954, 0.023993130773305893, 0.023399120196700096, 0.022831086069345474, 0.02220916375517845, 0.021706638857722282, 0.021137649193406105, 0.020632067695260048, 0.020155299454927444, 0.01962888054549694, 0.019197586923837662, 0.01875719614326954, 0.01826753094792366, 0.01789025403559208, 0.017493268474936485, 0.01702759601175785, 0.01670905016362667, 0.016346236690878868, 0.015897123143076897, 0.015656229108572006, 0.015302094630897045, 0.014900811947882175, 0.014717631042003632, 0.014314079657196999, 0.014041946269571781, 0.013782771304249763, 0.013438004069030285, 0.01325337402522564, 0.012936635874211788, 0.01273663341999054, 0.012502603232860565, 0.012239690870046616, 0.01207929477095604, 0.011818774975836277, 0.011621104553341866, 0.011445919051766396, 0.011209269054234028, 0.011045973747968674, 0.010862044990062714, 0.010662565007805824, 0.010513044893741608, 0.010337102226912975, 0.010165669955313206, 0.010023873299360275, 0.009864923544228077, 0.009708758443593979, 0.009573707357048988, 0.009435863234102726, 0.009292980656027794, 0.00915828999131918, 0.009035153314471245, 0.008916173130273819, 0.008793730288743973, 0.008673480711877346, 0.008552863262593746, 0.008436514995992184, 0.0083243977278471, 0.008216135203838348, 0.008110954426229, 0.008008994162082672, 0.007912075147032738, 0.007832754403352737, 0.007840780541300774, 0.007958908565342426, 0.008335394784808159, 0.007548712193965912, 0.008142845705151558, 0.008037710562348366, 0.007825794629752636, 0.007552750408649445, 0.007438452448695898, 0.007451475132256746, 0.007231527008116245, 0.007117996923625469, 0.007186172064393759, 0.0067651099525392056, 0.007039649877697229, 0.006718628574162722, 0.006650916300714016, 0.00673983758315444, 0.006473180837929249, 0.006477687507867813, 0.006447555497288704, 0.006299218162894249, 0.006252977531403303, 0.006232227198779583, 0.006125698331743479, 0.006033682730048895, 0.006059689447283745, 0.005905444268137217, 0.00589163601398468, 0.005851022433489561, 0.0057445731945335865]\n"
     ]
    },
    {
     "data": {
      "image/png": "[encoded data removed]",
      "text/plain": [
       "<Figure size 432x288 with 1 Axes>"
      ]
     },
     "metadata": {
      "needs_background": "light"
     },
     "output_type": "display_data"
    }
   ],
   "source": [
    "loss,feature_layer, rec_X = train()\n",
    " \n",
    "print(loss)\n",
    "plot_loss_with_acc(loss, [])"
   ]
  },
  {
   "cell_type": "code",
   "execution_count": 9,
   "id": "095527ee",
   "metadata": {},
   "outputs": [
    {
     "name": "stdout",
     "output_type": "stream",
     "text": [
      "purity :  0.5411764705882353\n",
      "ARI :  0.3347498157356383\n",
      "NMI :  0.5157073189465985\n"
     ]
    }
   ],
   "source": [
    "feature_np=feature_layer.detach().numpy()\n",
    "feature_np/=feature_np.sum(1, keepdims=True)\n",
    "kmeans = KMeans(n_clusters=12,init='k-means++').fit(feature_np)\n",
    "def purity_score(y_true, y_pred):\n",
    "    # compute contingency matrix (also called confusion matrix)\n",
    "    contingency_matrix = metrics.cluster.contingency_matrix(y_true, y_pred)\n",
    "    # return purity\n",
    "    return np.sum(np.amax(contingency_matrix, axis=0)) / np.sum(contingency_matrix)\n",
    "\n",
    "print('purity : ',purity_score(labelList,kmeans.labels_ ))\n",
    "print('ARI : ',adjusted_rand_score(labelList,kmeans.labels_))\n",
    "print('NMI : ',normalized_mutual_info_score(labelList,kmeans.labels_ ))"
   ]
  },
  {
   "cell_type": "code",
   "execution_count": 10,
   "id": "f230079b",
   "metadata": {},
   "outputs": [],
   "source": [
    "np.save(\"../model/feacture_np.npy\",feature_np )\n",
    "np.save(\"../model/rec_X.npy\", rec_X.detach().numpy() )"
   ]
  },
  {
   "cell_type": "code",
   "execution_count": 11,
   "id": "5b4eab4a",
   "metadata": {},
   "outputs": [],
   "source": [
    "class HalfAutoEncoder(nn.Module):\n",
    "    def __init__(self,linear4,linear5,linear6 ):\n",
    "        super(HalfAutoEncoder,self).__init__()\n",
    "        \n",
    "        self.linear4= linear4\n",
    "        self.linear5= linear5\n",
    "        self.linear6= linear6\n",
    "         \n",
    "        \n",
    "    \n",
    "    def forward(self, h3):\n",
    "        self.h4  = F.relu(self.linear4(h3))\n",
    "        self.h4 = F.normalize(self.h4)\n",
    "        \n",
    "        self.h5  = F.relu(self.linear5(self.h4))\n",
    "        self.h5 = F.normalize(self.h5)\n",
    "        \n",
    "        self.h6  = self.linear6(self.h5)\n",
    "\n",
    "        return  self.h6"
   ]
  },
  {
   "cell_type": "code",
   "execution_count": 12,
   "id": "93feaa81",
   "metadata": {},
   "outputs": [],
   "source": [
    "half_auto_encoder=HalfAutoEncoder(model.linear4, model.linear5, model.linear6).to(DEVICE)\n",
    "torch.save(half_auto_encoder, '../model/half_auto_encoder.pt')"
   ]
  },
  {
   "cell_type": "code",
   "execution_count": null,
   "id": "b6847d2e",
   "metadata": {},
   "outputs": [],
   "source": []
  }
 ],
 "metadata": {
  "kernelspec": {
   "display_name": "Python 3 (ipykernel)",
   "language": "python",
   "name": "python3"
  },
  "language_info": {
   "codemirror_mode": {
    "name": "ipython",
    "version": 3
   },
   "file_extension": ".py",
   "mimetype": "text/x-python",
   "name": "python",
   "nbconvert_exporter": "python",
   "pygments_lexer": "ipython3",
   "version": "3.9.7"
  }
 },
 "nbformat": 4,
 "nbformat_minor": 5
}
