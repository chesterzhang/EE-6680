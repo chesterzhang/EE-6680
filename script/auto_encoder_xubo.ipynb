{
 "cells": [
  {
   "cell_type": "code",
   "execution_count": 1,
   "id": "8e4c4176",
   "metadata": {},
   "outputs": [],
   "source": [
    "import itertools\n",
    "import os\n",
    "import os.path as osp\n",
    "import pickle\n",
    "import urllib\n",
    "from collections import namedtuple\n",
    "\n",
    "import numpy as np\n",
    " \n",
    "import torch\n",
    "import torch.nn as nn\n",
    "import torch.nn.functional as F\n",
    "import torch.nn.init as init\n",
    "import torch.optim as optim\n",
    "import matplotlib.pyplot as plt\n",
    "from torch.nn import Linear \n",
    "\n",
    "from matplotlib.ticker import MultipleLocator, FormatStrFormatter\n",
    "import pandas as pd\n",
    "from sklearn.cluster import KMeans\n",
    "from sklearn import metrics\n",
    "from sklearn.metrics.cluster import adjusted_rand_score\n",
    "from sklearn.metrics.cluster import normalized_mutual_info_score\n",
    "# import random\n",
    "\n",
    "\n",
    "%matplotlib inline"
   ]
  },
  {
   "cell_type": "code",
   "execution_count": 2,
   "id": "787136b2",
   "metadata": {},
   "outputs": [],
   "source": [
    "def tensor_from_numpy(x, device):\n",
    "    return torch.from_numpy(x).to(device)\n",
    "def plot_loss_with_acc(loss_history, val_acc_history):\n",
    "    fig = plt.figure()\n",
    "    ax1 = fig.add_subplot(111)\n",
    "    ax1.plot(range(len(loss_history)), loss_history,\n",
    "             c=np.array([255, 71, 90]) / 255.)\n",
    "    plt.ylabel('Loss')\n",
    "    plt.xlabel('Epoch')\n",
    "    plt.title('Training Loss ')\n",
    "    plt.show() "
   ]
  },
  {
   "cell_type": "code",
   "execution_count": 35,
   "id": "f6bf3a34",
   "metadata": {},
   "outputs": [],
   "source": [
    "# 超参数定义\n",
    "LEARNING_RATE = 2e-4 #0.001\n",
    "# WEIGHT_DACAY = 1e-4\n",
    "EPOCHS = 400\n",
    "DEVICE = \"cuda\" if torch.cuda.is_available() else \"cpu\""
   ]
  },
  {
   "cell_type": "code",
   "execution_count": 48,
   "id": "8d237d54",
   "metadata": {},
   "outputs": [],
   "source": [
    "df = pd.read_csv('../data/xubo_kmer/kmer.csv', header = None)\n",
    "seqs = df.values[:, : -1].astype(np.float32)\n",
    "# seqs/=seqs.sum(1, keepdims=True)  \n",
    "tensor_x = tensor_from_numpy(seqs, DEVICE)\n",
    "\n",
    "labelList=pd.read_csv('../data/label.csv',header=None)[1]\n",
    "for i in range(0,len(labelList)):\n",
    "    labelList[i]+=1\n",
    "    "
   ]
  },
  {
   "cell_type": "code",
   "execution_count": 49,
   "id": "6371eb80",
   "metadata": {},
   "outputs": [
    {
     "data": {
      "text/plain": [
       "(850, 135)"
      ]
     },
     "execution_count": 49,
     "metadata": {},
     "output_type": "execute_result"
    }
   ],
   "source": [
    "seqs.shape"
   ]
  },
  {
   "cell_type": "code",
   "execution_count": 50,
   "id": "1243ee40",
   "metadata": {},
   "outputs": [],
   "source": [
    "class AutoEncoder(nn.Module):\n",
    "\n",
    "    def __init__(self, input_dim):\n",
    "        super(AutoEncoder,self).__init__()\n",
    " \n",
    "        self.linear1=nn.Linear(input_dim,512)\n",
    "        self.linear2=nn.Linear(512,512)\n",
    "        self.linear3=nn.Linear(512 ,64)\n",
    "        self.linear4=nn.Linear(64,512)\n",
    "        self.linear5=nn.Linear(512,512)\n",
    "        self.linear6=nn.Linear(512,input_dim)\n",
    "    \n",
    "    def forward(self, feature):\n",
    "        self.h1 = F.relu(self.linear1( feature))\n",
    "\n",
    "        self.h2  = F.relu(self.linear2(self.h1))\n",
    "        self.h2 = F.normalize(self.h2)\n",
    "        \n",
    "        self.h3  = F.relu(self.linear3(self.h2))\n",
    "        self.h3 = F.normalize(self.h3)\n",
    "        \n",
    "        self.h4  = F.relu(self.linear4(self.h3))\n",
    "        self.h4 = F.normalize(self.h4)\n",
    "        \n",
    "        self.h5  = F.relu(self.linear5(self.h4))\n",
    "        self.h5 = F.normalize(self.h5)\n",
    "        \n",
    "        self.h6  = self.linear6(self.h5)\n",
    "\n",
    "        return  self.h6\n",
    "\n",
    "# class AutoEncoder(nn.Module):\n",
    "\n",
    "#     def __init__(self, input_dim):\n",
    "#         super(AutoEncoder,self).__init__()\n",
    " \n",
    "#         self.linear1=nn.Linear(input_dim,940)\n",
    "#         self.linear2=nn.Linear(940,400)\n",
    "#         self.linear3=nn.Linear(400,150)\n",
    "#         self.linear4=nn.Linear(150,36)\n",
    "#         self.linear5=nn.Linear(36,150)\n",
    "#         self.linear6=nn.Linear(150,400)\n",
    "#         self.linear7=nn.Linear(400,940)\n",
    "#         self.linear8=nn.Linear(940,input_dim)\n",
    "    \n",
    "#     def forward(self, feature):\n",
    "#         self.h1 = F.relu(self.linear1( feature))\n",
    "#         self.h1 = F.normalize(self.h1)\n",
    "        \n",
    "#         self.h2  = F.sigmoid(self.linear2(self.h1))\n",
    "#         self.h2 = F.normalize(self.h2)\n",
    "        \n",
    "#         self.h3 = F.relu(self.linear3( self.h2))\n",
    "#         self.h3 = F.normalize(self.h3)\n",
    "        \n",
    "#         self.h4  = F.sigmoid(self.linear4( self.h3))\n",
    "#         self.h4 = F.normalize(self.h4)\n",
    "        \n",
    "#         self.h5  = F.relu(self.linear5( self.h4))\n",
    "#         self.h5 = F.normalize(self.h5)\n",
    "        \n",
    "#         self.h6  = F.sigmoid(self.linear6( self.h5))\n",
    "#         self.h6 = F.normalize(self.h6)\n",
    "        \n",
    "#         self.h7  = F.relu(self.linear7(self.h6))\n",
    "#         self.h7 = F.normalize(self.h7)\n",
    "        \n",
    "#         self.h8  = self.linear8(self.h7)\n",
    "\n",
    "#         return  self.h8"
   ]
  },
  {
   "cell_type": "code",
   "execution_count": 51,
   "id": "5bbd1752",
   "metadata": {},
   "outputs": [],
   "source": [
    "model = AutoEncoder(tensor_x.shape[1]).to(DEVICE)\n",
    "criterion=nn.MSELoss(reduction='mean')\n",
    "optimizer = optim.Adam(model.parameters(), \n",
    "                       lr=LEARNING_RATE )"
   ]
  },
  {
   "cell_type": "code",
   "execution_count": 52,
   "id": "54d57098",
   "metadata": {},
   "outputs": [],
   "source": [
    " # 训练主体函数\n",
    "def train():\n",
    "    loss_history = []\n",
    "    val_acc_history = []\n",
    "    model.train()\n",
    " \n",
    "    for epoch in range(EPOCHS):\n",
    "         \n",
    "        logits = model(tensor_x)  # 前向传播\n",
    "        #train_mask_logits = logits[tensor_train_mask]   # 只选择训练节点进行监督\n",
    " \n",
    "        loss = criterion(logits, tensor_x)\n",
    "        optimizer.zero_grad()\n",
    "        loss.backward()     # 反向传播计算参数的梯度\n",
    "        optimizer.step()    # 使用优化方法进行梯度更新\n",
    " \n",
    "        loss_history.append(loss.item())\n",
    " \n",
    "    return loss_history, model.h3, model.h6"
   ]
  },
  {
   "cell_type": "code",
   "execution_count": 53,
   "id": "7e60df14",
   "metadata": {},
   "outputs": [
    {
     "data": {
      "image/png": "[encoded data removed]",
      "text/plain": [
       "<Figure size 432x288 with 1 Axes>"
      ]
     },
     "metadata": {
      "needs_background": "light"
     },
     "output_type": "display_data"
    }
   ],
   "source": [
    "loss,feature_layer, rec_X = train()\n",
    " \n",
    "# print(loss)\n",
    "plot_loss_with_acc(loss, [])"
   ]
  },
  {
   "cell_type": "code",
   "execution_count": 54,
   "id": "308c3c92",
   "metadata": {},
   "outputs": [
    {
     "name": "stdout",
     "output_type": "stream",
     "text": [
      "0.0032539209350943565\n"
     ]
    }
   ],
   "source": [
    "print(loss[-1])"
   ]
  },
  {
   "cell_type": "code",
   "execution_count": 55,
   "id": "095527ee",
   "metadata": {},
   "outputs": [
    {
     "name": "stdout",
     "output_type": "stream",
     "text": [
      "purity :  0.6176470588235294\n",
      "ARI :  0.42376509224137454\n",
      "NMI :  0.6046533010090586\n"
     ]
    }
   ],
   "source": [
    "feature_np=feature_layer.detach().numpy()\n",
    "feature_np/=feature_np.sum(1, keepdims=True)\n",
    "kmeans = KMeans(n_clusters=12,init='k-means++').fit(feature_np)\n",
    "def purity_score(y_true, y_pred):\n",
    "    # compute contingency matrix (also called confusion matrix)\n",
    "    contingency_matrix = metrics.cluster.contingency_matrix(y_true, y_pred)\n",
    "    # return purity\n",
    "    return np.sum(np.amax(contingency_matrix, axis=0)) / np.sum(contingency_matrix)\n",
    "\n",
    "print('purity : ',purity_score(labelList,kmeans.labels_ ))\n",
    "print('ARI : ',adjusted_rand_score(labelList,kmeans.labels_))\n",
    "print('NMI : ',normalized_mutual_info_score(labelList,kmeans.labels_ ))"
   ]
  },
  {
   "cell_type": "code",
   "execution_count": null,
   "id": "17ced645",
   "metadata": {},
   "outputs": [],
   "source": []
  },
  {
   "cell_type": "code",
   "execution_count": 56,
   "id": "f230079b",
   "metadata": {},
   "outputs": [],
   "source": [
    "np.save(\"../model/feacture_np.npy\",feature_np )\n",
    "np.save(\"../model/rec_X.npy\", rec_X.detach().numpy() )"
   ]
  },
  {
   "cell_type": "code",
   "execution_count": 57,
   "id": "5b4eab4a",
   "metadata": {},
   "outputs": [],
   "source": [
    "class HalfAutoEncoder(nn.Module):\n",
    "    def __init__(self,linear4,linear5,linear6 ):\n",
    "        super(HalfAutoEncoder,self).__init__()\n",
    "        \n",
    "        self.linear4= linear4\n",
    "        self.linear5= linear5\n",
    "        self.linear6= linear6\n",
    "         \n",
    "        \n",
    "    \n",
    "    def forward(self, h3):\n",
    "        self.h4  = F.relu(self.linear4(h3))\n",
    "        self.h4 = F.normalize(self.h4)\n",
    "        \n",
    "        self.h5  = F.relu(self.linear5(self.h4))\n",
    "        self.h5 = F.normalize(self.h5)\n",
    "        \n",
    "        self.h6  = self.linear6(self.h5)\n",
    "\n",
    "        return  self.h6"
   ]
  },
  {
   "cell_type": "code",
   "execution_count": 58,
   "id": "93feaa81",
   "metadata": {},
   "outputs": [],
   "source": [
    "half_auto_encoder=HalfAutoEncoder(model.linear4, model.linear5, model.linear6).to(DEVICE)\n",
    "torch.save(half_auto_encoder, '../model/half_auto_encoder.pt')"
   ]
  },
  {
   "cell_type": "code",
   "execution_count": null,
   "id": "b6847d2e",
   "metadata": {},
   "outputs": [],
   "source": [
    " "
   ]
  },
  {
   "cell_type": "code",
   "execution_count": null,
   "id": "628a4565",
   "metadata": {},
   "outputs": [],
   "source": []
  }
 ],
 "metadata": {
  "kernelspec": {
   "display_name": "Python 3 (ipykernel)",
   "language": "python",
   "name": "python3"
  },
  "language_info": {
   "codemirror_mode": {
    "name": "ipython",
    "version": 3
   },
   "file_extension": ".py",
   "mimetype": "text/x-python",
   "name": "python",
   "nbconvert_exporter": "python",
   "pygments_lexer": "ipython3",
   "version": "3.9.7"
  }
 },
 "nbformat": 4,
 "nbformat_minor": 5
}
