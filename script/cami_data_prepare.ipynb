{
 "cells": [
  {
   "cell_type": "code",
   "execution_count": 1,
   "id": "2120c61e",
   "metadata": {},
   "outputs": [],
   "source": [
    "import numpy as np\n",
    "import pandas as pd\n",
    "\n",
    "import operator\n"
   ]
  },
  {
   "cell_type": "markdown",
   "id": "0b2bee60",
   "metadata": {},
   "source": [
    "### prepare id"
   ]
  },
  {
   "cell_type": "code",
   "execution_count": 2,
   "id": "3b01400f",
   "metadata": {},
   "outputs": [],
   "source": [
    "idList=[]\n",
    "\n",
    "with open(f'../../data/low/cami_low_sequences.fasta') as f:\n",
    " \n",
    "        for line in f.readlines():\n",
    "     \n",
    "            if line.startswith(\">\"):\n",
    "                \n",
    "                id = line[1:].strip()\n",
    "                idList.append(id)                "
   ]
  },
  {
   "cell_type": "code",
   "execution_count": 3,
   "id": "ff2f61a6",
   "metadata": {},
   "outputs": [
    {
     "data": {
      "text/plain": [
       "19499"
      ]
     },
     "execution_count": 3,
     "metadata": {},
     "output_type": "execute_result"
    }
   ],
   "source": [
    "len(idList)"
   ]
  },
  {
   "cell_type": "code",
   "execution_count": 4,
   "id": "b99b9c66",
   "metadata": {},
   "outputs": [],
   "source": [
    "df=pd.DataFrame(idList)\n",
    "df.to_csv(\"../data/cami/id.csv\", index=False,header = False )"
   ]
  },
  {
   "cell_type": "markdown",
   "id": "c80ab68d",
   "metadata": {},
   "source": [
    "### prepare label"
   ]
  },
  {
   "cell_type": "code",
   "execution_count": 5,
   "id": "75e27f01",
   "metadata": {},
   "outputs": [],
   "source": [
    "labelList=[\"\" for i in range(0,19499)]\n",
    "\n",
    "with open(f'../../data/low/golden_standard.binning') as f:\n",
    "    i=0\n",
    "    for line in f.readlines():\n",
    "        if i<4:\n",
    "            i=i+1\n",
    "            continue\n",
    "            \n",
    "        id = line.split()[0]\n",
    "        label = line.split()[1]\n",
    "\n",
    "        idIdx=idList.index(id)\n",
    "        labelList[idIdx]=label\n",
    "        \n",
    "         \n",
    "        \n",
    "# print(labelNum)\n",
    "    "
   ]
  },
  {
   "cell_type": "code",
   "execution_count": 8,
   "id": "d7849cbc",
   "metadata": {},
   "outputs": [],
   "source": [
    "df=pd.DataFrame(labelList)\n",
    "df.to_csv(\"../data/cami/label.csv\", index=False,header = False )"
   ]
  },
  {
   "cell_type": "code",
   "execution_count": 9,
   "id": "7116bbd1",
   "metadata": {},
   "outputs": [],
   "source": [
    "labelSet=set()\n",
    "for l in labelList:\n",
    "    labelSet.add(l)"
   ]
  },
  {
   "cell_type": "code",
   "execution_count": 10,
   "id": "603a24ec",
   "metadata": {},
   "outputs": [
    {
     "data": {
      "text/plain": [
       "60"
      ]
     },
     "execution_count": 10,
     "metadata": {},
     "output_type": "execute_result"
    }
   ],
   "source": [
    "len(labelSet)  # 60 个 label"
   ]
  },
  {
   "cell_type": "code",
   "execution_count": null,
   "id": "6a917380",
   "metadata": {},
   "outputs": [],
   "source": []
  }
 ],
 "metadata": {
  "kernelspec": {
   "display_name": "Python 3 (ipykernel)",
   "language": "python",
   "name": "python3"
  },
  "language_info": {
   "codemirror_mode": {
    "name": "ipython",
    "version": 3
   },
   "file_extension": ".py",
   "mimetype": "text/x-python",
   "name": "python",
   "nbconvert_exporter": "python",
   "pygments_lexer": "ipython3",
   "version": "3.9.7"
  }
 },
 "nbformat": 4,
 "nbformat_minor": 5
}
