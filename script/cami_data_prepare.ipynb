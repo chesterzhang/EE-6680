{
 "cells": [
  {
   "cell_type": "code",
   "execution_count": 2,
   "id": "8fe6fca3",
   "metadata": {},
   "outputs": [],
   "source": [
    "import numpy as np\n",
    "import pandas as pd\n",
    "\n",
    "import operator\n",
    " \n",
    "from sklearn.cluster import KMeans\n",
    "from sklearn import metrics\n",
    "from sklearn.metrics.cluster import adjusted_rand_score\n",
    "from sklearn.metrics.cluster import normalized_mutual_info_score\n",
    "from sklearn.metrics.cluster import homogeneity_score\n",
    "from sklearn.metrics.cluster import completeness_score"
   ]
  },
  {
   "cell_type": "code",
   "execution_count": 3,
   "id": "2120c61e",
   "metadata": {},
   "outputs": [],
   "source": [
    "def purity_score(y_true, y_pred):\n",
    "    # compute contingency matrix (also called confusion matrix)\n",
    "    contingency_matrix = metrics.cluster.contingency_matrix(y_true, y_pred)\n",
    "    # return purity\n",
    "    return np.sum(np.amax(contingency_matrix, axis=0)) / np.sum(contingency_matrix)"
   ]
  },
  {
   "cell_type": "markdown",
   "id": "12724737",
   "metadata": {},
   "source": [
    "### prepare id"
   ]
  },
  {
   "cell_type": "code",
   "execution_count": 5,
   "id": "23108bde",
   "metadata": {},
   "outputs": [],
   "source": [
    "idList=[]\n",
    "\n",
    "with open(f'../../data/low/cami_low_sequences.fasta') as f:\n",
    " \n",
    "        for line in f.readlines():\n",
    "     \n",
    "            if line.startswith(\">\"):\n",
    "                \n",
    "                id = line[1:].strip()\n",
    "                idList.append(id)                "
   ]
  },
  {
   "cell_type": "code",
   "execution_count": 6,
   "id": "70ed8ce7",
   "metadata": {},
   "outputs": [
    {
     "data": {
      "text/plain": [
       "19499"
      ]
     },
     "execution_count": 6,
     "metadata": {},
     "output_type": "execute_result"
    }
   ],
   "source": [
    "len(idList)"
   ]
  },
  {
   "cell_type": "code",
   "execution_count": 16,
   "id": "f297ee8e",
   "metadata": {},
   "outputs": [],
   "source": [
    "df=pd.DataFrame(idList)\n",
    "df.to_csv(\"../data/cami/id.csv\", index=False,header = False )"
   ]
  },
  {
   "cell_type": "markdown",
   "id": "8a5f8fe5",
   "metadata": {},
   "source": [
    "### prepare label"
   ]
  },
  {
   "cell_type": "code",
   "execution_count": null,
   "id": "23d42957",
   "metadata": {},
   "outputs": [],
   "source": []
  },
  {
   "cell_type": "code",
   "execution_count": 44,
   "id": "82abd1a7",
   "metadata": {},
   "outputs": [],
   "source": [
    "labelList=[\"\" for i in range(0,19499)]\n",
    "\n",
    "with open(f'../../data/low/golden_standard.binning') as f:\n",
    "    i=0\n",
    "    for line in f.readlines():\n",
    "        if i<4:\n",
    "            i=i+1\n",
    "            continue\n",
    "            \n",
    "        id = line.split()[0]\n",
    "        label = line.split()[1]\n",
    "\n",
    "        idIdx=idList.index(id)\n",
    "        labelList[idIdx]=label\n",
    "        \n",
    "         \n",
    "        \n",
    "# print(labelNum)\n",
    "    "
   ]
  },
  {
   "cell_type": "code",
   "execution_count": 45,
   "id": "7eb8664d",
   "metadata": {},
   "outputs": [],
   "source": [
    "df=pd.DataFrame(labelList)\n",
    "df.to_csv(\"../data/cami/label.csv\", index=False,header = False )"
   ]
  },
  {
   "cell_type": "code",
   "execution_count": 48,
   "id": "d69e7ff1",
   "metadata": {},
   "outputs": [],
   "source": [
    "labelSet=set()\n",
    "for l in labelList:\n",
    "    labelSet.add(l)"
   ]
  },
  {
   "cell_type": "code",
   "execution_count": 49,
   "id": "f8240854",
   "metadata": {},
   "outputs": [
    {
     "data": {
      "text/plain": [
       "60"
      ]
     },
     "execution_count": 49,
     "metadata": {},
     "output_type": "execute_result"
    }
   ],
   "source": [
    "len(labelSet)"
   ]
  },
  {
   "cell_type": "code",
   "execution_count": null,
   "id": "95bd8243",
   "metadata": {},
   "outputs": [],
   "source": []
  }
 ],
 "metadata": {
  "kernelspec": {
   "display_name": "Python 3 (ipykernel)",
   "language": "python",
   "name": "python3"
  },
  "language_info": {
   "codemirror_mode": {
    "name": "ipython",
    "version": 3
   },
   "file_extension": ".py",
   "mimetype": "text/x-python",
   "name": "python",
   "nbconvert_exporter": "python",
   "pygments_lexer": "ipython3",
   "version": "3.9.7"
  }
 },
 "nbformat": 4,
 "nbformat_minor": 5
}
