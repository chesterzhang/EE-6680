{
 "cells": [
  {
   "cell_type": "code",
   "execution_count": 65,
   "id": "84ca13cb",
   "metadata": {},
   "outputs": [],
   "source": [
    "import itertools\n",
    "import os\n",
    "import os.path as osp\n",
    "import pickle\n",
    "import urllib\n",
    "from collections import namedtuple\n",
    "\n",
    "import numpy as np\n",
    "import scipy.sparse as sp\n",
    "import torch\n",
    "import torch.nn as nn\n",
    "import torch.nn.functional as F\n",
    "import torch.nn.init as init\n",
    "import torch.optim as optim\n",
    "import matplotlib.pyplot as plt\n",
    "from torch.nn import Linear \n",
    "\n",
    "from matplotlib.ticker import MultipleLocator, FormatStrFormatter\n",
    "import pandas as pd\n",
    "from sklearn.cluster import KMeans\n",
    "from sklearn import metrics\n",
    "from sklearn.metrics.cluster import adjusted_rand_score\n",
    "from sklearn.metrics.cluster import normalized_mutual_info_score\n",
    "# import random\n",
    "from scipy.stats import hypergeom\n",
    "\n",
    "%matplotlib inline\n"
   ]
  },
  {
   "cell_type": "code",
   "execution_count": 66,
   "id": "be95c63c",
   "metadata": {},
   "outputs": [],
   "source": [
    "def tensor_from_numpy(x, device):\n",
    "    return torch.from_numpy(x).to(device)\n",
    "\n",
    "def plot_loss_with_acc(loss_history, val_acc_history):\n",
    "    fig = plt.figure()\n",
    "    ax1 = fig.add_subplot(111)\n",
    "    ax1.plot(range(len(loss_history)), loss_history,\n",
    "             c=np.array([255, 71, 90]) / 255.)\n",
    "    plt.ylabel('Loss')\n",
    "    plt.xlabel('Epoch')\n",
    "    plt.title('Training Loss ')\n",
    "    plt.show() "
   ]
  },
  {
   "cell_type": "code",
   "execution_count": 67,
   "id": "afb24943",
   "metadata": {},
   "outputs": [],
   "source": [
    "class HalfAutoEncoder(nn.Module):\n",
    "    def __init__(self,linear4,linear5,linear6 ):\n",
    "        super(HalfAutoEncoder,self).__init__()\n",
    "        \n",
    "        self.linear4= linear4\n",
    "        self.linear5= linear5\n",
    "        self.linear6= linear6\n",
    "         \n",
    "        self.bn4 = nn.BatchNorm1d(num_features=512)\n",
    "        self.bn5 = nn.BatchNorm1d(num_features=512)\n",
    "        \n",
    "    \n",
    "    def forward(self, h3):\n",
    "        self.h4  = F.relu(self.linear4(h3))\n",
    "        self.h4 = self.bn4(self.h4)\n",
    "        \n",
    "        self.h5  = F.relu(self.linear5(self.h4))\n",
    "        self.h5 = self.bn5(self.h5)\n",
    "        \n",
    "        self.h6  = self.linear6(self.h5)\n",
    "\n",
    "        return  self.h6\n",
    "\n",
    "\n",
    "#我自己的自监督\n",
    "# class HalfAutoEncoder(nn.Module):\n",
    "#     def __init__(self,linear4,linear5,linear6 ):\n",
    "#         super(HalfAutoEncoder,self).__init__()\n",
    "         \n",
    "#         self.linear4= linear4\n",
    "#         self.linear5= linear5\n",
    "#         self.linear6= linear6\n",
    " \n",
    "    \n",
    "#     def forward(self, h3):\n",
    "#         self.h4  = F.relu(self.linear4( h3))\n",
    "#         self.h4 = F.normalize(self.h4)\n",
    "        \n",
    "#         self.h5  = F.sigmoid(self.linear5( self.h4))\n",
    "#         self.h5 = F.normalize(self.h5)\n",
    "        \n",
    "#         self.h6  =  self.linear6(self.h5) \n",
    "  \n",
    "\n",
    "#         return  self.h6"
   ]
  },
  {
   "cell_type": "code",
   "execution_count": 68,
   "id": "bac26805",
   "metadata": {},
   "outputs": [],
   "source": [
    "# 超参数定义\n",
    "\n",
    "DEVICE = \"cuda\" if torch.cuda.is_available() else \"cpu\""
   ]
  },
  {
   "cell_type": "code",
   "execution_count": 72,
   "id": "249b4d17",
   "metadata": {},
   "outputs": [
    {
     "data": {
      "text/plain": [
       "torch.Size([850, 135])"
      ]
     },
     "execution_count": 72,
     "metadata": {},
     "output_type": "execute_result"
    }
   ],
   "source": [
    "feature_np = np.load(\"../model/feacture_np.npy\")\n",
    " \n",
    "tensor_x = tensor_from_numpy(feature_np , DEVICE)\n",
    "\n",
    "model = torch.load( '../model/half_auto_encoder.pt', map_location=torch.device('cpu'))\n",
    "\n",
    "labelList=pd.read_csv('../data/label.csv',header=None)[1]\n",
    "for i in range(0,len(labelList)):\n",
    "    labelList[i]+=1\n",
    "   \n",
    "tensor_y = tensor_from_numpy(np.load(\"../model/rec_X.npy\"), DEVICE)\n",
    "tensor_y.shape"
   ]
  },
  {
   "cell_type": "code",
   "execution_count": 73,
   "id": "e21504e4",
   "metadata": {},
   "outputs": [],
   "source": [
    "class ZeroOneEncoder():\n",
    "    def __init__(self,model,tensor_x, tensor_y):\n",
    "        self.model=model\n",
    "        self.tensor_x=tensor_x\n",
    "        self.tensor_mask=tensor_x\n",
    "        self.tensor_y=tensor_y\n",
    "        self.zero_one_feature=np.zeros(shape=tensor_x.shape)\n",
    "        self.tensor_train_mask=[False  for i in range(0,850)]\n",
    "        self.criterion=nn.MSELoss(reduction='mean')\n",
    "    \n",
    "    def run(self):\n",
    "        for i in range(0,tensor_x.shape[0]):\n",
    "#         for i in range(0,200):\n",
    "            \n",
    "            self.tensor_train_mask[i]=True # 一次只取一条数据出来计算loss\n",
    "            \n",
    "          \n",
    "            # 对每一条数据的特征一个个进行mask,看看哪个特征被mask以后引起loss剧烈变化,就置为1, 否则置为0\n",
    "            loss_hist=[]\n",
    "            for j in range(0,self.tensor_x.shape[1]):\n",
    "                 \n",
    "                self.tensor_mask[i][j]=0 #对第i条数据的第j 个特征进行 mask\n",
    "                logits = self.model(self.tensor_mask)  # 前向传播\n",
    "                train_mask_logits = logits[self.tensor_train_mask]   # 只选择训练节点进行监督\n",
    "                mask_loss = self.criterion(train_mask_logits, tensor_y[self.tensor_train_mask])   #计算每一条数据的loss\n",
    " \n",
    "\n",
    "                if mask_loss.item() > 0.15:\n",
    "                    self.zero_one_feature[i][j]=1\n",
    "    \n",
    "                self.tensor_mask[i][j]=self.tensor_x[i][j] #把被mask的地方还原回来\n",
    " \n",
    "                    \n",
    "            self.tensor_train_mask[i]=False\n",
    "\n",
    "            \n",
    "        return self.zero_one_feature\n",
    "    "
   ]
  },
  {
   "cell_type": "code",
   "execution_count": 74,
   "id": "df9b3349",
   "metadata": {},
   "outputs": [],
   "source": [
    "zero_one_encoder=ZeroOneEncoder(model,tensor_x, tensor_y)\n",
    "zero_one_feature=zero_one_encoder.run()"
   ]
  },
  {
   "cell_type": "code",
   "execution_count": 49,
   "id": "3aaefd3b",
   "metadata": {},
   "outputs": [],
   "source": [
    "np.save(\"../model/zero_one_feature.npy\",zero_one_feature )"
   ]
  },
  {
   "cell_type": "code",
   "execution_count": 50,
   "id": "42786208",
   "metadata": {},
   "outputs": [],
   "source": [
    "def plo_ones_feature(labelList, label,zero_one_feature):\n",
    "    idx = np.where(np.array(labelList)==label)\n",
    "    print(idx)\n",
    "    plot_x=[i for i in range(0,zero_one_feature.shape[1])]\n",
    "    plot_y=[0 for i in range(0,zero_one_feature.shape[1])]\n",
    "    \n",
    "    for i in idx[0]:\n",
    "        feature= zero_one_feature[i]\n",
    "        for j in range(0, feature.shape[0]):\n",
    "            if feature[j]==1:\n",
    "                plot_y[j]+=1\n",
    "    \n",
    "    fig = plt.figure()\n",
    "    ax1 = fig.add_subplot(111)\n",
    "    ax1.plot(plot_x, plot_y )\n",
    "    plt.ylabel('x')\n",
    "    plt.xlabel('y')\n",
    "\n",
    "    plt.show() "
   ]
  },
  {
   "cell_type": "code",
   "execution_count": 75,
   "id": "870555d4",
   "metadata": {},
   "outputs": [
    {
     "name": "stdout",
     "output_type": "stream",
     "text": [
      "(array([ 46,  64,  75,  81,  86,  93, 103, 104, 106, 127, 130, 132, 134,\n",
      "       140, 146, 160, 161, 162, 171, 175, 176, 178, 188, 194, 195, 201,\n",
      "       204, 224, 229, 233, 240, 250, 255, 273, 281, 282, 284, 294, 296,\n",
      "       297, 301, 302, 304, 313, 314, 327, 339, 352, 355, 359, 364, 386,\n",
      "       388, 392, 393, 404, 406, 409, 415, 437, 445, 449, 468, 471, 477,\n",
      "       499, 516, 520, 532, 534, 539, 544, 545, 557, 560, 566, 598, 619,\n",
      "       630, 634, 637, 648, 650, 654, 660, 671, 673, 679, 691, 706, 710,\n",
      "       739, 747, 759, 762, 779, 828, 836, 840, 845, 847, 848, 849],\n",
      "      dtype=int64),)\n"
     ]
    },
    {
     "data": {
      "image/png": "[encoded data removed]",
      "text/plain": [
       "<Figure size 432x288 with 1 Axes>"
      ]
     },
     "metadata": {
      "needs_background": "light"
     },
     "output_type": "display_data"
    }
   ],
   "source": [
    "plo_ones_feature(labelList,0,zero_one_feature)"
   ]
  },
  {
   "cell_type": "code",
   "execution_count": 76,
   "id": "7dac18da",
   "metadata": {},
   "outputs": [
    {
     "name": "stdout",
     "output_type": "stream",
     "text": [
      "(array([  0,  26,  30,  32,  39,  40,  49,  53,  70,  72,  92, 101, 105,\n",
      "       118, 121, 144, 149, 179, 186, 198, 203, 207, 208, 210, 212, 244,\n",
      "       245, 247, 254, 265, 269, 309, 326, 338, 351, 365, 377, 381, 419,\n",
      "       426, 428, 441, 442, 452, 458, 461, 474, 481, 484, 512, 521, 522,\n",
      "       527, 533, 535, 541, 554, 555, 565, 568, 574, 585, 593, 597, 599,\n",
      "       629, 632, 641, 643, 647, 653, 662, 674, 688, 689, 693, 699, 700,\n",
      "       702, 713, 715, 728, 738, 742, 745, 754, 755, 775, 794, 807, 812,\n",
      "       825], dtype=int64),)\n"
     ]
    },
    {
     "data": {
      "image/png": "[encoded data removed]",
      "text/plain": [
       "<Figure size 432x288 with 1 Axes>"
      ]
     },
     "metadata": {
      "needs_background": "light"
     },
     "output_type": "display_data"
    }
   ],
   "source": [
    "plo_ones_feature(labelList,1,zero_one_feature)"
   ]
  },
  {
   "cell_type": "code",
   "execution_count": 77,
   "id": "08db8626",
   "metadata": {},
   "outputs": [
    {
     "name": "stdout",
     "output_type": "stream",
     "text": [
      "(array([  1,   5,   7,   8,  12,  15,  16,  18,  22,  23,  25,  28,  29,\n",
      "        36,  43,  44,  47,  54,  56,  65,  76,  83,  85,  91,  96, 107,\n",
      "       110, 113, 114, 122, 126, 131, 136, 143, 145, 147, 151, 152, 153,\n",
      "       154, 156, 163, 177, 184, 185, 187, 189, 193, 202, 211, 216, 236,\n",
      "       243, 253, 257, 263, 264, 271, 274, 275, 276, 292, 293, 295, 299,\n",
      "       307, 312, 325, 331, 342, 347, 348, 349, 367, 371, 372, 375, 378,\n",
      "       379, 383, 395, 396, 405, 410, 411, 417, 422, 431, 436, 450, 453,\n",
      "       460, 464, 467, 472, 479, 496, 497, 502, 503, 507, 509, 513, 524,\n",
      "       529, 530, 537, 542, 547, 552, 556, 562, 596, 600, 609, 610, 613,\n",
      "       617, 624, 628, 633, 635, 652, 656, 659, 683, 697, 712, 719, 735,\n",
      "       741, 744, 751, 752, 761, 763, 772, 782, 788, 789, 792, 803, 808,\n",
      "       810, 814, 815, 822, 833, 834, 843], dtype=int64),)\n"
     ]
    },
    {
     "data": {
      "image/png": "[encoded data removed]",
      "text/plain": [
       "<Figure size 432x288 with 1 Axes>"
      ]
     },
     "metadata": {
      "needs_background": "light"
     },
     "output_type": "display_data"
    }
   ],
   "source": [
    "plo_ones_feature(labelList,2,zero_one_feature)"
   ]
  },
  {
   "cell_type": "code",
   "execution_count": 78,
   "id": "e396e3ae",
   "metadata": {},
   "outputs": [
    {
     "name": "stdout",
     "output_type": "stream",
     "text": [
      "(array([ 33,  37,  52, 100, 112, 133, 150, 200, 227, 228, 242, 249, 268,\n",
      "       285, 290, 291, 305, 311, 344, 353, 361, 368, 374, 403, 423, 430,\n",
      "       451, 457, 480, 518, 525, 549, 558, 564, 575, 589, 594, 611, 620,\n",
      "       649, 704, 711, 722, 727, 737, 746, 780, 832], dtype=int64),)\n"
     ]
    },
    {
     "data": {
      "image/png": "[encoded data removed]",
      "text/plain": [
       "<Figure size 432x288 with 1 Axes>"
      ]
     },
     "metadata": {
      "needs_background": "light"
     },
     "output_type": "display_data"
    }
   ],
   "source": [
    "plo_ones_feature(labelList,3,zero_one_feature)"
   ]
  },
  {
   "cell_type": "code",
   "execution_count": 79,
   "id": "eaaddacb",
   "metadata": {},
   "outputs": [
    {
     "name": "stdout",
     "output_type": "stream",
     "text": [
      "(array([  2,   3,  27,  31,  45,  51,  62,  67,  87,  97,  99, 138, 142,\n",
      "       164, 165, 170, 172, 173, 191, 213, 214, 226, 238, 267, 278, 286,\n",
      "       303, 306, 317, 319, 323, 334, 362, 376, 399, 416, 420, 427, 429,\n",
      "       454, 459, 465, 466, 469, 501, 504, 528, 538, 546, 551, 563, 578,\n",
      "       580, 591, 592, 601, 631, 638, 644, 658, 678, 682, 685, 690, 707,\n",
      "       725, 729, 750, 758, 784, 785, 797, 799, 802, 811, 820, 823, 829,\n",
      "       837, 844], dtype=int64),)\n"
     ]
    },
    {
     "data": {
      "image/png": "[encoded data removed]",
      "text/plain": [
       "<Figure size 432x288 with 1 Axes>"
      ]
     },
     "metadata": {
      "needs_background": "light"
     },
     "output_type": "display_data"
    }
   ],
   "source": [
    "plo_ones_feature(labelList,4,zero_one_feature)"
   ]
  },
  {
   "cell_type": "code",
   "execution_count": 83,
   "id": "74aee2c0",
   "metadata": {},
   "outputs": [
    {
     "name": "stdout",
     "output_type": "stream",
     "text": [
      "(array([  9,  24,  42,  58,  59,  68,  74,  77,  82,  88,  98, 111, 148,\n",
      "       155, 168, 192, 209, 218, 221, 234, 235, 237, 248, 258, 259, 266,\n",
      "       270, 283, 308, 318, 324, 328, 332, 340, 345, 358, 363, 380, 401,\n",
      "       402, 412, 440, 456, 486, 488, 491, 492, 498, 500, 505, 510, 526,\n",
      "       540, 569, 572, 579, 582, 587, 603, 606, 612, 627, 639, 651, 657,\n",
      "       661, 666, 669, 684, 714, 730, 748, 773, 776, 777, 783, 786, 800,\n",
      "       819, 821, 830, 839, 842], dtype=int64),)\n"
     ]
    },
    {
     "data": {
      "image/png": "[encoded data removed]",
      "text/plain": [
       "<Figure size 432x288 with 1 Axes>"
      ]
     },
     "metadata": {
      "needs_background": "light"
     },
     "output_type": "display_data"
    }
   ],
   "source": [
    "plo_ones_feature(labelList,7,zero_one_feature)"
   ]
  },
  {
   "cell_type": "code",
   "execution_count": 64,
   "id": "f1ba7447",
   "metadata": {},
   "outputs": [],
   "source": [
    "zero_one_feature = np.load(\"../model/zero_one_feature.npy\")\n"
   ]
  },
  {
   "cell_type": "code",
   "execution_count": 42,
   "id": "e33d49a5",
   "metadata": {},
   "outputs": [
    {
     "name": "stdout",
     "output_type": "stream",
     "text": [
      "purity :  0.385\n"
     ]
    }
   ],
   "source": [
    "feature_np=zero_one_feature[0:200]\n",
    "# feature_np/=feature_np.sum(1, keepdims=True)\n",
    "kmeans = KMeans(n_clusters=12,init='k-means++').fit(feature_np)\n",
    "def purity_score(y_true, y_pred):\n",
    "    # compute contingency matrix (also called confusion matrix)\n",
    "    contingency_matrix = metrics.cluster.contingency_matrix(y_true, y_pred)\n",
    "    # return purity\n",
    "    return np.sum(np.amax(contingency_matrix, axis=0)) / np.sum(contingency_matrix)\n",
    "\n",
    "print('purity : ',purity_score(labelList[0:200],kmeans.labels_ ))\n",
    "# print('ARI : ',adjusted_rand_score(labelList,kmeans.labels_))\n",
    "# print('NMI : ',normalized_mutual_info_score(labelList,kmeans.labels_ ))"
   ]
  },
  {
   "cell_type": "code",
   "execution_count": 43,
   "id": "1139a26f",
   "metadata": {},
   "outputs": [
    {
     "name": "stderr",
     "output_type": "stream",
     "text": [
      "100%|████████████████████████████████████████████████████████████████████████| 360825/360825 [00:55<00:00, 6558.44it/s]\n"
     ]
    }
   ],
   "source": [
    "import scipy.stats as stats\n",
    "from tqdm import tqdm\n",
    "\n",
    "# 利用 超几何分布的 生存函数计算 相似度\n",
    "\n",
    "num_pairs = int(zero_one_feature.shape[0]*(zero_one_feature.shape[0]-1)/2)\n",
    "\n",
    "\n",
    "ab_vec = np.zeros((zero_one_feature.shape[0],  ))  #记录特征为1 的个数\n",
    "activate_dict = {}# 储存为 特征矩阵 为1 的索引\n",
    " \n",
    "for i in range(zero_one_feature.shape[0]):\n",
    "    ab_vec[i] = np.sum(zero_one_feature[i])\n",
    "    activate_dict[i] = np.where(zero_one_feature[i] == 1)\n",
    " \n",
    "\n",
    "e = np.log10(num_pairs)\n",
    "\n",
    "\n",
    "abc_dict = {}\n",
    "def sf(a, b, c):\n",
    "    key = (a, b, c)\n",
    "    if not key in abc_dict:\n",
    "        val = -np.log10(stats.hypergeom.sf(c - 1, zero_one_feature.shape[1], a, b)) - e\n",
    " \n",
    "#         val = stats.hypergeom.pmf(c , zero_one_feature.shape[1], a, b)\n",
    " \n",
    "        abc_dict[key] = val\n",
    "        abc_dict[(b, a, c)] = val\n",
    "    else:\n",
    "        val = abc_dict[key]\n",
    "    return val\n",
    "\n",
    "np_adj=np.zeros(shape=[zero_one_feature.shape[0],zero_one_feature.shape[0]])\n",
    "\n",
    "with tqdm(total=num_pairs) as pbar:\n",
    "    for i in range(zero_one_feature.shape[0]):\n",
    "        for j in range(i+1, zero_one_feature.shape[0]):\n",
    "            pbar.update(1)\n",
    "            a = ab_vec[i]#为1 的个数\n",
    "            b = ab_vec[j]#为1 的个数\n",
    "            c = np.intersect1d(activate_dict[i], activate_dict[j]).shape[0] # 都为1 的索引相同的个数\n",
    "\n",
    "            similar= stats.hypergeom.pmf(c , zero_one_feature.shape[1], a, b)\n",
    "#             similar= sf(a,b,c)\n",
    "#             if similar>0:\n",
    "            np_adj[i][j]=similar\n",
    "\n",
    " \n",
    "    "
   ]
  },
  {
   "cell_type": "code",
   "execution_count": 44,
   "id": "dff5c4c8",
   "metadata": {},
   "outputs": [],
   "source": [
    "for i in range(1,zero_one_feature.shape[0]):\n",
    "    for j in range(0,i):\n",
    "\n",
    "        np_adj[i][j]=np_adj[j][i]"
   ]
  },
  {
   "cell_type": "code",
   "execution_count": 46,
   "id": "d212b295",
   "metadata": {},
   "outputs": [
    {
     "data": {
      "text/plain": [
       "array([0.        , 0.41785714, 0.51071429, 0.51071429, 0.41785714,\n",
       "       0.41785714, 0.51071429, 0.51071429, 0.51071429, 0.51071429,\n",
       "       0.41785714, 0.51071429, 0.51071429, 0.51071429, 0.51071429,\n",
       "       0.51071429, 0.51071429, 0.41785714, 0.51071429, 0.51071429,\n",
       "       0.41785714, 0.51071429, 0.51071429, 0.51071429, 0.51071429,\n",
       "       0.51071429, 0.51071429, 0.51071429, 0.51071429, 0.41785714,\n",
       "       0.51071429, 0.51071429, 0.51071429, 0.51071429, 0.41785714,\n",
       "       0.41785714, 0.51071429, 0.51071429, 0.41785714, 0.51071429,\n",
       "       0.51071429, 0.51071429, 0.51071429, 0.41785714, 0.51071429,\n",
       "       0.51071429, 0.41785714, 0.51071429, 0.51071429, 0.06964286,\n",
       "       0.51071429, 0.51071429, 0.51071429, 0.51071429, 0.51071429,\n",
       "       0.41785714, 0.51071429, 0.51071429, 0.51071429, 0.51071429,\n",
       "       0.51071429, 0.06964286, 0.51071429, 0.51071429, 0.41785714,\n",
       "       0.51071429, 0.51071429, 0.51071429, 0.51071429, 0.51071429,\n",
       "       0.51071429, 0.41785714, 0.51071429, 0.51071429, 0.41785714,\n",
       "       0.51071429, 0.51071429, 0.51071429, 0.51071429, 0.51071429,\n",
       "       0.41785714, 0.41785714, 0.51071429, 0.51071429, 0.51071429,\n",
       "       0.41785714, 0.51071429, 0.51071429, 0.51071429, 0.51071429,\n",
       "       0.41785714, 0.51071429, 0.51071429, 0.51071429, 0.51071429,\n",
       "       0.41785714, 0.51071429, 0.51071429, 0.51071429, 0.51071429,\n",
       "       0.41785714, 0.06964286, 0.41785714, 0.51071429, 0.51071429,\n",
       "       0.41785714, 0.51071429, 0.51071429, 0.41785714, 0.41785714,\n",
       "       0.41785714, 0.51071429, 0.51071429, 0.51071429, 0.41785714,\n",
       "       0.51071429, 0.51071429, 0.41785714, 0.51071429, 0.41785714,\n",
       "       0.51071429, 0.51071429, 0.51071429, 0.51071429, 0.51071429,\n",
       "       0.41785714, 0.51071429, 0.51071429, 0.41785714, 0.51071429,\n",
       "       0.51071429, 0.51071429, 0.41785714, 0.51071429, 0.41785714,\n",
       "       0.51071429, 0.41785714, 0.51071429, 0.51071429, 0.41785714,\n",
       "       0.51071429, 0.51071429, 0.51071429, 0.51071429, 0.06964286,\n",
       "       0.51071429, 0.41785714, 0.51071429, 0.51071429, 0.51071429,\n",
       "       0.51071429, 0.41785714, 0.41785714, 0.41785714, 0.41785714,\n",
       "       0.51071429, 0.41785714, 0.06964286, 0.51071429, 0.41785714,\n",
       "       0.06964286, 0.51071429, 0.06964286, 0.51071429, 0.51071429,\n",
       "       0.41785714, 0.51071429, 0.00178571, 0.51071429, 0.06964286,\n",
       "       0.51071429, 0.00178571, 0.51071429, 0.51071429, 0.51071429,\n",
       "       0.00178571, 0.41785714, 0.41785714, 0.41785714, 0.41785714,\n",
       "       0.41785714, 0.06964286, 0.41785714, 0.41785714, 0.41785714,\n",
       "       0.41785714, 0.00178571, 0.51071429, 0.51071429, 0.51071429,\n",
       "       0.41785714, 0.51071429, 0.41785714, 0.41785714, 0.51071429,\n",
       "       0.06964286, 0.41785714, 0.51071429, 0.06964286, 0.41785714,\n",
       "       0.51071429, 0.06964286, 0.51071429, 0.00178571, 0.06964286,\n",
       "       0.41785714, 0.51071429, 0.00178571, 0.06964286, 0.41785714,\n",
       "       0.06964286, 0.41785714, 0.00178571, 0.51071429, 0.41785714,\n",
       "       0.41785714, 0.41785714, 0.41785714, 0.51071429, 0.51071429,\n",
       "       0.06964286, 0.51071429, 0.41785714, 0.51071429, 0.41785714,\n",
       "       0.06964286, 0.51071429, 0.41785714, 0.51071429, 0.51071429,\n",
       "       0.41785714, 0.06964286, 0.51071429, 0.00178571, 0.51071429,\n",
       "       0.51071429, 0.41785714, 0.51071429, 0.51071429, 0.06964286,\n",
       "       0.00178571, 0.41785714, 0.51071429, 0.51071429, 0.00178571,\n",
       "       0.41785714, 0.06964286, 0.00178571, 0.41785714, 0.41785714,\n",
       "       0.41785714, 0.51071429, 0.41785714, 0.41785714, 0.00178571,\n",
       "       0.51071429, 0.41785714, 0.41785714, 0.51071429, 0.41785714,\n",
       "       0.41785714, 0.51071429, 0.41785714, 0.51071429, 0.51071429,\n",
       "       0.00178571, 0.51071429, 0.51071429, 0.41785714, 0.41785714,\n",
       "       0.51071429, 0.51071429, 0.41785714, 0.41785714, 0.41785714,\n",
       "       0.41785714, 0.51071429, 0.51071429, 0.06964286, 0.41785714,\n",
       "       0.51071429, 0.06964286, 0.41785714, 0.41785714, 0.41785714,\n",
       "       0.41785714, 0.41785714, 0.51071429, 0.51071429, 0.51071429,\n",
       "       0.51071429, 0.06964286, 0.51071429, 0.41785714, 0.41785714,\n",
       "       0.51071429, 0.41785714, 0.06964286, 0.06964286, 0.41785714,\n",
       "       0.06964286, 0.41785714, 0.41785714, 0.51071429, 0.41785714,\n",
       "       0.06964286, 0.41785714, 0.51071429, 0.51071429, 0.41785714,\n",
       "       0.51071429, 0.51071429, 0.51071429, 0.41785714, 0.06964286,\n",
       "       0.51071429, 0.41785714, 0.41785714, 0.51071429, 0.51071429,\n",
       "       0.51071429, 0.51071429, 0.41785714, 0.51071429, 0.41785714,\n",
       "       0.41785714, 0.06964286, 0.51071429, 0.06964286, 0.06964286,\n",
       "       0.41785714, 0.41785714, 0.51071429, 0.41785714, 0.51071429,\n",
       "       0.41785714, 0.06964286, 0.41785714, 0.41785714, 0.06964286,\n",
       "       0.51071429, 0.41785714, 0.41785714, 0.06964286, 0.51071429,\n",
       "       0.51071429, 0.06964286, 0.51071429, 0.41785714, 0.51071429,\n",
       "       0.41785714, 0.06964286, 0.51071429, 0.51071429, 0.41785714,\n",
       "       0.06964286, 0.06964286, 0.51071429, 0.41785714, 0.41785714,\n",
       "       0.41785714, 0.51071429, 0.51071429, 0.51071429, 0.06964286,\n",
       "       0.06964286, 0.06964286, 0.51071429, 0.51071429, 0.41785714,\n",
       "       0.41785714, 0.41785714, 0.41785714, 0.51071429, 0.51071429,\n",
       "       0.51071429, 0.41785714, 0.41785714, 0.41785714, 0.41785714,\n",
       "       0.41785714, 0.41785714, 0.51071429, 0.51071429, 0.51071429,\n",
       "       0.41785714, 0.06964286, 0.51071429, 0.06964286, 0.51071429,\n",
       "       0.06964286, 0.51071429, 0.06964286, 0.51071429, 0.06964286,\n",
       "       0.51071429, 0.51071429, 0.41785714, 0.41785714, 0.41785714,\n",
       "       0.51071429, 0.41785714, 0.41785714, 0.51071429, 0.06964286,\n",
       "       0.51071429, 0.51071429, 0.06964286, 0.41785714, 0.41785714,\n",
       "       0.51071429, 0.51071429, 0.51071429, 0.06964286, 0.51071429,\n",
       "       0.51071429, 0.51071429, 0.41785714, 0.41785714, 0.41785714,\n",
       "       0.51071429, 0.41785714, 0.51071429, 0.51071429, 0.51071429,\n",
       "       0.41785714, 0.06964286, 0.51071429, 0.41785714, 0.41785714,\n",
       "       0.41785714, 0.51071429, 0.51071429, 0.06964286, 0.06964286,\n",
       "       0.41785714, 0.51071429, 0.51071429, 0.51071429, 0.51071429,\n",
       "       0.06964286, 0.41785714, 0.06964286, 0.51071429, 0.06964286,\n",
       "       0.06964286, 0.51071429, 0.51071429, 0.41785714, 0.06964286,\n",
       "       0.41785714, 0.51071429, 0.06964286, 0.51071429, 0.41785714,\n",
       "       0.06964286, 0.06964286, 0.41785714, 0.41785714, 0.51071429,\n",
       "       0.51071429, 0.41785714, 0.51071429, 0.06964286, 0.41785714,\n",
       "       0.06964286, 0.51071429, 0.41785714, 0.51071429, 0.51071429,\n",
       "       0.41785714, 0.06964286, 0.41785714, 0.41785714, 0.06964286,\n",
       "       0.51071429, 0.06964286, 0.41785714, 0.06964286, 0.51071429,\n",
       "       0.41785714, 0.06964286, 0.41785714, 0.41785714, 0.06964286,\n",
       "       0.06964286, 0.51071429, 0.41785714, 0.41785714, 0.06964286,\n",
       "       0.06964286, 0.51071429, 0.51071429, 0.06964286, 0.51071429,\n",
       "       0.41785714, 0.51071429, 0.41785714, 0.51071429, 0.06964286,\n",
       "       0.41785714, 0.41785714, 0.41785714, 0.51071429, 0.51071429,\n",
       "       0.41785714, 0.41785714, 0.41785714, 0.51071429, 0.41785714,\n",
       "       0.41785714, 0.51071429, 0.06964286, 0.51071429, 0.41785714,\n",
       "       0.51071429, 0.06964286, 0.06964286, 0.41785714, 0.06964286,\n",
       "       0.41785714, 0.41785714, 0.41785714, 0.06964286, 0.51071429,\n",
       "       0.41785714, 0.41785714, 0.06964286, 0.51071429, 0.51071429,\n",
       "       0.41785714, 0.06964286, 0.51071429, 0.51071429, 0.51071429,\n",
       "       0.51071429, 0.51071429, 0.41785714, 0.51071429, 0.06964286,\n",
       "       0.51071429, 0.06964286, 0.51071429, 0.51071429, 0.51071429,\n",
       "       0.06964286, 0.51071429, 0.51071429, 0.06964286, 0.51071429,\n",
       "       0.51071429, 0.51071429, 0.41785714, 0.51071429, 0.06964286,\n",
       "       0.06964286, 0.41785714, 0.41785714, 0.51071429, 0.41785714,\n",
       "       0.41785714, 0.41785714, 0.51071429, 0.51071429, 0.51071429,\n",
       "       0.41785714, 0.51071429, 0.06964286, 0.51071429, 0.06964286,\n",
       "       0.06964286, 0.51071429, 0.51071429, 0.41785714, 0.06964286,\n",
       "       0.41785714, 0.51071429, 0.51071429, 0.41785714, 0.41785714,\n",
       "       0.51071429, 0.41785714, 0.41785714, 0.51071429, 0.51071429,\n",
       "       0.06964286, 0.51071429, 0.41785714, 0.51071429, 0.51071429,\n",
       "       0.51071429, 0.41785714, 0.51071429, 0.41785714, 0.51071429,\n",
       "       0.51071429, 0.41785714, 0.41785714, 0.41785714, 0.41785714,\n",
       "       0.41785714, 0.51071429, 0.51071429, 0.51071429, 0.51071429,\n",
       "       0.41785714, 0.51071429, 0.51071429, 0.51071429, 0.51071429,\n",
       "       0.41785714, 0.51071429, 0.51071429, 0.51071429, 0.41785714,\n",
       "       0.51071429, 0.41785714, 0.51071429, 0.51071429, 0.51071429,\n",
       "       0.41785714, 0.51071429, 0.41785714, 0.51071429, 0.51071429,\n",
       "       0.51071429, 0.41785714, 0.41785714, 0.51071429, 0.41785714,\n",
       "       0.51071429, 0.51071429, 0.41785714, 0.51071429, 0.51071429,\n",
       "       0.41785714, 0.41785714, 0.41785714, 0.51071429, 0.41785714,\n",
       "       0.51071429, 0.51071429, 0.41785714, 0.51071429, 0.41785714,\n",
       "       0.51071429, 0.41785714, 0.51071429, 0.41785714, 0.41785714,\n",
       "       0.51071429, 0.51071429, 0.41785714, 0.51071429, 0.41785714,\n",
       "       0.51071429, 0.41785714, 0.41785714, 0.51071429, 0.51071429,\n",
       "       0.51071429, 0.41785714, 0.51071429, 0.41785714, 0.41785714,\n",
       "       0.41785714, 0.41785714, 0.51071429, 0.41785714, 0.41785714,\n",
       "       0.51071429, 0.06964286, 0.51071429, 0.41785714, 0.51071429,\n",
       "       0.41785714, 0.51071429, 0.51071429, 0.51071429, 0.51071429,\n",
       "       0.51071429, 0.51071429, 0.51071429, 0.41785714, 0.41785714,\n",
       "       0.51071429, 0.51071429, 0.51071429, 0.41785714, 0.51071429,\n",
       "       0.51071429, 0.51071429, 0.06964286, 0.51071429, 0.51071429,\n",
       "       0.51071429, 0.51071429, 0.06964286, 0.51071429, 0.51071429,\n",
       "       0.51071429, 0.51071429, 0.51071429, 0.51071429, 0.51071429,\n",
       "       0.41785714, 0.51071429, 0.41785714, 0.51071429, 0.06964286,\n",
       "       0.51071429, 0.51071429, 0.41785714, 0.51071429, 0.41785714,\n",
       "       0.51071429, 0.41785714, 0.51071429, 0.41785714, 0.51071429,\n",
       "       0.51071429, 0.51071429, 0.41785714, 0.51071429, 0.41785714,\n",
       "       0.41785714, 0.41785714, 0.51071429, 0.51071429, 0.41785714,\n",
       "       0.51071429, 0.41785714, 0.41785714, 0.51071429, 0.41785714,\n",
       "       0.41785714, 0.51071429, 0.41785714, 0.51071429, 0.51071429,\n",
       "       0.41785714, 0.51071429, 0.51071429, 0.51071429, 0.51071429,\n",
       "       0.51071429, 0.51071429, 0.41785714, 0.51071429, 0.41785714,\n",
       "       0.51071429, 0.41785714, 0.41785714, 0.51071429, 0.51071429,\n",
       "       0.51071429, 0.51071429, 0.41785714, 0.51071429, 0.51071429,\n",
       "       0.51071429, 0.51071429, 0.06964286, 0.51071429, 0.41785714,\n",
       "       0.06964286, 0.41785714, 0.51071429, 0.41785714, 0.51071429,\n",
       "       0.51071429, 0.41785714, 0.51071429, 0.41785714, 0.51071429,\n",
       "       0.51071429, 0.41785714, 0.41785714, 0.51071429, 0.06964286,\n",
       "       0.51071429, 0.41785714, 0.51071429, 0.41785714, 0.41785714,\n",
       "       0.51071429, 0.41785714, 0.51071429, 0.51071429, 0.51071429,\n",
       "       0.51071429, 0.51071429, 0.41785714, 0.51071429, 0.51071429,\n",
       "       0.51071429, 0.51071429, 0.41785714, 0.51071429, 0.51071429,\n",
       "       0.41785714, 0.51071429, 0.41785714, 0.51071429, 0.51071429,\n",
       "       0.51071429, 0.51071429, 0.51071429, 0.51071429, 0.51071429,\n",
       "       0.51071429, 0.51071429, 0.51071429, 0.51071429, 0.41785714,\n",
       "       0.41785714, 0.51071429, 0.51071429, 0.51071429, 0.51071429,\n",
       "       0.51071429, 0.51071429, 0.51071429, 0.51071429, 0.51071429,\n",
       "       0.51071429, 0.51071429, 0.51071429, 0.51071429, 0.51071429,\n",
       "       0.51071429, 0.51071429, 0.51071429, 0.51071429, 0.51071429,\n",
       "       0.51071429, 0.51071429, 0.51071429, 0.51071429, 0.51071429,\n",
       "       0.51071429, 0.41785714, 0.51071429, 0.51071429, 0.51071429,\n",
       "       0.51071429, 0.51071429, 0.41785714, 0.51071429, 0.41785714])"
      ]
     },
     "execution_count": 46,
     "metadata": {},
     "output_type": "execute_result"
    }
   ],
   "source": [
    "            \n",
    "# np_adj/=np_adj.sum(1, keepdims=True)  \n",
    "        \n",
    "\n",
    "np_adj[0]"
   ]
  },
  {
   "cell_type": "code",
   "execution_count": null,
   "id": "c046dba9",
   "metadata": {},
   "outputs": [],
   "source": [
    "import markov_clustering as mc\n",
    "\n",
    "matrix = sp.csr_matrix(np.matrix(np_adj))\n",
    "\n",
    "result = mc.run_mcl(matrix)\n",
    "clusters = mc.get_clusters(result) \n",
    "Q = mc.modularity(matrix=result, clusters=clusters)\n",
    "# print(\"modularity:\", Q)"
   ]
  },
  {
   "cell_type": "code",
   "execution_count": null,
   "id": "84e49d73",
   "metadata": {},
   "outputs": [],
   "source": [
    "len(clusters)"
   ]
  },
  {
   "cell_type": "code",
   "execution_count": null,
   "id": "8b62b84b",
   "metadata": {},
   "outputs": [],
   "source": [
    " "
   ]
  },
  {
   "cell_type": "code",
   "execution_count": null,
   "id": "50c933ea",
   "metadata": {},
   "outputs": [],
   "source": [
    "from scipy.stats import hypergeom\n",
    "import matplotlib.pyplot as plt \n",
    "\n",
    "[M, n, N] = [20, 7, 12]\n",
    "rv = hypergeom(M, n, N)\n",
    "x = np.arange(0, n+1)\n",
    "pmf_dogs = rv.pmf(x)\n",
    "\n",
    "\n",
    "fig = plt.figure()\n",
    "ax = fig.add_subplot(111)\n",
    "ax.plot(x, pmf_dogs, 'bo')\n",
    "ax.vlines(x, 0, pmf_dogs, lw=2)\n",
    "ax.set_xlabel('# of dogs in our group of chosen animals')\n",
    "ax.set_ylabel('hypergeom PMF')\n",
    "plt.show()"
   ]
  },
  {
   "cell_type": "code",
   "execution_count": null,
   "id": "28dfea23",
   "metadata": {},
   "outputs": [],
   "source": [
    "from torch.utils import data\n",
    "from torch.utils.data import DataLoader, TensorDataset\n",
    "class Contig_data(data.Dataset):\n",
    "    def __init__(self, file, type='train'):\n",
    "        self.type = type\n",
    "        self.file = file\n",
    "        # The last column is label, the other columns are the features\n",
    "        df = pd.read_csv(self.file, header = None)\n",
    "        self.labels = df.values[:, -1]\n",
    "        # self.seqs = df.values[:, :-1].astype(np.float32)\n",
    "        self.seqs = df.values[:, : -1].astype(np.float32)\n",
    "\n",
    "    def __len__(self):\n",
    "        return self.seqs.shape[0]\n",
    "\n",
    "    def __getitem__(self, index):\n",
    "        return self.seqs[index], self.labels[index]\n",
    "    \n",
    "test_data = Contig_data(file='../data/xubo_kmer/kmer.csv')\n",
    "test_loader = DataLoader(test_data )\n",
    "for batch_idx, (data, _) in enumerate(test_loader):\n",
    "    print(data.shape)"
   ]
  },
  {
   "cell_type": "code",
   "execution_count": null,
   "id": "04b4d55f",
   "metadata": {},
   "outputs": [],
   "source": [
    "thresh = np.percentile([1,1,1,1,2], 90)"
   ]
  },
  {
   "cell_type": "code",
   "execution_count": null,
   "id": "f391aa42",
   "metadata": {},
   "outputs": [],
   "source": [
    "thresh"
   ]
  },
  {
   "cell_type": "code",
   "execution_count": null,
   "id": "8392dd33",
   "metadata": {},
   "outputs": [],
   "source": []
  }
 ],
 "metadata": {
  "kernelspec": {
   "display_name": "Python 3 (ipykernel)",
   "language": "python",
   "name": "python3"
  },
  "language_info": {
   "codemirror_mode": {
    "name": "ipython",
    "version": 3
   },
   "file_extension": ".py",
   "mimetype": "text/x-python",
   "name": "python",
   "nbconvert_exporter": "python",
   "pygments_lexer": "ipython3",
   "version": "3.9.7"
  }
 },
 "nbformat": 4,
 "nbformat_minor": 5
}
