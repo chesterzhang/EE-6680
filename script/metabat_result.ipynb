{
 "cells": [
  {
   "cell_type": "code",
   "execution_count": 1,
   "id": "46509395",
   "metadata": {},
   "outputs": [],
   "source": [
    "import numpy as np\n",
    "import pandas as pd\n",
    "\n",
    "import operator\n",
    " \n",
    "from sklearn.cluster import KMeans\n",
    "from sklearn import metrics\n",
    "from sklearn.metrics.cluster import adjusted_rand_score\n",
    "from sklearn.metrics.cluster import normalized_mutual_info_score\n"
   ]
  },
  {
   "cell_type": "code",
   "execution_count": 2,
   "id": "d1902e1f",
   "metadata": {},
   "outputs": [],
   "source": [
    "def purity_score(y_true, y_pred):\n",
    "    # compute contingency matrix (also called confusion matrix)\n",
    "    contingency_matrix = metrics.cluster.contingency_matrix(y_true, y_pred)\n",
    "    # return purity\n",
    "    return np.sum(np.amax(contingency_matrix, axis=0)) / np.sum(contingency_matrix)"
   ]
  },
  {
   "cell_type": "code",
   "execution_count": 6,
   "id": "f9658f2b",
   "metadata": {},
   "outputs": [],
   "source": [
    "\n",
    "labelList=pd.read_csv('../data/label.csv',header=None)[1]\n",
    "for i in range(0,len(labelList)):\n",
    "    labelList[i]+=2\n",
    "\n",
    "\n",
    "iDList=pd.read_csv('../data/label.csv',header=None)[0].to_list()\n",
    " "
   ]
  },
  {
   "cell_type": "code",
   "execution_count": 7,
   "id": "845e9c1f",
   "metadata": {},
   "outputs": [
    {
     "data": {
      "text/plain": [
       "315"
      ]
     },
     "execution_count": 7,
     "metadata": {},
     "output_type": "execute_result"
    }
   ],
   "source": [
    "\n",
    "y_pred=[0 for i in range(0,850)]\n",
    "\n",
    "for i in range(1,28):\n",
    "    \n",
    "    with open(f'../data/metabat2_result/bin.{i}.fa') as f:\n",
    " \n",
    "        for line in f.readlines():\n",
    "     \n",
    "            if line.startswith(\">\"):\n",
    "                \n",
    "                key = line[1:].strip()\n",
    "                idx=iDList.index(key)\n",
    "                y_pred[idx]=i\n",
    "                 \n",
    " \n",
    "useless_idx=[]\n",
    "for i in range(0,len(y_pred)):\n",
    "    if y_pred[i]==0:\n",
    "        useless_idx.append(i)\n",
    "y_pred=[x for x in y_pred if x != 0]\n",
    "# len(y_pred)\n",
    "len(useless_idx)"
   ]
  },
  {
   "cell_type": "code",
   "execution_count": 8,
   "id": "79df965c",
   "metadata": {},
   "outputs": [
    {
     "name": "stdout",
     "output_type": "stream",
     "text": [
      "purity :  0.8467289719626169\n",
      "ARI :  0.594876503456489\n",
      "NMI :  0.7519395381631795\n"
     ]
    }
   ],
   "source": [
    "for i in reversed(useless_idx):\n",
    "    del labelList[i]\n",
    "\n",
    "print('purity : ',purity_score(labelList,y_pred))\n",
    "print('ARI : ',adjusted_rand_score(labelList,y_pred))\n",
    "print('NMI : ',normalized_mutual_info_score(labelList,y_pred ))"
   ]
  },
  {
   "cell_type": "code",
   "execution_count": null,
   "id": "c586a6fe",
   "metadata": {},
   "outputs": [],
   "source": []
  },
  {
   "cell_type": "code",
   "execution_count": null,
   "id": "eb907dcf",
   "metadata": {},
   "outputs": [],
   "source": []
  }
 ],
 "metadata": {
  "kernelspec": {
   "display_name": "Python 3 (ipykernel)",
   "language": "python",
   "name": "python3"
  },
  "language_info": {
   "codemirror_mode": {
    "name": "ipython",
    "version": 3
   },
   "file_extension": ".py",
   "mimetype": "text/x-python",
   "name": "python",
   "nbconvert_exporter": "python",
   "pygments_lexer": "ipython3",
   "version": "3.9.7"
  }
 },
 "nbformat": 4,
 "nbformat_minor": 5
}
