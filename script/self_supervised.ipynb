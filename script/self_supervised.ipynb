{
 "cells": [
  {
   "cell_type": "code",
   "execution_count": 1,
   "id": "87902e92",
   "metadata": {},
   "outputs": [],
   "source": [
    "import itertools\n",
    "import os\n",
    "import os.path as osp\n",
    "import pickle\n",
    "import urllib\n",
    "from collections import namedtuple\n",
    "\n",
    "import numpy as np\n",
    "import scipy.sparse as sp\n",
    "import torch\n",
    "import torch.nn as nn\n",
    "import torch.nn.functional as F\n",
    "import torch.nn.init as init\n",
    "import torch.optim as optim\n",
    "import matplotlib.pyplot as plt\n",
    "from torch.nn import Linear \n",
    "\n",
    "from matplotlib.ticker import MultipleLocator, FormatStrFormatter\n",
    "import pandas as pd\n",
    "from sklearn.cluster import KMeans\n",
    "from sklearn import metrics\n",
    "from sklearn.metrics.cluster import adjusted_rand_score\n",
    "from sklearn.metrics.cluster import normalized_mutual_info_score\n",
    "import random\n",
    "import scipy.stats\n",
    "\n",
    "%matplotlib inline"
   ]
  },
  {
   "cell_type": "code",
   "execution_count": 2,
   "id": "a95a8c12",
   "metadata": {},
   "outputs": [],
   "source": [
    "\n",
    "\n",
    "def tensor_from_numpy(x, device):\n",
    "    return torch.from_numpy(x).to(device)\n"
   ]
  },
  {
   "cell_type": "code",
   "execution_count": 3,
   "id": "09b6641f",
   "metadata": {},
   "outputs": [],
   "source": [
    "class GraphConvolution(nn.Module):\n",
    "    def __init__(self, input_dim, output_dim, use_bias=True):\n",
    "        \"\"\"图卷积：L*X*\\theta\n",
    "\n",
    "        Args:\n",
    "        ----------\n",
    "            input_dim: int\n",
    "                节点输入特征的维度\n",
    "            output_dim: int\n",
    "                输出特征维度\n",
    "            use_bias : bool, optional\n",
    "                是否使用偏置\n",
    "        \"\"\"\n",
    "        super(GraphConvolution, self).__init__()\n",
    "        self.input_dim = input_dim\n",
    "        self.output_dim = output_dim\n",
    "        self.use_bias = use_bias\n",
    "        self.weight = nn.Parameter(torch.Tensor(input_dim, output_dim))\n",
    "        if self.use_bias:\n",
    "            self.bias = nn.Parameter(torch.Tensor(output_dim))\n",
    "        else:\n",
    "            self.register_parameter('bias', None)\n",
    "        self.reset_parameters()\n",
    "\n",
    "    def reset_parameters(self):\n",
    "        init.kaiming_uniform_(self.weight)\n",
    "        if self.use_bias:\n",
    "            init.zeros_(self.bias)\n",
    "\n",
    "    def forward(self, adjacency, input_feature):\n",
    "        \"\"\"邻接矩阵是稀疏矩阵，因此在计算时使用稀疏矩阵乘法\n",
    "    \n",
    "        Args: \n",
    "        -------\n",
    "            adjacency: torch.sparse.FloatTensor\n",
    "                邻接矩阵\n",
    "            input_feature: torch.Tensor\n",
    "                输入特征\n",
    "        \"\"\"\n",
    "        support = torch.mm(input_feature, self.weight)\n",
    "        output = torch.sparse.mm(adjacency, support)\n",
    "        if self.use_bias:\n",
    "            output += self.bias\n",
    "        return output\n",
    "\n",
    "    def __repr__(self):\n",
    "        return self.__class__.__name__ + ' (' \\\n",
    "            + str(self.input_dim) + ' -> ' \\\n",
    "            + str(self.output_dim) + ')'\n",
    "\n",
    "\n"
   ]
  },
  {
   "cell_type": "code",
   "execution_count": 166,
   "id": "f7520cac",
   "metadata": {},
   "outputs": [],
   "source": [
    "class GcnNet(nn.Module):\n",
    "    \"\"\"\n",
    "    定义一个 GraphConvolution的模型\n",
    "    \"\"\"\n",
    "    def __init__(self, input_dim=1433):\n",
    "        super(GcnNet, self).__init__()\n",
    "        self.gcn1 = GraphConvolution(input_dim, 940)\n",
    "        self.gcn2 = GraphConvolution(940,400)\n",
    "        self.gcn3 = GraphConvolution(400,150 )\n",
    "        self.gcn4 = GraphConvolution(150, 36)\n",
    "        self.gcn5 = GraphConvolution(36, 150)\n",
    "        self.gcn6 = GraphConvolution(150, 400)\n",
    "        self.gcn7 = GraphConvolution(400, 940)\n",
    "        self.gcn8 = GraphConvolution(940, input_dim)\n",
    "        \n",
    "        self.h1=None\n",
    "        self.h2=None\n",
    "        self.h3=None\n",
    "        self.h4=None\n",
    "        self.h5=None\n",
    "        self.h6=None\n",
    "        self.h7=None\n",
    "        self.h8=None\n",
    "    \n",
    "    def forward(self, adjacency, feature):\n",
    "        self.h1 = F.relu(self.gcn1(adjacency, feature))\n",
    "        self.h1 = F.normalize(self.h1)\n",
    "        \n",
    "        self.h2  = F.sigmoid(self.gcn2(adjacency, self.h1))\n",
    "        self.h2 = F.normalize(self.h2)\n",
    "        \n",
    "        self.h3 = F.relu(self.gcn3(adjacency, self.h2))\n",
    "        self.h3 = F.normalize(self.h3)\n",
    "        \n",
    "        self.h4  = F.sigmoid(self.gcn4(adjacency, self.h3))\n",
    "        self.h4 = F.normalize(self.h4)\n",
    "        \n",
    "        self.h5  = F.relu(self.gcn5(adjacency, self.h4))\n",
    "        self.h5 = F.normalize(self.h5)\n",
    "        \n",
    "        self.h6  = F.sigmoid(self.gcn6(adjacency, self.h5))\n",
    "        self.h6 = F.normalize(self.h6)\n",
    "        \n",
    "        self.h7  = F.relu(self.gcn7(adjacency, self.h6))\n",
    "        self.h7 = F.normalize(self.h7)\n",
    "        \n",
    "        self.h8  = self.gcn8(adjacency, self.h7)\n",
    "#         self.h8 = F.normalize(self.h8)\n",
    "        return  self.h8\n"
   ]
  },
  {
   "cell_type": "code",
   "execution_count": 167,
   "id": "f16fd8e3",
   "metadata": {},
   "outputs": [],
   "source": [
    "# 超参数定义\n",
    "LEARNING_RATE = 0.001\n",
    "WEIGHT_DACAY = 1e-4\n",
    "EPOCHS = 10\n",
    "DEVICE = \"cuda\" if torch.cuda.is_available() else \"cpu\"\n"
   ]
  },
  {
   "cell_type": "code",
   "execution_count": 168,
   "id": "9a89892a",
   "metadata": {},
   "outputs": [],
   "source": [
    "node_feature = np.load('../data/X_np/X.npy')\n",
    "node_feature2= np.zeros(shape=[850,1879],dtype=np.float32)\n",
    "node_feature2[:,0:256]=node_feature[:, 0:256]\n",
    "\n",
    "for i in range(0,850):\n",
    "    for j in range(0,1623):\n",
    "        try:\n",
    "            node_feature2[i][j+256]=max(node_feature[i,256+5*j: 256+j*5+5]) \n",
    "        except:\n",
    "            print(j)\n",
    "            break\n",
    "            \n",
    "node_feature2/=node_feature2.sum(1, keepdims=True)   "
   ]
  },
  {
   "cell_type": "code",
   "execution_count": 169,
   "id": "121a572f",
   "metadata": {},
   "outputs": [],
   "source": [
    "\n",
    "\n",
    "\n",
    "tensor_x = tensor_from_numpy(node_feature2, DEVICE)\n",
    "labelList=pd.read_csv('../data/label.csv',header=None)[1]\n",
    "for i in range(0,len(labelList)):\n",
    "    labelList[i]+=1\n",
    "\n",
    "\n",
    "\n",
    "\n",
    "train_mask=[True for i in range(0,850)]\n",
    "tensor_train_mask = tensor_from_numpy(np.array(train_mask), DEVICE )\n",
    "\n",
    "\n",
    "adjacency=np.load('../data/A_np/A.npy')\n",
    "\n",
    "# kmer_dist=np.load('../data/kmer4/kmer_dist.npy')\n",
    "\n",
    "# \n",
    "# for i in range(0,850):\n",
    "#     for j in range(i+1,850):\n",
    "#         N_intra=scipy.stats.norm(255.15088262236475, 21380.59836464786).cdf(kmer_dist[i][j])\n",
    "#         N_inter=scipy.stats.norm(233.925124929788, 18903.327684868505).cdf(kmer_dist[i][j])\n",
    "#         adjacency[i][j]=N_intra/(N_intra+N_inter)\n",
    "        \n",
    "# for i in range(1,850):\n",
    "#     for j in range(0,i):\n",
    "#         adjacency[i][j]=kmer_dist[j][i]\n",
    "\n",
    "\n",
    "\n",
    "        \n",
    "adjacency=np.eye(adjacency.shape[0])\n",
    "        \n",
    "adjacency=adjacency.astype(np.double)\n",
    "adjacency = sp.csr_matrix(adjacency)\n",
    "adjacency = sp.coo_matrix(adjacency)\n",
    "adjacency += sp.eye(adjacency.shape[0])    # 增加自连接\n",
    "degree = np.array(adjacency.sum(1))\n",
    "d_hat = sp.diags(np.power(degree, -0.5).flatten())\n",
    "normalize_adjacency = d_hat.dot(adjacency).dot(d_hat).tocoo()  # 规范化邻接矩阵\n",
    "\n",
    "\n",
    "#num_nodes, input_dim = node_feature.shape #\n",
    "\n",
    "num_nodes, input_dim = node_feature2.shape\n",
    "\n",
    "indices = torch.from_numpy(np.asarray([normalize_adjacency.row, \n",
    "                                       normalize_adjacency.col]).astype('int64')).long()\n",
    "values = torch.from_numpy(normalize_adjacency.data.astype(np.float32))\n",
    "tensor_adjacency = torch.sparse.FloatTensor(indices, values, \n",
    "                                            (num_nodes, num_nodes)).to(DEVICE)"
   ]
  },
  {
   "cell_type": "code",
   "execution_count": 170,
   "id": "840ae554",
   "metadata": {},
   "outputs": [],
   "source": [
    "# 模型定义：Model, Loss, Optimizer\n",
    "model = GcnNet(input_dim).to(DEVICE)\n",
    "criterion = nn.CrossEntropyLoss().to(DEVICE)\n",
    "optimizer = optim.Adam(model.parameters(), \n",
    "                       lr=LEARNING_RATE, \n",
    "                       weight_decay=WEIGHT_DACAY)"
   ]
  },
  {
   "cell_type": "code",
   "execution_count": 171,
   "id": "85a682d9",
   "metadata": {},
   "outputs": [],
   "source": [
    "# 训练主体函数\n",
    "def train():\n",
    "    loss_history = []\n",
    "    val_acc_history = []\n",
    "    model.train()\n",
    "#     train_y = tensor_y[tensor_train_mask]\n",
    "    for epoch in range(EPOCHS):\n",
    "        # tensor_adjacency 也就是 A 矩阵, tensor_x 也就是 X 矩阵\n",
    "        logits = model(tensor_adjacency, tensor_x)  # 前向传播\n",
    "        train_mask_logits = logits[tensor_train_mask]   # 只选择训练节点进行监督\n",
    " \n",
    "    \n",
    "        criterion=nn.MSELoss(reduction='mean')\n",
    "        loss = criterion(train_mask_logits, tensor_x)\n",
    "        optimizer.zero_grad()\n",
    "        loss.backward()     # 反向传播计算参数的梯度\n",
    "        optimizer.step()    # 使用优化方法进行梯度更新\n",
    " \n",
    "        loss_history.append(loss.item())\n",
    " \n",
    "    return loss_history, model.h4\n"
   ]
  },
  {
   "cell_type": "code",
   "execution_count": null,
   "id": "86b45d64",
   "metadata": {},
   "outputs": [],
   "source": []
  },
  {
   "cell_type": "code",
   "execution_count": 184,
   "id": "e1ce35e2",
   "metadata": {},
   "outputs": [
    {
     "name": "stderr",
     "output_type": "stream",
     "text": [
      "C:\\Users\\Chester_Zhang\\anaconda3\\lib\\site-packages\\torch\\nn\\functional.py:1806: UserWarning: nn.functional.sigmoid is deprecated. Use torch.sigmoid instead.\n",
      "  warnings.warn(\"nn.functional.sigmoid is deprecated. Use torch.sigmoid instead.\")\n"
     ]
    },
    {
     "name": "stdout",
     "output_type": "stream",
     "text": [
      "[2.0469340597628616e-05, 2.026006768574007e-05, 1.846560917329043e-05, 1.5896701370365918e-05, 1.351081118627917e-05, 1.1920058568648528e-05, 1.1337535397615284e-05, 1.1633375834207982e-05, 1.2429096386767924e-05, 1.3252993994683493e-05]\n"
     ]
    }
   ],
   "source": [
    "loss,feature_layer = train()\n",
    " \n",
    "print(loss)"
   ]
  },
  {
   "cell_type": "code",
   "execution_count": 185,
   "id": "97e6f3db",
   "metadata": {},
   "outputs": [],
   "source": [
    "def plot_loss_with_acc(loss_history, val_acc_history):\n",
    "    fig = plt.figure()\n",
    "    ax1 = fig.add_subplot(111)\n",
    "    ax1.plot(range(len(loss_history)), loss_history,\n",
    "             c=np.array([255, 71, 90]) / 255.)\n",
    "    plt.ylabel('Loss')\n",
    "    \n",
    "\n",
    "    \n",
    "    plt.xlabel('Epoch')\n",
    "    plt.title('Training Loss ')\n",
    "    plt.show() "
   ]
  },
  {
   "cell_type": "code",
   "execution_count": 186,
   "id": "4f0bc1db",
   "metadata": {},
   "outputs": [
    {
     "data": {
      "image/png": "[encoded data removed]",
      "text/plain": [
       "<Figure size 432x288 with 1 Axes>"
      ]
     },
     "metadata": {
      "needs_background": "light"
     },
     "output_type": "display_data"
    }
   ],
   "source": [
    "plot_loss_with_acc(loss, [])"
   ]
  },
  {
   "cell_type": "code",
   "execution_count": 187,
   "id": "b05c7d16",
   "metadata": {},
   "outputs": [],
   "source": [
    "feature_np=feature_layer.detach().numpy()\n",
    "feature_np/=feature_np.sum(1, keepdims=True)\n"
   ]
  },
  {
   "cell_type": "code",
   "execution_count": 188,
   "id": "d3fdf0f8",
   "metadata": {},
   "outputs": [],
   "source": [
    "kmeans = KMeans(n_clusters=12,init='k-means++').fit(feature_np)\n",
    "\n",
    "# y_pred = KMeans(n_clusters=12,init='k-means++').fit_predict(feature_layer.detach().numpy())\n",
    "\n"
   ]
  },
  {
   "cell_type": "code",
   "execution_count": 189,
   "id": "0c588fde",
   "metadata": {},
   "outputs": [
    {
     "name": "stdout",
     "output_type": "stream",
     "text": [
      "purity :  0.7505882352941177\n",
      "ARI :  0.6117878729409781\n",
      "NMI :  0.7192358214773148\n"
     ]
    }
   ],
   "source": [
    "\n",
    "\n",
    "def purity_score(y_true, y_pred):\n",
    "    # compute contingency matrix (also called confusion matrix)\n",
    "    contingency_matrix = metrics.cluster.contingency_matrix(y_true, y_pred)\n",
    "    # return purity\n",
    "    return np.sum(np.amax(contingency_matrix, axis=0)) / np.sum(contingency_matrix)\n",
    "\n",
    "print('purity : ',purity_score(labelList,kmeans.labels_ ))\n",
    "print('ARI : ',adjusted_rand_score(labelList,kmeans.labels_))\n",
    "print('NMI : ',normalized_mutual_info_score(labelList,kmeans.labels_ ))"
   ]
  },
  {
   "cell_type": "code",
   "execution_count": null,
   "id": "0edd63aa",
   "metadata": {},
   "outputs": [],
   "source": [
    " "
   ]
  },
  {
   "cell_type": "code",
   "execution_count": null,
   "id": "4e01ac9c",
   "metadata": {},
   "outputs": [],
   "source": [
    " "
   ]
  },
  {
   "cell_type": "code",
   "execution_count": null,
   "id": "d6ef21fe",
   "metadata": {},
   "outputs": [],
   "source": [
    " "
   ]
  },
  {
   "cell_type": "code",
   "execution_count": null,
   "id": "e55049aa",
   "metadata": {},
   "outputs": [],
   "source": [
    " "
   ]
  },
  {
   "cell_type": "code",
   "execution_count": null,
   "id": "40654f50",
   "metadata": {},
   "outputs": [],
   "source": []
  },
  {
   "cell_type": "code",
   "execution_count": null,
   "id": "e3ae4239",
   "metadata": {},
   "outputs": [],
   "source": []
  },
  {
   "cell_type": "code",
   "execution_count": null,
   "id": "79b6ee12",
   "metadata": {},
   "outputs": [],
   "source": []
  },
  {
   "cell_type": "code",
   "execution_count": null,
   "id": "e44febed",
   "metadata": {},
   "outputs": [],
   "source": []
  },
  {
   "cell_type": "code",
   "execution_count": null,
   "id": "8b3c82d4",
   "metadata": {},
   "outputs": [],
   "source": []
  }
 ],
 "metadata": {
  "kernelspec": {
   "display_name": "Python 3 (ipykernel)",
   "language": "python",
   "name": "python3"
  },
  "language_info": {
   "codemirror_mode": {
    "name": "ipython",
    "version": 3
   },
   "file_extension": ".py",
   "mimetype": "text/x-python",
   "name": "python",
   "nbconvert_exporter": "python",
   "pygments_lexer": "ipython3",
   "version": "3.9.7"
  }
 },
 "nbformat": 4,
 "nbformat_minor": 5
}
